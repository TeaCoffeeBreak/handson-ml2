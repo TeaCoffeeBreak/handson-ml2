{
 "cells": [
  {
   "cell_type": "markdown",
   "metadata": {},
   "source": [
    "**Chapter 10 – Introduction to Artificial Neural Networks with Keras**\n",
    "\n",
    "_This notebook contains all the sample code and solutions to the exercises in chapter 10._"
   ]
  },
  {
   "cell_type": "markdown",
   "metadata": {},
   "source": [
    "<table align=\"left\">\n",
    "  <td>\n",
    "    <a target=\"_blank\" href=\"https://colab.research.google.com/github/TeaCoffeeBreak/handson-ml2/blob/master/10_neural_nets_with_keras.ipynb\"><img src=\"https://www.tensorflow.org/images/colab_logo_32px.png\" />Run in Google Colab</a>\n",
    "  </td>\n",
    "</table>"
   ]
  },
  {
   "cell_type": "markdown",
   "metadata": {},
   "source": [
    "# Setup"
   ]
  },
  {
   "cell_type": "markdown",
   "metadata": {},
   "source": [
    "First, let's import a few common modules, ensure MatplotLib plots figures inline and prepare a function to save the figures. We also check that Python 3.5 or later is installed (although Python 2.x may work, it is deprecated so we strongly recommend you use Python 3 instead), as well as Scikit-Learn ≥0.20 and TensorFlow ≥2.0."
   ]
  },
  {
   "cell_type": "code",
   "execution_count": 1,
   "metadata": {},
   "outputs": [],
   "source": [
    "# Python ≥3.5 is required\n",
    "import sys\n",
    "assert sys.version_info >= (3, 5)\n",
    "\n",
    "# Scikit-Learn ≥0.20 is required\n",
    "import sklearn\n",
    "assert sklearn.__version__ >= \"0.20\"\n",
    "\n",
    "try:\n",
    "    # %tensorflow_version only exists in Colab.\n",
    "    %tensorflow_version 2.x\n",
    "except Exception:\n",
    "    pass\n",
    "\n",
    "# TensorFlow ≥2.0 is required\n",
    "import tensorflow as tf\n",
    "assert tf.__version__ >= \"2.0\"\n",
    "\n",
    "# Common imports\n",
    "import numpy as np\n",
    "import os\n",
    "\n",
    "# to make this notebook's output stable across runs\n",
    "np.random.seed(42)\n",
    "\n",
    "# To plot pretty figures\n",
    "%matplotlib inline\n",
    "import matplotlib as mpl\n",
    "import matplotlib.pyplot as plt\n",
    "mpl.rc('axes', labelsize=14)\n",
    "mpl.rc('xtick', labelsize=12)\n",
    "mpl.rc('ytick', labelsize=12)\n",
    "\n",
    "# Where to save the figures\n",
    "PROJECT_ROOT_DIR = \".\"\n",
    "CHAPTER_ID = \"ann\"\n",
    "IMAGES_PATH = os.path.join(PROJECT_ROOT_DIR, \"images\", CHAPTER_ID)\n",
    "os.makedirs(IMAGES_PATH, exist_ok=True)\n",
    "\n",
    "def save_fig(fig_id, tight_layout=True, fig_extension=\"png\", resolution=300):\n",
    "    path = os.path.join(IMAGES_PATH, fig_id + \".\" + fig_extension)\n",
    "    print(\"Saving figure\", fig_id)\n",
    "    if tight_layout:\n",
    "        plt.tight_layout()\n",
    "    plt.savefig(path, format=fig_extension, dpi=resolution)\n",
    "\n",
    "# Ignore useless warnings (see SciPy issue #5998)\n",
    "import warnings\n",
    "warnings.filterwarnings(action=\"ignore\", message=\"^internal gelsd\")"
   ]
  },
  {
   "cell_type": "markdown",
   "metadata": {},
   "source": [
    "# Perceptrons"
   ]
  },
  {
   "cell_type": "markdown",
   "metadata": {},
   "source": [
    "**Note**: we set `max_iter` and `tol` explicitly to avoid warnings about the fact that their default value will change in future versions of Scikit-Learn."
   ]
  },
  {
   "cell_type": "code",
   "execution_count": 2,
   "metadata": {},
   "outputs": [],
   "source": [
    "import numpy as np\n",
    "from sklearn.datasets import load_iris\n",
    "from sklearn.linear_model import Perceptron\n",
    "\n",
    "iris = load_iris()\n",
    "X = iris.data[:, (2, 3)]  # petal length, petal width\n",
    "y = (iris.target == 0).astype(np.int)\n",
    "\n",
    "per_clf = Perceptron(max_iter=1000, tol=1e-3, random_state=42)\n",
    "per_clf.fit(X, y)\n",
    "\n",
    "y_pred = per_clf.predict([[2, 0.5]])"
   ]
  },
  {
   "cell_type": "code",
   "execution_count": 3,
   "metadata": {},
   "outputs": [
    {
     "data": {
      "text/plain": [
       "array([1])"
      ]
     },
     "execution_count": 3,
     "metadata": {},
     "output_type": "execute_result"
    }
   ],
   "source": [
    "y_pred"
   ]
  },
  {
   "cell_type": "code",
   "execution_count": 4,
   "metadata": {},
   "outputs": [
    {
     "name": "stdout",
     "output_type": "stream",
     "text": [
      "Saving figure perceptron_iris_plot\n"
     ]
    },
    {
     "data": {
      "image/png": "[encoded data removed]",
      "text/plain": [
       "<Figure size 720x288 with 1 Axes>"
      ]
     },
     "metadata": {
      "needs_background": "light"
     },
     "output_type": "display_data"
    }
   ],
   "source": [
    "a = -per_clf.coef_[0][0] / per_clf.coef_[0][1]\n",
    "b = -per_clf.intercept_ / per_clf.coef_[0][1]\n",
    "\n",
    "axes = [0, 5, 0, 2]\n",
    "\n",
    "x0, x1 = np.meshgrid(\n",
    "        np.linspace(axes[0], axes[1], 500).reshape(-1, 1),\n",
    "        np.linspace(axes[2], axes[3], 200).reshape(-1, 1),\n",
    "    )\n",
    "X_new = np.c_[x0.ravel(), x1.ravel()]\n",
    "y_predict = per_clf.predict(X_new)\n",
    "zz = y_predict.reshape(x0.shape)\n",
    "\n",
    "plt.figure(figsize=(10, 4))\n",
    "plt.plot(X[y==0, 0], X[y==0, 1], \"bs\", label=\"Not Iris-Setosa\")\n",
    "plt.plot(X[y==1, 0], X[y==1, 1], \"yo\", label=\"Iris-Setosa\")\n",
    "\n",
    "plt.plot([axes[0], axes[1]], [a * axes[0] + b, a * axes[1] + b], \"k-\", linewidth=3)\n",
    "from matplotlib.colors import ListedColormap\n",
    "custom_cmap = ListedColormap(['#9898ff', '#fafab0'])\n",
    "\n",
    "plt.contourf(x0, x1, zz, cmap=custom_cmap)\n",
    "plt.xlabel(\"Petal length\", fontsize=14)\n",
    "plt.ylabel(\"Petal width\", fontsize=14)\n",
    "plt.legend(loc=\"lower right\", fontsize=14)\n",
    "plt.axis(axes)\n",
    "\n",
    "save_fig(\"perceptron_iris_plot\")\n",
    "plt.show()"
   ]
  },
  {
   "cell_type": "markdown",
   "metadata": {},
   "source": [
    "# Activation functions"
   ]
  },
  {
   "cell_type": "code",
   "execution_count": 5,
   "metadata": {},
   "outputs": [],
   "source": [
    "def sigmoid(z):\n",
    "    return 1 / (1 + np.exp(-z))\n",
    "\n",
    "def relu(z):\n",
    "    return np.maximum(0, z)\n",
    "\n",
    "def derivative(f, z, eps=0.000001):\n",
    "    return (f(z + eps) - f(z - eps))/(2 * eps)"
   ]
  },
  {
   "cell_type": "code",
   "execution_count": 6,
   "metadata": {},
   "outputs": [
    {
     "name": "stdout",
     "output_type": "stream",
     "text": [
      "Saving figure activation_functions_plot\n"
     ]
    },
    {
     "data": {
      "image/png": "[encoded data removed]",
      "text/plain": [
       "<Figure size 792x288 with 2 Axes>"
      ]
     },
     "metadata": {
      "needs_background": "light"
     },
     "output_type": "display_data"
    }
   ],
   "source": [
    "z = np.linspace(-5, 5, 200)\n",
    "\n",
    "plt.figure(figsize=(11,4))\n",
    "\n",
    "plt.subplot(121)\n",
    "plt.plot(z, np.sign(z), \"r-\", linewidth=1, label=\"Step\")\n",
    "plt.plot(z, sigmoid(z), \"g--\", linewidth=2, label=\"Sigmoid\")\n",
    "plt.plot(z, np.tanh(z), \"b-\", linewidth=2, label=\"Tanh\")\n",
    "plt.plot(z, relu(z), \"m-.\", linewidth=2, label=\"ReLU\")\n",
    "plt.grid(True)\n",
    "plt.legend(loc=\"center right\", fontsize=14)\n",
    "plt.title(\"Activation functions\", fontsize=14)\n",
    "plt.axis([-5, 5, -1.2, 1.2])\n",
    "\n",
    "plt.subplot(122)\n",
    "plt.plot(z, derivative(np.sign, z), \"r-\", linewidth=1, label=\"Step\")\n",
    "plt.plot(0, 0, \"ro\", markersize=5)\n",
    "plt.plot(0, 0, \"rx\", markersize=10)\n",
    "plt.plot(z, derivative(sigmoid, z), \"g--\", linewidth=2, label=\"Sigmoid\")\n",
    "plt.plot(z, derivative(np.tanh, z), \"b-\", linewidth=2, label=\"Tanh\")\n",
    "plt.plot(z, derivative(relu, z), \"m-.\", linewidth=2, label=\"ReLU\")\n",
    "plt.grid(True)\n",
    "#plt.legend(loc=\"center right\", fontsize=14)\n",
    "plt.title(\"Derivatives\", fontsize=14)\n",
    "plt.axis([-5, 5, -0.2, 1.2])\n",
    "\n",
    "save_fig(\"activation_functions_plot\")\n",
    "plt.show()"
   ]
  },
  {
   "cell_type": "code",
   "execution_count": 7,
   "metadata": {},
   "outputs": [],
   "source": [
    "def heaviside(z):\n",
    "    return (z >= 0).astype(z.dtype)\n",
    "\n",
    "def mlp_xor(x1, x2, activation=heaviside):\n",
    "    return activation(-activation(x1 + x2 - 1.5) + activation(x1 + x2 - 0.5) - 0.5)"
   ]
  },
  {
   "cell_type": "code",
   "execution_count": 8,
   "metadata": {
    "scrolled": true
   },
   "outputs": [
    {
     "data": {
      "image/png": "[encoded data removed]",
      "text/plain": [
       "<Figure size 720x288 with 2 Axes>"
      ]
     },
     "metadata": {
      "needs_background": "light"
     },
     "output_type": "display_data"
    }
   ],
   "source": [
    "x1s = np.linspace(-0.2, 1.2, 100)\n",
    "x2s = np.linspace(-0.2, 1.2, 100)\n",
    "x1, x2 = np.meshgrid(x1s, x2s)\n",
    "\n",
    "z1 = mlp_xor(x1, x2, activation=heaviside)\n",
    "z2 = mlp_xor(x1, x2, activation=sigmoid)\n",
    "\n",
    "plt.figure(figsize=(10,4))\n",
    "\n",
    "plt.subplot(121)\n",
    "plt.contourf(x1, x2, z1)\n",
    "plt.plot([0, 1], [0, 1], \"gs\", markersize=20)\n",
    "plt.plot([0, 1], [1, 0], \"y^\", markersize=20)\n",
    "plt.title(\"Activation function: heaviside\", fontsize=14)\n",
    "plt.grid(True)\n",
    "\n",
    "plt.subplot(122)\n",
    "plt.contourf(x1, x2, z2)\n",
    "plt.plot([0, 1], [0, 1], \"gs\", markersize=20)\n",
    "plt.plot([0, 1], [1, 0], \"y^\", markersize=20)\n",
    "plt.title(\"Activation function: sigmoid\", fontsize=14)\n",
    "plt.grid(True)"
   ]
  },
  {
   "cell_type": "markdown",
   "metadata": {},
   "source": [
    "# Building an Image Classifier"
   ]
  },
  {
   "cell_type": "markdown",
   "metadata": {},
   "source": [
    "First let's import TensorFlow and Keras."
   ]
  },
  {
   "cell_type": "code",
   "execution_count": 9,
   "metadata": {},
   "outputs": [],
   "source": [
    "import tensorflow as tf\n",
    "from tensorflow import keras"
   ]
  },
  {
   "cell_type": "code",
   "execution_count": 10,
   "metadata": {},
   "outputs": [
    {
     "data": {
      "text/plain": [
       "'2.5.0-dev20210106'"
      ]
     },
     "execution_count": 10,
     "metadata": {},
     "output_type": "execute_result"
    }
   ],
   "source": [
    "tf.__version__"
   ]
  },
  {
   "cell_type": "code",
   "execution_count": 11,
   "metadata": {},
   "outputs": [
    {
     "data": {
      "text/plain": [
       "'2.5.0'"
      ]
     },
     "execution_count": 11,
     "metadata": {},
     "output_type": "execute_result"
    }
   ],
   "source": [
    "keras.__version__"
   ]
  },
  {
   "cell_type": "markdown",
   "metadata": {},
   "source": [
    "Let's start by loading the fashion MNIST dataset. Keras has a number of functions to load popular datasets in `keras.datasets`. The dataset is already split for you between a training set and a test set, but it can be useful to split the training set further to have a validation set:"
   ]
  },
  {
   "cell_type": "code",
   "execution_count": 12,
   "metadata": {},
   "outputs": [],
   "source": [
    "fashion_mnist = keras.datasets.fashion_mnist\n",
    "(X_train_full, y_train_full), (X_test, y_test) = fashion_mnist.load_data()"
   ]
  },
  {
   "cell_type": "markdown",
   "metadata": {},
   "source": [
    "The training set contains 60,000 grayscale images, each 28x28 pixels:"
   ]
  },
  {
   "cell_type": "code",
   "execution_count": 13,
   "metadata": {},
   "outputs": [
    {
     "data": {
      "text/plain": [
       "(60000, 28, 28)"
      ]
     },
     "execution_count": 13,
     "metadata": {},
     "output_type": "execute_result"
    }
   ],
   "source": [
    "X_train_full.shape"
   ]
  },
  {
   "cell_type": "markdown",
   "metadata": {},
   "source": [
    "Each pixel intensity is represented as a byte (0 to 255):"
   ]
  },
  {
   "cell_type": "code",
   "execution_count": 14,
   "metadata": {},
   "outputs": [
    {
     "data": {
      "text/plain": [
       "dtype('uint8')"
      ]
     },
     "execution_count": 14,
     "metadata": {},
     "output_type": "execute_result"
    }
   ],
   "source": [
    "X_train_full.dtype"
   ]
  },
  {
   "cell_type": "markdown",
   "metadata": {},
   "source": [
    "Let's split the full training set into a validation set and a (smaller) training set. We also scale the pixel intensities down to the 0-1 range and convert them to floats, by dividing by 255."
   ]
  },
  {
   "cell_type": "code",
   "execution_count": 15,
   "metadata": {},
   "outputs": [],
   "source": [
    "X_valid, X_train = X_train_full[:5000] / 255., X_train_full[5000:] / 255.\n",
    "y_valid, y_train = y_train_full[:5000], y_train_full[5000:]\n",
    "X_test = X_test / 255."
   ]
  },
  {
   "cell_type": "markdown",
   "metadata": {},
   "source": [
    "You can plot an image using Matplotlib's `imshow()` function, with a `'binary'`\n",
    " color map:"
   ]
  },
  {
   "cell_type": "code",
   "execution_count": 16,
   "metadata": {},
   "outputs": [
    {
     "data": {
      "image/png": "[encoded data removed]",
      "text/plain": [
       "<Figure size 432x288 with 1 Axes>"
      ]
     },
     "metadata": {
      "needs_background": "light"
     },
     "output_type": "display_data"
    }
   ],
   "source": [
    "plt.imshow(X_train[0], cmap=\"binary\")\n",
    "plt.axis('off')\n",
    "plt.show()"
   ]
  },
  {
   "cell_type": "markdown",
   "metadata": {},
   "source": [
    "The labels are the class IDs (represented as uint8), from 0 to 9:"
   ]
  },
  {
   "cell_type": "code",
   "execution_count": 17,
   "metadata": {},
   "outputs": [
    {
     "data": {
      "text/plain": [
       "array([4, 0, 7, ..., 3, 0, 5], dtype=uint8)"
      ]
     },
     "execution_count": 17,
     "metadata": {},
     "output_type": "execute_result"
    }
   ],
   "source": [
    "y_train"
   ]
  },
  {
   "cell_type": "markdown",
   "metadata": {},
   "source": [
    "Here are the corresponding class names:"
   ]
  },
  {
   "cell_type": "code",
   "execution_count": 18,
   "metadata": {},
   "outputs": [],
   "source": [
    "class_names = [\"T-shirt/top\", \"Trouser\", \"Pullover\", \"Dress\", \"Coat\",\n",
    "               \"Sandal\", \"Shirt\", \"Sneaker\", \"Bag\", \"Ankle boot\"]"
   ]
  },
  {
   "cell_type": "markdown",
   "metadata": {},
   "source": [
    "So the first image in the training set is a coat:"
   ]
  },
  {
   "cell_type": "code",
   "execution_count": 19,
   "metadata": {},
   "outputs": [
    {
     "data": {
      "text/plain": [
       "'Coat'"
      ]
     },
     "execution_count": 19,
     "metadata": {},
     "output_type": "execute_result"
    }
   ],
   "source": [
    "class_names[y_train[0]]"
   ]
  },
  {
   "cell_type": "markdown",
   "metadata": {},
   "source": [
    "The validation set contains 5,000 images, and the test set contains 10,000 images:"
   ]
  },
  {
   "cell_type": "code",
   "execution_count": 20,
   "metadata": {},
   "outputs": [
    {
     "data": {
      "text/plain": [
       "(5000, 28, 28)"
      ]
     },
     "execution_count": 20,
     "metadata": {},
     "output_type": "execute_result"
    }
   ],
   "source": [
    "X_valid.shape"
   ]
  },
  {
   "cell_type": "code",
   "execution_count": 21,
   "metadata": {},
   "outputs": [
    {
     "data": {
      "text/plain": [
       "(10000, 28, 28)"
      ]
     },
     "execution_count": 21,
     "metadata": {},
     "output_type": "execute_result"
    }
   ],
   "source": [
    "X_test.shape"
   ]
  },
  {
   "cell_type": "markdown",
   "metadata": {},
   "source": [
    "Let's take a look at a sample of the images in the dataset:"
   ]
  },
  {
   "cell_type": "code",
   "execution_count": 22,
   "metadata": {},
   "outputs": [
    {
     "name": "stdout",
     "output_type": "stream",
     "text": [
      "Saving figure fashion_mnist_plot\n"
     ]
    },
    {
     "data": {
      "image/png": "[encoded data removed]",
      "text/plain": [
       "<Figure size 864x345.6 with 40 Axes>"
      ]
     },
     "metadata": {
      "needs_background": "light"
     },
     "output_type": "display_data"
    }
   ],
   "source": [
    "n_rows = 4\n",
    "n_cols = 10\n",
    "plt.figure(figsize=(n_cols * 1.2, n_rows * 1.2))\n",
    "for row in range(n_rows):\n",
    "    for col in range(n_cols):\n",
    "        index = n_cols * row + col\n",
    "        plt.subplot(n_rows, n_cols, index + 1)\n",
    "        plt.imshow(X_train[index], cmap=\"binary\", interpolation=\"nearest\")\n",
    "        plt.axis('off')\n",
    "        plt.title(class_names[y_train[index]], fontsize=12)\n",
    "plt.subplots_adjust(wspace=0.2, hspace=0.5)\n",
    "save_fig('fashion_mnist_plot', tight_layout=False)\n",
    "plt.show()"
   ]
  },
  {
   "cell_type": "code",
   "execution_count": 23,
   "metadata": {},
   "outputs": [],
   "source": [
    "model = keras.models.Sequential()\n",
    "model.add(keras.layers.Flatten(input_shape=[28, 28]))\n",
    "model.add(keras.layers.Dense(300, activation=\"relu\"))\n",
    "model.add(keras.layers.Dense(100, activation=\"relu\"))\n",
    "model.add(keras.layers.Dense(10, activation=\"softmax\"))"
   ]
  },
  {
   "cell_type": "code",
   "execution_count": 24,
   "metadata": {},
   "outputs": [],
   "source": [
    "keras.backend.clear_session()\n",
    "np.random.seed(42)\n",
    "tf.random.set_seed(42)"
   ]
  },
  {
   "cell_type": "code",
   "execution_count": 25,
   "metadata": {},
   "outputs": [],
   "source": [
    "model = keras.models.Sequential([\n",
    "    keras.layers.Flatten(input_shape=[28, 28]),\n",
    "    keras.layers.Dense(300, activation=\"relu\"),\n",
    "    keras.layers.Dense(100, activation=\"relu\"),\n",
    "    keras.layers.Dense(10, activation=\"softmax\")\n",
    "])"
   ]
  },
  {
   "cell_type": "code",
   "execution_count": 26,
   "metadata": {},
   "outputs": [
    {
     "data": {
      "text/plain": [
       "[<tensorflow.python.keras.layers.core.Flatten at 0x24508ad8be0>,\n",
       " <tensorflow.python.keras.layers.core.Dense at 0x24508c42af0>,\n",
       " <tensorflow.python.keras.layers.core.Dense at 0x24508cb6d90>,\n",
       " <tensorflow.python.keras.layers.core.Dense at 0x24508ae64c0>]"
      ]
     },
     "execution_count": 26,
     "metadata": {},
     "output_type": "execute_result"
    }
   ],
   "source": [
    "model.layers"
   ]
  },
  {
   "cell_type": "code",
   "execution_count": 27,
   "metadata": {},
   "outputs": [
    {
     "name": "stdout",
     "output_type": "stream",
     "text": [
      "Model: \"sequential\"\n",
      "_________________________________________________________________\n",
      "Layer (type)                 Output Shape              Param #   \n",
      "=================================================================\n",
      "flatten (Flatten)            (None, 784)               0         \n",
      "_________________________________________________________________\n",
      "dense (Dense)                (None, 300)               235500    \n",
      "_________________________________________________________________\n",
      "dense_1 (Dense)              (None, 100)               30100     \n",
      "_________________________________________________________________\n",
      "dense_2 (Dense)              (None, 10)                1010      \n",
      "=================================================================\n",
      "Total params: 266,610\n",
      "Trainable params: 266,610\n",
      "Non-trainable params: 0\n",
      "_________________________________________________________________\n"
     ]
    }
   ],
   "source": [
    "model.summary()"
   ]
  },
  {
   "cell_type": "code",
   "execution_count": 28,
   "metadata": {},
   "outputs": [
    {
     "data": {
      "image/png": "[encoded data removed]",
      "text/plain": [
       "<IPython.core.display.Image object>"
      ]
     },
     "execution_count": 28,
     "metadata": {},
     "output_type": "execute_result"
    }
   ],
   "source": [
    "keras.utils.plot_model(model, \"my_fashion_mnist_model.png\", show_shapes=True)"
   ]
  },
  {
   "cell_type": "code",
   "execution_count": 29,
   "metadata": {},
   "outputs": [
    {
     "data": {
      "text/plain": [
       "'dense'"
      ]
     },
     "execution_count": 29,
     "metadata": {},
     "output_type": "execute_result"
    }
   ],
   "source": [
    "hidden1 = model.layers[1]\n",
    "hidden1.name"
   ]
  },
  {
   "cell_type": "code",
   "execution_count": 30,
   "metadata": {},
   "outputs": [
    {
     "data": {
      "text/plain": [
       "True"
      ]
     },
     "execution_count": 30,
     "metadata": {},
     "output_type": "execute_result"
    }
   ],
   "source": [
    "model.get_layer(hidden1.name) is hidden1"
   ]
  },
  {
   "cell_type": "code",
   "execution_count": 31,
   "metadata": {},
   "outputs": [],
   "source": [
    "weights, biases = hidden1.get_weights()"
   ]
  },
  {
   "cell_type": "code",
   "execution_count": 32,
   "metadata": {},
   "outputs": [
    {
     "data": {
      "text/plain": [
       "array([[ 0.02448617, -0.00877795, -0.02189048, ..., -0.02766046,\n",
       "         0.03859074, -0.06889391],\n",
       "       [ 0.00476504, -0.03105379, -0.0586676 , ...,  0.00602964,\n",
       "        -0.02763776, -0.04165364],\n",
       "       [-0.06189284, -0.06901957,  0.07102345, ..., -0.04238207,\n",
       "         0.07121518, -0.07331658],\n",
       "       ...,\n",
       "       [-0.03048757,  0.02155137, -0.05400612, ..., -0.00113463,\n",
       "         0.00228987,  0.05581069],\n",
       "       [ 0.07061854, -0.06960931,  0.07038955, ..., -0.00384101,\n",
       "         0.00034875,  0.02878492],\n",
       "       [-0.06022581,  0.01577859, -0.02585464, ..., -0.00527829,\n",
       "         0.00272203, -0.06793761]], dtype=float32)"
      ]
     },
     "execution_count": 32,
     "metadata": {},
     "output_type": "execute_result"
    }
   ],
   "source": [
    "weights"
   ]
  },
  {
   "cell_type": "code",
   "execution_count": 33,
   "metadata": {},
   "outputs": [
    {
     "data": {
      "text/plain": [
       "(784, 300)"
      ]
     },
     "execution_count": 33,
     "metadata": {},
     "output_type": "execute_result"
    }
   ],
   "source": [
    "weights.shape"
   ]
  },
  {
   "cell_type": "code",
   "execution_count": 34,
   "metadata": {},
   "outputs": [
    {
     "data": {
      "text/plain": [
       "array([0., 0., 0., 0., 0., 0., 0., 0., 0., 0., 0., 0., 0., 0., 0., 0., 0.,\n",
       "       0., 0., 0., 0., 0., 0., 0., 0., 0., 0., 0., 0., 0., 0., 0., 0., 0.,\n",
       "       0., 0., 0., 0., 0., 0., 0., 0., 0., 0., 0., 0., 0., 0., 0., 0., 0.,\n",
       "       0., 0., 0., 0., 0., 0., 0., 0., 0., 0., 0., 0., 0., 0., 0., 0., 0.,\n",
       "       0., 0., 0., 0., 0., 0., 0., 0., 0., 0., 0., 0., 0., 0., 0., 0., 0.,\n",
       "       0., 0., 0., 0., 0., 0., 0., 0., 0., 0., 0., 0., 0., 0., 0., 0., 0.,\n",
       "       0., 0., 0., 0., 0., 0., 0., 0., 0., 0., 0., 0., 0., 0., 0., 0., 0.,\n",
       "       0., 0., 0., 0., 0., 0., 0., 0., 0., 0., 0., 0., 0., 0., 0., 0., 0.,\n",
       "       0., 0., 0., 0., 0., 0., 0., 0., 0., 0., 0., 0., 0., 0., 0., 0., 0.,\n",
       "       0., 0., 0., 0., 0., 0., 0., 0., 0., 0., 0., 0., 0., 0., 0., 0., 0.,\n",
       "       0., 0., 0., 0., 0., 0., 0., 0., 0., 0., 0., 0., 0., 0., 0., 0., 0.,\n",
       "       0., 0., 0., 0., 0., 0., 0., 0., 0., 0., 0., 0., 0., 0., 0., 0., 0.,\n",
       "       0., 0., 0., 0., 0., 0., 0., 0., 0., 0., 0., 0., 0., 0., 0., 0., 0.,\n",
       "       0., 0., 0., 0., 0., 0., 0., 0., 0., 0., 0., 0., 0., 0., 0., 0., 0.,\n",
       "       0., 0., 0., 0., 0., 0., 0., 0., 0., 0., 0., 0., 0., 0., 0., 0., 0.,\n",
       "       0., 0., 0., 0., 0., 0., 0., 0., 0., 0., 0., 0., 0., 0., 0., 0., 0.,\n",
       "       0., 0., 0., 0., 0., 0., 0., 0., 0., 0., 0., 0., 0., 0., 0., 0., 0.,\n",
       "       0., 0., 0., 0., 0., 0., 0., 0., 0., 0., 0.], dtype=float32)"
      ]
     },
     "execution_count": 34,
     "metadata": {},
     "output_type": "execute_result"
    }
   ],
   "source": [
    "biases"
   ]
  },
  {
   "cell_type": "code",
   "execution_count": 35,
   "metadata": {},
   "outputs": [
    {
     "data": {
      "text/plain": [
       "(300,)"
      ]
     },
     "execution_count": 35,
     "metadata": {},
     "output_type": "execute_result"
    }
   ],
   "source": [
    "biases.shape"
   ]
  },
  {
   "cell_type": "code",
   "execution_count": 36,
   "metadata": {},
   "outputs": [],
   "source": [
    "model.compile(loss=\"sparse_categorical_crossentropy\",\n",
    "              optimizer=\"sgd\",\n",
    "              metrics=[\"accuracy\"])"
   ]
  },
  {
   "cell_type": "markdown",
   "metadata": {},
   "source": [
    "This is equivalent to:"
   ]
  },
  {
   "cell_type": "markdown",
   "metadata": {},
   "source": [
    "```python\n",
    "model.compile(loss=keras.losses.sparse_categorical_crossentropy,\n",
    "              optimizer=keras.optimizers.SGD(),\n",
    "              metrics=[keras.metrics.sparse_categorical_accuracy])\n",
    "```"
   ]
  },
  {
   "cell_type": "code",
   "execution_count": 37,
   "metadata": {},
   "outputs": [
    {
     "name": "stdout",
     "output_type": "stream",
     "text": [
      "Epoch 1/30\n",
      "1719/1719 [==============================] - 4s 1ms/step - loss: 1.0187 - accuracy: 0.6805 - val_loss: 0.5213 - val_accuracy: 0.8226\n",
      "Epoch 2/30\n",
      "1719/1719 [==============================] - 2s 930us/step - loss: 0.5027 - accuracy: 0.8262 - val_loss: 0.4353 - val_accuracy: 0.8526\n",
      "Epoch 3/30\n",
      "1719/1719 [==============================] - 2s 951us/step - loss: 0.4483 - accuracy: 0.8427 - val_loss: 0.5318 - val_accuracy: 0.7980\n",
      "Epoch 4/30\n",
      "1719/1719 [==============================] - 2s 1ms/step - loss: 0.4207 - accuracy: 0.8529 - val_loss: 0.3914 - val_accuracy: 0.8652\n",
      "Epoch 5/30\n",
      "1719/1719 [==============================] - 2s 1ms/step - loss: 0.4061 - accuracy: 0.8581 - val_loss: 0.3741 - val_accuracy: 0.8694\n",
      "Epoch 6/30\n",
      "1719/1719 [==============================] - 2s 963us/step - loss: 0.3754 - accuracy: 0.8673 - val_loss: 0.3715 - val_accuracy: 0.8722\n",
      "Epoch 7/30\n",
      "1719/1719 [==============================] - 2s 937us/step - loss: 0.3654 - accuracy: 0.8706 - val_loss: 0.3613 - val_accuracy: 0.8730\n",
      "Epoch 8/30\n",
      "1719/1719 [==============================] - 2s 921us/step - loss: 0.3481 - accuracy: 0.8750 - val_loss: 0.3854 - val_accuracy: 0.8618\n",
      "Epoch 9/30\n",
      "1719/1719 [==============================] - 2s 917us/step - loss: 0.3486 - accuracy: 0.8761 - val_loss: 0.3580 - val_accuracy: 0.8722\n",
      "Epoch 10/30\n",
      "1719/1719 [==============================] - 2s 948us/step - loss: 0.3294 - accuracy: 0.8836 - val_loss: 0.3427 - val_accuracy: 0.8788\n",
      "Epoch 11/30\n",
      "1719/1719 [==============================] - 2s 918us/step - loss: 0.3218 - accuracy: 0.8834 - val_loss: 0.3443 - val_accuracy: 0.8780\n",
      "Epoch 12/30\n",
      "1719/1719 [==============================] - 2s 924us/step - loss: 0.3121 - accuracy: 0.8873 - val_loss: 0.3300 - val_accuracy: 0.8838\n",
      "Epoch 13/30\n",
      "1719/1719 [==============================] - 2s 952us/step - loss: 0.3053 - accuracy: 0.8897 - val_loss: 0.3281 - val_accuracy: 0.8864\n",
      "Epoch 14/30\n",
      "1719/1719 [==============================] - 2s 943us/step - loss: 0.2994 - accuracy: 0.8924 - val_loss: 0.3441 - val_accuracy: 0.8764\n",
      "Epoch 15/30\n",
      "1719/1719 [==============================] - 2s 935us/step - loss: 0.2933 - accuracy: 0.8946 - val_loss: 0.3226 - val_accuracy: 0.8848\n",
      "Epoch 16/30\n",
      "1719/1719 [==============================] - 2s 951us/step - loss: 0.2861 - accuracy: 0.8976 - val_loss: 0.3097 - val_accuracy: 0.8898\n",
      "Epoch 17/30\n",
      "1719/1719 [==============================] - 2s 961us/step - loss: 0.2777 - accuracy: 0.9011 - val_loss: 0.3558 - val_accuracy: 0.8726\n",
      "Epoch 18/30\n",
      "1719/1719 [==============================] - 2s 977us/step - loss: 0.2777 - accuracy: 0.8999 - val_loss: 0.3140 - val_accuracy: 0.8902\n",
      "Epoch 19/30\n",
      "1719/1719 [==============================] - 2s 976us/step - loss: 0.2740 - accuracy: 0.9019 - val_loss: 0.3119 - val_accuracy: 0.8912\n",
      "Epoch 20/30\n",
      "1719/1719 [==============================] - 2s 974us/step - loss: 0.2696 - accuracy: 0.9032 - val_loss: 0.3270 - val_accuracy: 0.8806\n",
      "Epoch 21/30\n",
      "1719/1719 [==============================] - 2s 938us/step - loss: 0.2668 - accuracy: 0.9053 - val_loss: 0.3086 - val_accuracy: 0.8920\n",
      "Epoch 22/30\n",
      "1719/1719 [==============================] - 2s 961us/step - loss: 0.2613 - accuracy: 0.9054 - val_loss: 0.2969 - val_accuracy: 0.8964\n",
      "Epoch 23/30\n",
      "1719/1719 [==============================] - ETA: 0s - loss: 0.2550 - accuracy: 0.90 - 2s 934us/step - loss: 0.2549 - accuracy: 0.9076 - val_loss: 0.2997 - val_accuracy: 0.8932\n",
      "Epoch 24/30\n",
      "1719/1719 [==============================] - ETA: 0s - loss: 0.2447 - accuracy: 0.91 - 2s 931us/step - loss: 0.2448 - accuracy: 0.9113 - val_loss: 0.3095 - val_accuracy: 0.8886\n",
      "Epoch 25/30\n",
      "1719/1719 [==============================] - 2s 953us/step - loss: 0.2492 - accuracy: 0.9109 - val_loss: 0.2971 - val_accuracy: 0.8948\n",
      "Epoch 26/30\n",
      "1719/1719 [==============================] - ETA: 0s - loss: 0.2424 - accuracy: 0.91 - 2s 938us/step - loss: 0.2424 - accuracy: 0.9134 - val_loss: 0.3064 - val_accuracy: 0.8894\n",
      "Epoch 27/30\n",
      "1719/1719 [==============================] - 2s 936us/step - loss: 0.2370 - accuracy: 0.9159 - val_loss: 0.3019 - val_accuracy: 0.8940\n",
      "Epoch 28/30\n",
      "1719/1719 [==============================] - 2s 923us/step - loss: 0.2314 - accuracy: 0.9168 - val_loss: 0.2986 - val_accuracy: 0.8944\n",
      "Epoch 29/30\n",
      "1719/1719 [==============================] - ETA: 0s - loss: 0.2279 - accuracy: 0.91 - 2s 942us/step - loss: 0.2279 - accuracy: 0.9174 - val_loss: 0.3050 - val_accuracy: 0.8920\n",
      "Epoch 30/30\n",
      "1719/1719 [==============================] - 2s 930us/step - loss: 0.2246 - accuracy: 0.9211 - val_loss: 0.3064 - val_accuracy: 0.8924\n"
     ]
    }
   ],
   "source": [
    "history = model.fit(X_train, y_train, epochs=30,\n",
    "                    validation_data=(X_valid, y_valid))"
   ]
  },
  {
   "cell_type": "code",
   "execution_count": 38,
   "metadata": {},
   "outputs": [
    {
     "data": {
      "text/plain": [
       "{'verbose': 1, 'epochs': 30, 'steps': 1719}"
      ]
     },
     "execution_count": 38,
     "metadata": {},
     "output_type": "execute_result"
    }
   ],
   "source": [
    "history.params"
   ]
  },
  {
   "cell_type": "code",
   "execution_count": 39,
   "metadata": {},
   "outputs": [
    {
     "name": "stdout",
     "output_type": "stream",
     "text": [
      "[0, 1, 2, 3, 4, 5, 6, 7, 8, 9, 10, 11, 12, 13, 14, 15, 16, 17, 18, 19, 20, 21, 22, 23, 24, 25, 26, 27, 28, 29]\n"
     ]
    }
   ],
   "source": [
    "print(history.epoch)"
   ]
  },
  {
   "cell_type": "code",
   "execution_count": 40,
   "metadata": {},
   "outputs": [
    {
     "data": {
      "text/plain": [
       "dict_keys(['loss', 'accuracy', 'val_loss', 'val_accuracy'])"
      ]
     },
     "execution_count": 40,
     "metadata": {},
     "output_type": "execute_result"
    }
   ],
   "source": [
    "history.history.keys()"
   ]
  },
  {
   "cell_type": "code",
   "execution_count": 41,
   "metadata": {},
   "outputs": [
    {
     "name": "stdout",
     "output_type": "stream",
     "text": [
      "Saving figure keras_learning_curves_plot\n"
     ]
    },
    {
     "data": {
      "image/png": "[encoded data removed]",
      "text/plain": [
       "<Figure size 576x360 with 1 Axes>"
      ]
     },
     "metadata": {
      "needs_background": "light"
     },
     "output_type": "display_data"
    }
   ],
   "source": [
    "import pandas as pd\n",
    "\n",
    "pd.DataFrame(history.history).plot(figsize=(8, 5))\n",
    "plt.grid(True)\n",
    "plt.gca().set_ylim(0, 1)\n",
    "save_fig(\"keras_learning_curves_plot\")\n",
    "plt.show()"
   ]
  },
  {
   "cell_type": "code",
   "execution_count": 42,
   "metadata": {},
   "outputs": [
    {
     "name": "stdout",
     "output_type": "stream",
     "text": [
      "313/313 [==============================] - 0s 638us/step - loss: 0.3394 - accuracy: 0.8818\n"
     ]
    },
    {
     "data": {
      "text/plain": [
       "[0.33938971161842346, 0.8817999958992004]"
      ]
     },
     "execution_count": 42,
     "metadata": {},
     "output_type": "execute_result"
    }
   ],
   "source": [
    "model.evaluate(X_test, y_test)"
   ]
  },
  {
   "cell_type": "code",
   "execution_count": 43,
   "metadata": {},
   "outputs": [
    {
     "data": {
      "text/plain": [
       "array([[0.  , 0.  , 0.  , 0.  , 0.  , 0.01, 0.  , 0.03, 0.  , 0.95],\n",
       "       [0.  , 0.  , 0.99, 0.  , 0.01, 0.  , 0.  , 0.  , 0.  , 0.  ],\n",
       "       [0.  , 1.  , 0.  , 0.  , 0.  , 0.  , 0.  , 0.  , 0.  , 0.  ]],\n",
       "      dtype=float32)"
      ]
     },
     "execution_count": 43,
     "metadata": {},
     "output_type": "execute_result"
    }
   ],
   "source": [
    "X_new = X_test[:3]\n",
    "y_proba = model.predict(X_new)\n",
    "y_proba.round(2)"
   ]
  },
  {
   "cell_type": "code",
   "execution_count": 44,
   "metadata": {},
   "outputs": [
    {
     "name": "stderr",
     "output_type": "stream",
     "text": [
      "f:\\python38\\lib\\site-packages\\tensorflow\\python\\keras\\engine\\sequential.py:459: UserWarning: `model.predict_classes()` is deprecated and will be removed after 2021-01-01. Please use instead:* `np.argmax(model.predict(x), axis=-1)`,   if your model does multi-class classification   (e.g. if it uses a `softmax` last-layer activation).* `(model.predict(x) > 0.5).astype(\"int32\")`,   if your model does binary classification   (e.g. if it uses a `sigmoid` last-layer activation).\n",
      "  warnings.warn('`model.predict_classes()` is deprecated and '\n"
     ]
    },
    {
     "data": {
      "text/plain": [
       "array([9, 2, 1], dtype=int64)"
      ]
     },
     "execution_count": 44,
     "metadata": {},
     "output_type": "execute_result"
    }
   ],
   "source": [
    "y_pred = model.predict_classes(X_new)\n",
    "y_pred"
   ]
  },
  {
   "cell_type": "code",
   "execution_count": 45,
   "metadata": {},
   "outputs": [
    {
     "data": {
      "text/plain": [
       "array(['Ankle boot', 'Pullover', 'Trouser'], dtype='<U11')"
      ]
     },
     "execution_count": 45,
     "metadata": {},
     "output_type": "execute_result"
    }
   ],
   "source": [
    "np.array(class_names)[y_pred]"
   ]
  },
  {
   "cell_type": "code",
   "execution_count": 46,
   "metadata": {},
   "outputs": [
    {
     "data": {
      "text/plain": [
       "array([9, 2, 1], dtype=uint8)"
      ]
     },
     "execution_count": 46,
     "metadata": {},
     "output_type": "execute_result"
    }
   ],
   "source": [
    "y_new = y_test[:3]\n",
    "y_new"
   ]
  },
  {
   "cell_type": "code",
   "execution_count": 47,
   "metadata": {},
   "outputs": [
    {
     "name": "stdout",
     "output_type": "stream",
     "text": [
      "Saving figure fashion_mnist_images_plot\n"
     ]
    },
    {
     "data": {
      "image/png": "[encoded data removed]",
      "text/plain": [
       "<Figure size 518.4x172.8 with 3 Axes>"
      ]
     },
     "metadata": {
      "needs_background": "light"
     },
     "output_type": "display_data"
    }
   ],
   "source": [
    "plt.figure(figsize=(7.2, 2.4))\n",
    "for index, image in enumerate(X_new):\n",
    "    plt.subplot(1, 3, index + 1)\n",
    "    plt.imshow(image, cmap=\"binary\", interpolation=\"nearest\")\n",
    "    plt.axis('off')\n",
    "    plt.title(class_names[y_test[index]], fontsize=12)\n",
    "plt.subplots_adjust(wspace=0.2, hspace=0.5)\n",
    "save_fig('fashion_mnist_images_plot', tight_layout=False)\n",
    "plt.show()"
   ]
  },
  {
   "cell_type": "markdown",
   "metadata": {},
   "source": [
    "# Regression MLP"
   ]
  },
  {
   "cell_type": "markdown",
   "metadata": {},
   "source": [
    "Let's load, split and scale the California housing dataset (the original one, not the modified one as in chapter 2):"
   ]
  },
  {
   "cell_type": "code",
   "execution_count": 48,
   "metadata": {},
   "outputs": [],
   "source": [
    "from sklearn.datasets import fetch_california_housing\n",
    "from sklearn.model_selection import train_test_split\n",
    "from sklearn.preprocessing import StandardScaler\n",
    "\n",
    "housing = fetch_california_housing()\n",
    "\n",
    "X_train_full, X_test, y_train_full, y_test = train_test_split(housing.data, housing.target, random_state=42)\n",
    "X_train, X_valid, y_train, y_valid = train_test_split(X_train_full, y_train_full, random_state=42)\n",
    "\n",
    "scaler = StandardScaler()\n",
    "X_train = scaler.fit_transform(X_train)\n",
    "X_valid = scaler.transform(X_valid)\n",
    "X_test = scaler.transform(X_test)"
   ]
  },
  {
   "cell_type": "code",
   "execution_count": 49,
   "metadata": {},
   "outputs": [],
   "source": [
    "np.random.seed(42)\n",
    "tf.random.set_seed(42)"
   ]
  },
  {
   "cell_type": "code",
   "execution_count": 50,
   "metadata": {},
   "outputs": [
    {
     "name": "stdout",
     "output_type": "stream",
     "text": [
      "Epoch 1/20\n",
      "363/363 [==============================] - ETA: 0s - loss: 2.302 - 1s 829us/step - loss: 2.2656 - val_loss: 0.8560\n",
      "Epoch 2/20\n",
      "363/363 [==============================] - 0s 619us/step - loss: 0.7413 - val_loss: 0.6531\n",
      "Epoch 3/20\n",
      "363/363 [==============================] - 0s 605us/step - loss: 0.6604 - val_loss: 0.6099\n",
      "Epoch 4/20\n",
      "363/363 [==============================] - 0s 599us/step - loss: 0.6245 - val_loss: 0.5658\n",
      "Epoch 5/20\n",
      "363/363 [==============================] - 0s 613us/step - loss: 0.5770 - val_loss: 0.5355\n",
      "Epoch 6/20\n",
      "363/363 [==============================] - 0s 616us/step - loss: 0.5609 - val_loss: 0.5173\n",
      "Epoch 7/20\n",
      "363/363 [==============================] - 0s 613us/step - loss: 0.5500 - val_loss: 0.5081\n",
      "Epoch 8/20\n",
      "363/363 [==============================] - 0s 605us/step - loss: 0.5200 - val_loss: 0.4799\n",
      "Epoch 9/20\n",
      "363/363 [==============================] - 0s 616us/step - loss: 0.5051 - val_loss: 0.4690\n",
      "Epoch 10/20\n",
      "363/363 [==============================] - 0s 608us/step - loss: 0.4910 - val_loss: 0.4656\n",
      "Epoch 11/20\n",
      "363/363 [==============================] - 0s 597us/step - loss: 0.4794 - val_loss: 0.4482\n",
      "Epoch 12/20\n",
      "363/363 [==============================] - 0s 586us/step - loss: 0.4656 - val_loss: 0.4479\n",
      "Epoch 13/20\n",
      "363/363 [==============================] - 0s 597us/step - loss: 0.4693 - val_loss: 0.4296\n",
      "Epoch 14/20\n",
      "363/363 [==============================] - 0s 619us/step - loss: 0.4537 - val_loss: 0.4233\n",
      "Epoch 15/20\n",
      "363/363 [==============================] - 0s 605us/step - loss: 0.4586 - val_loss: 0.4176\n",
      "Epoch 16/20\n",
      "363/363 [==============================] - 0s 597us/step - loss: 0.4612 - val_loss: 0.4123\n",
      "Epoch 17/20\n",
      "363/363 [==============================] - 0s 599us/step - loss: 0.4449 - val_loss: 0.4071\n",
      "Epoch 18/20\n",
      "363/363 [==============================] - 0s 613us/step - loss: 0.4407 - val_loss: 0.4037\n",
      "Epoch 19/20\n",
      "363/363 [==============================] - 0s 605us/step - loss: 0.4184 - val_loss: 0.4000\n",
      "Epoch 20/20\n",
      "363/363 [==============================] - 0s 608us/step - loss: 0.4128 - val_loss: 0.3969\n",
      "162/162 [==============================] - 0s 397us/step - loss: 0.4212\n"
     ]
    }
   ],
   "source": [
    "model = keras.models.Sequential([\n",
    "    keras.layers.Dense(30, activation=\"relu\", input_shape=X_train.shape[1:]),\n",
    "    keras.layers.Dense(1)\n",
    "])\n",
    "model.compile(loss=\"mean_squared_error\", optimizer=keras.optimizers.SGD(lr=1e-3))\n",
    "history = model.fit(X_train, y_train, epochs=20, validation_data=(X_valid, y_valid))\n",
    "mse_test = model.evaluate(X_test, y_test)\n",
    "X_new = X_test[:3]\n",
    "y_pred = model.predict(X_new)"
   ]
  },
  {
   "cell_type": "code",
   "execution_count": 51,
   "metadata": {},
   "outputs": [
    {
     "data": {
      "image/png": "[encoded data removed]",
      "text/plain": [
       "<Figure size 432x288 with 1 Axes>"
      ]
     },
     "metadata": {
      "needs_background": "light"
     },
     "output_type": "display_data"
    }
   ],
   "source": [
    "plt.plot(pd.DataFrame(history.history))\n",
    "plt.grid(True)\n",
    "plt.gca().set_ylim(0, 1)\n",
    "plt.show()"
   ]
  },
  {
   "cell_type": "code",
   "execution_count": 52,
   "metadata": {},
   "outputs": [
    {
     "data": {
      "text/plain": [
       "array([[0.3885664],\n",
       "       [1.6792021],\n",
       "       [3.1022797]], dtype=float32)"
      ]
     },
     "execution_count": 52,
     "metadata": {},
     "output_type": "execute_result"
    }
   ],
   "source": [
    "y_pred"
   ]
  },
  {
   "cell_type": "markdown",
   "metadata": {},
   "source": [
    "# Functional API"
   ]
  },
  {
   "cell_type": "markdown",
   "metadata": {},
   "source": [
    "Not all neural network models are simply sequential. Some may have complex topologies. Some may have multiple inputs and/or multiple outputs. For example, a Wide & Deep neural network (see [paper](https://ai.google/research/pubs/pub45413)) connects all or part of the inputs directly to the output layer."
   ]
  },
  {
   "cell_type": "code",
   "execution_count": 53,
   "metadata": {},
   "outputs": [],
   "source": [
    "np.random.seed(42)\n",
    "tf.random.set_seed(42)"
   ]
  },
  {
   "cell_type": "code",
   "execution_count": 54,
   "metadata": {},
   "outputs": [],
   "source": [
    "input_ = keras.layers.Input(shape=X_train.shape[1:])\n",
    "hidden1 = keras.layers.Dense(30, activation=\"relu\")(input_)\n",
    "hidden2 = keras.layers.Dense(30, activation=\"relu\")(hidden1)\n",
    "concat = keras.layers.concatenate([input_, hidden2])\n",
    "output = keras.layers.Dense(1)(concat)\n",
    "model = keras.models.Model(inputs=[input_], outputs=[output])"
   ]
  },
  {
   "cell_type": "code",
   "execution_count": 55,
   "metadata": {},
   "outputs": [
    {
     "name": "stdout",
     "output_type": "stream",
     "text": [
      "Model: \"model\"\n",
      "__________________________________________________________________________________________________\n",
      "Layer (type)                    Output Shape         Param #     Connected to                     \n",
      "==================================================================================================\n",
      "input_1 (InputLayer)            [(None, 8)]          0                                            \n",
      "__________________________________________________________________________________________________\n",
      "dense_5 (Dense)                 (None, 30)           270         input_1[0][0]                    \n",
      "__________________________________________________________________________________________________\n",
      "dense_6 (Dense)                 (None, 30)           930         dense_5[0][0]                    \n",
      "__________________________________________________________________________________________________\n",
      "concatenate (Concatenate)       (None, 38)           0           input_1[0][0]                    \n",
      "                                                                 dense_6[0][0]                    \n",
      "__________________________________________________________________________________________________\n",
      "dense_7 (Dense)                 (None, 1)            39          concatenate[0][0]                \n",
      "==================================================================================================\n",
      "Total params: 1,239\n",
      "Trainable params: 1,239\n",
      "Non-trainable params: 0\n",
      "__________________________________________________________________________________________________\n"
     ]
    }
   ],
   "source": [
    "model.summary()"
   ]
  },
  {
   "cell_type": "code",
   "execution_count": 56,
   "metadata": {},
   "outputs": [
    {
     "name": "stdout",
     "output_type": "stream",
     "text": [
      "Epoch 1/20\n",
      "363/363 [==============================] - 1s 898us/step - loss: 1.9731 - val_loss: 3.3940\n",
      "Epoch 2/20\n",
      "363/363 [==============================] - 0s 630us/step - loss: 0.7638 - val_loss: 0.9360\n",
      "Epoch 3/20\n",
      "363/363 [==============================] - 0s 693us/step - loss: 0.6045 - val_loss: 0.5649\n",
      "Epoch 4/20\n",
      "363/363 [==============================] - 0s 652us/step - loss: 0.5862 - val_loss: 0.5712\n",
      "Epoch 5/20\n",
      "363/363 [==============================] - 0s 652us/step - loss: 0.5452 - val_loss: 0.5045\n",
      "Epoch 6/20\n",
      "363/363 [==============================] - 0s 638us/step - loss: 0.5243 - val_loss: 0.4831\n",
      "Epoch 7/20\n",
      "363/363 [==============================] - 0s 627us/step - loss: 0.5185 - val_loss: 0.4639\n",
      "Epoch 8/20\n",
      "363/363 [==============================] - 0s 663us/step - loss: 0.4947 - val_loss: 0.4638\n",
      "Epoch 9/20\n",
      "363/363 [==============================] - 0s 646us/step - loss: 0.4782 - val_loss: 0.4421\n",
      "Epoch 10/20\n",
      "363/363 [==============================] - 0s 638us/step - loss: 0.4708 - val_loss: 0.4313\n",
      "Epoch 11/20\n",
      "363/363 [==============================] - 0s 630us/step - loss: 0.4585 - val_loss: 0.4345\n",
      "Epoch 12/20\n",
      "363/363 [==============================] - 0s 649us/step - loss: 0.4481 - val_loss: 0.4168\n",
      "Epoch 13/20\n",
      "363/363 [==============================] - 0s 646us/step - loss: 0.4476 - val_loss: 0.4230\n",
      "Epoch 14/20\n",
      "363/363 [==============================] - 0s 638us/step - loss: 0.4361 - val_loss: 0.4047\n",
      "Epoch 15/20\n",
      "363/363 [==============================] - 0s 627us/step - loss: 0.4392 - val_loss: 0.4078\n",
      "Epoch 16/20\n",
      "363/363 [==============================] - 0s 624us/step - loss: 0.4420 - val_loss: 0.3938\n",
      "Epoch 17/20\n",
      "363/363 [==============================] - 0s 655us/step - loss: 0.4277 - val_loss: 0.3952\n",
      "Epoch 18/20\n",
      "363/363 [==============================] - 0s 669us/step - loss: 0.4216 - val_loss: 0.3860\n",
      "Epoch 19/20\n",
      "363/363 [==============================] - ETA: 0s - loss: 0.401 - 0s 669us/step - loss: 0.4033 - val_loss: 0.3827\n",
      "Epoch 20/20\n",
      "363/363 [==============================] - 0s 652us/step - loss: 0.3939 - val_loss: 0.4054\n",
      "162/162 [==============================] - 0s 404us/step - loss: 0.4032\n"
     ]
    }
   ],
   "source": [
    "model.compile(loss=\"mean_squared_error\", optimizer=keras.optimizers.SGD(lr=1e-3))\n",
    "history = model.fit(X_train, y_train, epochs=20,\n",
    "                    validation_data=(X_valid, y_valid))\n",
    "mse_test = model.evaluate(X_test, y_test)\n",
    "y_pred = model.predict(X_new)"
   ]
  },
  {
   "cell_type": "markdown",
   "metadata": {},
   "source": [
    "What if you want to send different subsets of input features through the wide or deep paths? We will send 5 features (features 0 to 4), and 6 through the deep path (features 2 to 7). Note that 3 features will go through both (features 2, 3 and 4)."
   ]
  },
  {
   "cell_type": "code",
   "execution_count": 57,
   "metadata": {},
   "outputs": [],
   "source": [
    "np.random.seed(42)\n",
    "tf.random.set_seed(42)"
   ]
  },
  {
   "cell_type": "code",
   "execution_count": 58,
   "metadata": {},
   "outputs": [],
   "source": [
    "input_A = keras.layers.Input(shape=[5], name=\"wide_input\")\n",
    "input_B = keras.layers.Input(shape=[6], name=\"deep_input\")\n",
    "hidden1 = keras.layers.Dense(30, activation=\"relu\")(input_B)\n",
    "hidden2 = keras.layers.Dense(30, activation=\"relu\")(hidden1)\n",
    "concat = keras.layers.concatenate([input_A, hidden2])\n",
    "output = keras.layers.Dense(1, name=\"output\")(concat)\n",
    "model = keras.models.Model(inputs=[input_A, input_B], outputs=[output])"
   ]
  },
  {
   "cell_type": "code",
   "execution_count": 59,
   "metadata": {},
   "outputs": [
    {
     "name": "stdout",
     "output_type": "stream",
     "text": [
      "Epoch 1/20\n",
      "363/363 [==============================] - 1s 950us/step - loss: 3.1941 - val_loss: 0.8072\n",
      "Epoch 2/20\n",
      "363/363 [==============================] - 0s 657us/step - loss: 0.7247 - val_loss: 0.6658\n",
      "Epoch 3/20\n",
      "363/363 [==============================] - 0s 685us/step - loss: 0.6176 - val_loss: 0.5687\n",
      "Epoch 4/20\n",
      "363/363 [==============================] - 0s 724us/step - loss: 0.5799 - val_loss: 0.5296\n",
      "Epoch 5/20\n",
      "363/363 [==============================] - 0s 746us/step - loss: 0.5409 - val_loss: 0.4993\n",
      "Epoch 6/20\n",
      "363/363 [==============================] - 0s 688us/step - loss: 0.5173 - val_loss: 0.4811\n",
      "Epoch 7/20\n",
      "363/363 [==============================] - 0s 693us/step - loss: 0.5186 - val_loss: 0.4696\n",
      "Epoch 8/20\n",
      "363/363 [==============================] - 0s 710us/step - loss: 0.4977 - val_loss: 0.4496\n",
      "Epoch 9/20\n",
      "363/363 [==============================] - 0s 699us/step - loss: 0.4765 - val_loss: 0.4404\n",
      "Epoch 10/20\n",
      "363/363 [==============================] - 0s 740us/step - loss: 0.4676 - val_loss: 0.4315\n",
      "Epoch 11/20\n",
      "363/363 [==============================] - 0s 743us/step - loss: 0.4574 - val_loss: 0.4268\n",
      "Epoch 12/20\n",
      "363/363 [==============================] - 0s 677us/step - loss: 0.4479 - val_loss: 0.4166\n",
      "Epoch 13/20\n",
      "363/363 [==============================] - 0s 713us/step - loss: 0.4487 - val_loss: 0.4125\n",
      "Epoch 14/20\n",
      "363/363 [==============================] - 0s 685us/step - loss: 0.4469 - val_loss: 0.4074\n",
      "Epoch 15/20\n",
      "363/363 [==============================] - 0s 655us/step - loss: 0.4460 - val_loss: 0.4044\n",
      "Epoch 16/20\n",
      "363/363 [==============================] - 0s 660us/step - loss: 0.4495 - val_loss: 0.4007\n",
      "Epoch 17/20\n",
      "363/363 [==============================] - 0s 652us/step - loss: 0.4378 - val_loss: 0.4013\n",
      "Epoch 18/20\n",
      "363/363 [==============================] - 0s 668us/step - loss: 0.4375 - val_loss: 0.3987\n",
      "Epoch 19/20\n",
      "363/363 [==============================] - 0s 657us/step - loss: 0.4151 - val_loss: 0.3934\n",
      "Epoch 20/20\n",
      "363/363 [==============================] - 0s 652us/step - loss: 0.4078 - val_loss: 0.4204\n",
      "162/162 [==============================] - 0s 422us/step - loss: 0.4219\n"
     ]
    }
   ],
   "source": [
    "model.compile(loss=\"mse\", optimizer=keras.optimizers.SGD(lr=1e-3))\n",
    "\n",
    "X_train_A, X_train_B = X_train[:, :5], X_train[:, 2:]\n",
    "X_valid_A, X_valid_B = X_valid[:, :5], X_valid[:, 2:]\n",
    "X_test_A, X_test_B = X_test[:, :5], X_test[:, 2:]\n",
    "X_new_A, X_new_B = X_test_A[:3], X_test_B[:3]\n",
    "\n",
    "history = model.fit((X_train_A, X_train_B), y_train, epochs=20,\n",
    "                    validation_data=((X_valid_A, X_valid_B), y_valid))\n",
    "mse_test = model.evaluate((X_test_A, X_test_B), y_test)\n",
    "y_pred = model.predict((X_new_A, X_new_B))"
   ]
  },
  {
   "cell_type": "markdown",
   "metadata": {},
   "source": [
    "Adding an auxiliary output for regularization:"
   ]
  },
  {
   "cell_type": "code",
   "execution_count": 60,
   "metadata": {},
   "outputs": [],
   "source": [
    "np.random.seed(42)\n",
    "tf.random.set_seed(42)"
   ]
  },
  {
   "cell_type": "code",
   "execution_count": 61,
   "metadata": {},
   "outputs": [],
   "source": [
    "input_A = keras.layers.Input(shape=[5], name=\"wide_input\")\n",
    "input_B = keras.layers.Input(shape=[6], name=\"deep_input\")\n",
    "hidden1 = keras.layers.Dense(30, activation=\"relu\")(input_B)\n",
    "hidden2 = keras.layers.Dense(30, activation=\"relu\")(hidden1)\n",
    "concat = keras.layers.concatenate([input_A, hidden2])\n",
    "output = keras.layers.Dense(1, name=\"main_output\")(concat)\n",
    "aux_output = keras.layers.Dense(1, name=\"aux_output\")(hidden2)\n",
    "model = keras.models.Model(inputs=[input_A, input_B],\n",
    "                           outputs=[output, aux_output])"
   ]
  },
  {
   "cell_type": "code",
   "execution_count": 62,
   "metadata": {},
   "outputs": [],
   "source": [
    "model.compile(loss=[\"mse\", \"mse\"], loss_weights=[0.9, 0.1], optimizer=keras.optimizers.SGD(lr=1e-3))"
   ]
  },
  {
   "cell_type": "code",
   "execution_count": 63,
   "metadata": {},
   "outputs": [
    {
     "name": "stdout",
     "output_type": "stream",
     "text": [
      "Epoch 1/20\n",
      "363/363 [==============================] - 1s 1ms/step - loss: 3.4633 - main_output_loss: 3.3289 - aux_output_loss: 4.6732 - val_loss: 1.6233 - val_main_output_loss: 0.8468 - val_aux_output_loss: 8.6117\n",
      "Epoch 2/20\n",
      "363/363 [==============================] - 0s 768us/step - loss: 0.9807 - main_output_loss: 0.7503 - aux_output_loss: 3.0537 - val_loss: 1.5163 - val_main_output_loss: 0.6836 - val_aux_output_loss: 9.0109\n",
      "Epoch 3/20\n",
      "363/363 [==============================] - 0s 785us/step - loss: 0.7742 - main_output_loss: 0.6290 - aux_output_loss: 2.0810 - val_loss: 1.4639 - val_main_output_loss: 0.6229 - val_aux_output_loss: 9.0326\n",
      "Epoch 4/20\n",
      "363/363 [==============================] - 0s 749us/step - loss: 0.6952 - main_output_loss: 0.5897 - aux_output_loss: 1.6449 - val_loss: 1.3388 - val_main_output_loss: 0.5481 - val_aux_output_loss: 8.4552\n",
      "Epoch 5/20\n",
      "363/363 [==============================] - 0s 790us/step - loss: 0.6469 - main_output_loss: 0.5508 - aux_output_loss: 1.5118 - val_loss: 1.2177 - val_main_output_loss: 0.5194 - val_aux_output_loss: 7.5030\n",
      "Epoch 6/20\n",
      "363/363 [==============================] - 0s 776us/step - loss: 0.6120 - main_output_loss: 0.5251 - aux_output_loss: 1.3943 - val_loss: 1.0935 - val_main_output_loss: 0.5106 - val_aux_output_loss: 6.3396\n",
      "Epoch 7/20\n",
      "363/363 [==============================] - 0s 776us/step - loss: 0.6114 - main_output_loss: 0.5256 - aux_output_loss: 1.3833 - val_loss: 0.9918 - val_main_output_loss: 0.5115 - val_aux_output_loss: 5.3151\n",
      "Epoch 8/20\n",
      "363/363 [==============================] - 0s 740us/step - loss: 0.5765 - main_output_loss: 0.5024 - aux_output_loss: 1.2439 - val_loss: 0.8733 - val_main_output_loss: 0.4733 - val_aux_output_loss: 4.4740\n",
      "Epoch 9/20\n",
      "363/363 [==============================] - 0s 754us/step - loss: 0.5535 - main_output_loss: 0.4811 - aux_output_loss: 1.2057 - val_loss: 0.7832 - val_main_output_loss: 0.4555 - val_aux_output_loss: 3.7323\n",
      "Epoch 10/20\n",
      "363/363 [==============================] - 0s 768us/step - loss: 0.5456 - main_output_loss: 0.4708 - aux_output_loss: 1.2189 - val_loss: 0.7170 - val_main_output_loss: 0.4604 - val_aux_output_loss: 3.0262\n",
      "Epoch 11/20\n",
      "363/363 [==============================] - 0s 757us/step - loss: 0.5297 - main_output_loss: 0.4587 - aux_output_loss: 1.1684 - val_loss: 0.6510 - val_main_output_loss: 0.4293 - val_aux_output_loss: 2.6468\n",
      "Epoch 12/20\n",
      "363/363 [==============================] - 0s 765us/step - loss: 0.5181 - main_output_loss: 0.4501 - aux_output_loss: 1.1305 - val_loss: 0.6051 - val_main_output_loss: 0.4310 - val_aux_output_loss: 2.1722\n",
      "Epoch 13/20\n",
      "363/363 [==============================] - 0s 790us/step - loss: 0.5100 - main_output_loss: 0.4487 - aux_output_loss: 1.0620 - val_loss: 0.5644 - val_main_output_loss: 0.4161 - val_aux_output_loss: 1.8992\n",
      "Epoch 14/20\n",
      "363/363 [==============================] - 0s 768us/step - loss: 0.5064 - main_output_loss: 0.4459 - aux_output_loss: 1.0503 - val_loss: 0.5354 - val_main_output_loss: 0.4119 - val_aux_output_loss: 1.6466\n",
      "Epoch 15/20\n",
      "363/363 [==============================] - 0s 790us/step - loss: 0.5027 - main_output_loss: 0.4452 - aux_output_loss: 1.0207 - val_loss: 0.5124 - val_main_output_loss: 0.4047 - val_aux_output_loss: 1.4812\n",
      "Epoch 16/20\n",
      "363/363 [==============================] - 0s 762us/step - loss: 0.5057 - main_output_loss: 0.4480 - aux_output_loss: 1.0249 - val_loss: 0.4934 - val_main_output_loss: 0.4034 - val_aux_output_loss: 1.3035\n",
      "Epoch 17/20\n",
      "363/363 [==============================] - 0s 779us/step - loss: 0.4931 - main_output_loss: 0.4360 - aux_output_loss: 1.0075 - val_loss: 0.4801 - val_main_output_loss: 0.3984 - val_aux_output_loss: 1.2150\n",
      "Epoch 18/20\n",
      "363/363 [==============================] - ETA: 0s - loss: 0.4926 - main_output_loss: 0.4354 - aux_output_loss: 1.00 - 0s 809us/step - loss: 0.4922 - main_output_loss: 0.4352 - aux_output_loss: 1.0053 - val_loss: 0.4694 - val_main_output_loss: 0.3962 - val_aux_output_loss: 1.1279\n",
      "Epoch 19/20\n",
      "363/363 [==============================] - 0s 818us/step - loss: 0.4658 - main_output_loss: 0.4139 - aux_output_loss: 0.9323 - val_loss: 0.4580 - val_main_output_loss: 0.3936 - val_aux_output_loss: 1.0372\n",
      "Epoch 20/20\n",
      "363/363 [==============================] - 0s 754us/step - loss: 0.4589 - main_output_loss: 0.4072 - aux_output_loss: 0.9243 - val_loss: 0.4655 - val_main_output_loss: 0.4048 - val_aux_output_loss: 1.0118\n"
     ]
    }
   ],
   "source": [
    "history = model.fit([X_train_A, X_train_B], [y_train, y_train], epochs=20,\n",
    "                    validation_data=([X_valid_A, X_valid_B], [y_valid, y_valid]))"
   ]
  },
  {
   "cell_type": "code",
   "execution_count": 64,
   "metadata": {},
   "outputs": [
    {
     "name": "stdout",
     "output_type": "stream",
     "text": [
      "162/162 [==============================] - 0s 503us/step - loss: 0.4668 - main_output_loss: 0.4178 - aux_output_loss: 0.9082\n",
      "WARNING:tensorflow:5 out of the last 6 calls to <function Model.make_predict_function.<locals>.predict_function at 0x000002450814B5E0> triggered tf.function retracing. Tracing is expensive and the excessive number of tracings could be due to (1) creating @tf.function repeatedly in a loop, (2) passing tensors with different shapes, (3) passing Python objects instead of tensors. For (1), please define your @tf.function outside of the loop. For (2), @tf.function has experimental_relax_shapes=True option that relaxes argument shapes that can avoid unnecessary retracing. For (3), please refer to https://www.tensorflow.org/guide/function#controlling_retracing and https://www.tensorflow.org/api_docs/python/tf/function for  more details.\n"
     ]
    }
   ],
   "source": [
    "total_loss, main_loss, aux_loss = model.evaluate(\n",
    "    [X_test_A, X_test_B], [y_test, y_test])\n",
    "y_pred_main, y_pred_aux = model.predict([X_new_A, X_new_B])"
   ]
  },
  {
   "cell_type": "markdown",
   "metadata": {},
   "source": [
    "# The subclassing API"
   ]
  },
  {
   "cell_type": "code",
   "execution_count": 65,
   "metadata": {},
   "outputs": [],
   "source": [
    "class WideAndDeepModel(keras.models.Model):\n",
    "    def __init__(self, units=30, activation=\"relu\", **kwargs):\n",
    "        super().__init__(**kwargs)\n",
    "        self.hidden1 = keras.layers.Dense(units, activation=activation)\n",
    "        self.hidden2 = keras.layers.Dense(units, activation=activation)\n",
    "        self.main_output = keras.layers.Dense(1)\n",
    "        self.aux_output = keras.layers.Dense(1)\n",
    "        \n",
    "    def call(self, inputs):\n",
    "        input_A, input_B = inputs\n",
    "        hidden1 = self.hidden1(input_B)\n",
    "        hidden2 = self.hidden2(hidden1)\n",
    "        concat = keras.layers.concatenate([input_A, hidden2])\n",
    "        main_output = self.main_output(concat)\n",
    "        aux_output = self.aux_output(hidden2)\n",
    "        return main_output, aux_output\n",
    "\n",
    "model = WideAndDeepModel(30, activation=\"relu\")"
   ]
  },
  {
   "cell_type": "code",
   "execution_count": 66,
   "metadata": {},
   "outputs": [
    {
     "name": "stdout",
     "output_type": "stream",
     "text": [
      "Epoch 1/10\n",
      "363/363 [==============================] - 1s 1ms/step - loss: 3.3855 - output_1_loss: 3.3304 - output_2_loss: 3.8821 - val_loss: 2.1435 - val_output_1_loss: 1.1581 - val_output_2_loss: 11.0117\n",
      "Epoch 2/10\n",
      "363/363 [==============================] - 0s 762us/step - loss: 1.0790 - output_1_loss: 0.9329 - output_2_loss: 2.3942 - val_loss: 1.7567 - val_output_1_loss: 0.8205 - val_output_2_loss: 10.1825\n",
      "Epoch 3/10\n",
      "363/363 [==============================] - 0s 751us/step - loss: 0.8644 - output_1_loss: 0.7583 - output_2_loss: 1.8194 - val_loss: 1.5664 - val_output_1_loss: 0.7913 - val_output_2_loss: 8.5419\n",
      "Epoch 4/10\n",
      "363/363 [==============================] - 0s 757us/step - loss: 0.7850 - output_1_loss: 0.6979 - output_2_loss: 1.5689 - val_loss: 1.3088 - val_output_1_loss: 0.6549 - val_output_2_loss: 7.1933\n",
      "Epoch 5/10\n",
      "363/363 [==============================] - ETA: 0s - loss: 0.7296 - output_1_loss: 0.6501 - output_2_loss: 1.445 - 0s 782us/step - loss: 0.7294 - output_1_loss: 0.6499 - output_2_loss: 1.4452 - val_loss: 1.1357 - val_output_1_loss: 0.5964 - val_output_2_loss: 5.9898\n",
      "Epoch 6/10\n",
      "363/363 [==============================] - 0s 754us/step - loss: 0.6880 - output_1_loss: 0.6092 - output_2_loss: 1.3974 - val_loss: 1.0036 - val_output_1_loss: 0.5937 - val_output_2_loss: 4.6933\n",
      "Epoch 7/10\n",
      "363/363 [==============================] - 0s 757us/step - loss: 0.6918 - output_1_loss: 0.6143 - output_2_loss: 1.3899 - val_loss: 0.8904 - val_output_1_loss: 0.5591 - val_output_2_loss: 3.8714\n",
      "Epoch 8/10\n",
      "363/363 [==============================] - 0s 762us/step - loss: 0.6504 - output_1_loss: 0.5805 - output_2_loss: 1.2797 - val_loss: 0.8009 - val_output_1_loss: 0.5243 - val_output_2_loss: 3.2903\n",
      "Epoch 9/10\n",
      "363/363 [==============================] - 0s 779us/step - loss: 0.6270 - output_1_loss: 0.5574 - output_2_loss: 1.2533 - val_loss: 0.7357 - val_output_1_loss: 0.5144 - val_output_2_loss: 2.7275\n",
      "Epoch 10/10\n",
      "363/363 [==============================] - 0s 760us/step - loss: 0.6160 - output_1_loss: 0.5456 - output_2_loss: 1.2495 - val_loss: 0.6849 - val_output_1_loss: 0.5014 - val_output_2_loss: 2.3370\n",
      "162/162 [==============================] - 0s 491us/step - loss: 0.5841 - output_1_loss: 0.5188 - output_2_loss: 1.1722\n",
      "WARNING:tensorflow:6 out of the last 7 calls to <function Model.make_predict_function.<locals>.predict_function at 0x00000245094E6CA0> triggered tf.function retracing. Tracing is expensive and the excessive number of tracings could be due to (1) creating @tf.function repeatedly in a loop, (2) passing tensors with different shapes, (3) passing Python objects instead of tensors. For (1), please define your @tf.function outside of the loop. For (2), @tf.function has experimental_relax_shapes=True option that relaxes argument shapes that can avoid unnecessary retracing. For (3), please refer to https://www.tensorflow.org/guide/function#controlling_retracing and https://www.tensorflow.org/api_docs/python/tf/function for  more details.\n"
     ]
    }
   ],
   "source": [
    "model.compile(loss=\"mse\", loss_weights=[0.9, 0.1], optimizer=keras.optimizers.SGD(lr=1e-3))\n",
    "history = model.fit((X_train_A, X_train_B), (y_train, y_train), epochs=10,\n",
    "                    validation_data=((X_valid_A, X_valid_B), (y_valid, y_valid)))\n",
    "total_loss, main_loss, aux_loss = model.evaluate((X_test_A, X_test_B), (y_test, y_test))\n",
    "y_pred_main, y_pred_aux = model.predict((X_new_A, X_new_B))"
   ]
  },
  {
   "cell_type": "code",
   "execution_count": 67,
   "metadata": {},
   "outputs": [],
   "source": [
    "model = WideAndDeepModel(30, activation=\"relu\")"
   ]
  },
  {
   "cell_type": "markdown",
   "metadata": {},
   "source": [
    "# Saving and Restoring"
   ]
  },
  {
   "cell_type": "code",
   "execution_count": 68,
   "metadata": {},
   "outputs": [],
   "source": [
    "np.random.seed(42)\n",
    "tf.random.set_seed(42)"
   ]
  },
  {
   "cell_type": "code",
   "execution_count": 69,
   "metadata": {},
   "outputs": [],
   "source": [
    "model = keras.models.Sequential([\n",
    "    keras.layers.Dense(30, activation=\"relu\", input_shape=[8]),\n",
    "    keras.layers.Dense(30, activation=\"relu\"),\n",
    "    keras.layers.Dense(1)\n",
    "])    "
   ]
  },
  {
   "cell_type": "code",
   "execution_count": 70,
   "metadata": {},
   "outputs": [
    {
     "name": "stdout",
     "output_type": "stream",
     "text": [
      "Epoch 1/10\n",
      "363/363 [==============================] - 0s 859us/step - loss: 3.3697 - val_loss: 0.7126\n",
      "Epoch 2/10\n",
      "363/363 [==============================] - 0s 660us/step - loss: 0.6964 - val_loss: 0.6880\n",
      "Epoch 3/10\n",
      "363/363 [==============================] - 0s 655us/step - loss: 0.6167 - val_loss: 0.5803\n",
      "Epoch 4/10\n",
      "363/363 [==============================] - 0s 646us/step - loss: 0.5846 - val_loss: 0.5166\n",
      "Epoch 5/10\n",
      "363/363 [==============================] - 0s 638us/step - loss: 0.5321 - val_loss: 0.4895\n",
      "Epoch 6/10\n",
      "363/363 [==============================] - 0s 624us/step - loss: 0.5083 - val_loss: 0.4951\n",
      "Epoch 7/10\n",
      "363/363 [==============================] - 0s 622us/step - loss: 0.5044 - val_loss: 0.4861\n",
      "Epoch 8/10\n",
      "363/363 [==============================] - 0s 630us/step - loss: 0.4813 - val_loss: 0.4554\n",
      "Epoch 9/10\n",
      "363/363 [==============================] - 0s 624us/step - loss: 0.4627 - val_loss: 0.4413\n",
      "Epoch 10/10\n",
      "363/363 [==============================] - 0s 619us/step - loss: 0.4549 - val_loss: 0.4379\n",
      "162/162 [==============================] - 0s 404us/step - loss: 0.4382\n"
     ]
    }
   ],
   "source": [
    "model.compile(loss=\"mse\", optimizer=keras.optimizers.SGD(lr=1e-3))\n",
    "history = model.fit(X_train, y_train, epochs=10, validation_data=(X_valid, y_valid))\n",
    "mse_test = model.evaluate(X_test, y_test)"
   ]
  },
  {
   "cell_type": "code",
   "execution_count": 71,
   "metadata": {},
   "outputs": [],
   "source": [
    "model.save(\"my_keras_model.h5\")"
   ]
  },
  {
   "cell_type": "code",
   "execution_count": 72,
   "metadata": {},
   "outputs": [],
   "source": [
    "model = keras.models.load_model(\"my_keras_model.h5\")"
   ]
  },
  {
   "cell_type": "code",
   "execution_count": 73,
   "metadata": {},
   "outputs": [
    {
     "data": {
      "text/plain": [
       "array([[0.5400236],\n",
       "       [1.6505969],\n",
       "       [3.0098243]], dtype=float32)"
      ]
     },
     "execution_count": 73,
     "metadata": {},
     "output_type": "execute_result"
    }
   ],
   "source": [
    "model.predict(X_new)"
   ]
  },
  {
   "cell_type": "code",
   "execution_count": 74,
   "metadata": {},
   "outputs": [],
   "source": [
    "model.save_weights(\"my_keras_weights.ckpt\")"
   ]
  },
  {
   "cell_type": "code",
   "execution_count": 75,
   "metadata": {},
   "outputs": [
    {
     "data": {
      "text/plain": [
       "<tensorflow.python.training.tracking.util.CheckpointLoadStatus at 0x24509bf1eb0>"
      ]
     },
     "execution_count": 75,
     "metadata": {},
     "output_type": "execute_result"
    }
   ],
   "source": [
    "model.load_weights(\"my_keras_weights.ckpt\")"
   ]
  },
  {
   "cell_type": "markdown",
   "metadata": {},
   "source": [
    "# Using Callbacks during Training"
   ]
  },
  {
   "cell_type": "code",
   "execution_count": 76,
   "metadata": {},
   "outputs": [],
   "source": [
    "keras.backend.clear_session()\n",
    "np.random.seed(42)\n",
    "tf.random.set_seed(42)"
   ]
  },
  {
   "cell_type": "code",
   "execution_count": 77,
   "metadata": {},
   "outputs": [],
   "source": [
    "model = keras.models.Sequential([\n",
    "    keras.layers.Dense(30, activation=\"relu\", input_shape=[8]),\n",
    "    keras.layers.Dense(30, activation=\"relu\"),\n",
    "    keras.layers.Dense(1)\n",
    "])    "
   ]
  },
  {
   "cell_type": "code",
   "execution_count": 78,
   "metadata": {},
   "outputs": [
    {
     "name": "stdout",
     "output_type": "stream",
     "text": [
      "Epoch 1/10\n",
      "363/363 [==============================] - 1s 854us/step - loss: 3.3697 - val_loss: 0.7126\n",
      "Epoch 2/10\n",
      "363/363 [==============================] - 0s 624us/step - loss: 0.6964 - val_loss: 0.6880\n",
      "Epoch 3/10\n",
      "363/363 [==============================] - 0s 630us/step - loss: 0.6167 - val_loss: 0.5803\n",
      "Epoch 4/10\n",
      "363/363 [==============================] - 0s 657us/step - loss: 0.5846 - val_loss: 0.5166\n",
      "Epoch 5/10\n",
      "363/363 [==============================] - 0s 635us/step - loss: 0.5321 - val_loss: 0.4895\n",
      "Epoch 6/10\n",
      "363/363 [==============================] - 0s 638us/step - loss: 0.5083 - val_loss: 0.4951\n",
      "Epoch 7/10\n",
      "363/363 [==============================] - 0s 663us/step - loss: 0.5044 - val_loss: 0.4861\n",
      "Epoch 8/10\n",
      "363/363 [==============================] - 0s 635us/step - loss: 0.4813 - val_loss: 0.4554\n",
      "Epoch 9/10\n",
      "363/363 [==============================] - 0s 627us/step - loss: 0.4627 - val_loss: 0.4413\n",
      "Epoch 10/10\n",
      "363/363 [==============================] - 0s 669us/step - loss: 0.4549 - val_loss: 0.4379\n",
      "162/162 [==============================] - 0s 478us/step - loss: 0.4382\n"
     ]
    }
   ],
   "source": [
    "model.compile(loss=\"mse\", optimizer=keras.optimizers.SGD(lr=1e-3))\n",
    "checkpoint_cb = keras.callbacks.ModelCheckpoint(\"my_keras_model.h5\", save_best_only=True)\n",
    "history = model.fit(X_train, y_train, epochs=10,\n",
    "                    validation_data=(X_valid, y_valid),\n",
    "                    callbacks=[checkpoint_cb])\n",
    "model = keras.models.load_model(\"my_keras_model.h5\") # rollback to best model\n",
    "mse_test = model.evaluate(X_test, y_test)"
   ]
  },
  {
   "cell_type": "code",
   "execution_count": 79,
   "metadata": {},
   "outputs": [
    {
     "name": "stdout",
     "output_type": "stream",
     "text": [
      "Epoch 1/100\n",
      "363/363 [==============================] - 0s 840us/step - loss: 0.4578 - val_loss: 0.4110\n",
      "Epoch 2/100\n",
      "363/363 [==============================] - 0s 638us/step - loss: 0.4430 - val_loss: 0.4266\n",
      "Epoch 3/100\n",
      "363/363 [==============================] - 0s 646us/step - loss: 0.4376 - val_loss: 0.3996\n",
      "Epoch 4/100\n",
      "363/363 [==============================] - ETA: 0s - loss: 0.437 - 0s 641us/step - loss: 0.4361 - val_loss: 0.3939\n",
      "Epoch 5/100\n",
      "363/363 [==============================] - 0s 619us/step - loss: 0.4204 - val_loss: 0.3889\n",
      "Epoch 6/100\n",
      "363/363 [==============================] - 0s 635us/step - loss: 0.4112 - val_loss: 0.3866\n",
      "Epoch 7/100\n",
      "363/363 [==============================] - 0s 641us/step - loss: 0.4226 - val_loss: 0.3860\n",
      "Epoch 8/100\n",
      "363/363 [==============================] - 0s 635us/step - loss: 0.4135 - val_loss: 0.3793\n",
      "Epoch 9/100\n",
      "363/363 [==============================] - 0s 633us/step - loss: 0.4039 - val_loss: 0.3746\n",
      "Epoch 10/100\n",
      "363/363 [==============================] - 0s 638us/step - loss: 0.4023 - val_loss: 0.3723\n",
      "Epoch 11/100\n",
      "363/363 [==============================] - 0s 657us/step - loss: 0.3950 - val_loss: 0.3697\n",
      "Epoch 12/100\n",
      "363/363 [==============================] - 0s 655us/step - loss: 0.3912 - val_loss: 0.3669\n",
      "Epoch 13/100\n",
      "363/363 [==============================] - 0s 657us/step - loss: 0.3939 - val_loss: 0.3661\n",
      "Epoch 14/100\n",
      "363/363 [==============================] - 0s 638us/step - loss: 0.3868 - val_loss: 0.3631\n",
      "Epoch 15/100\n",
      "363/363 [==============================] - 0s 627us/step - loss: 0.3878 - val_loss: 0.3660\n",
      "Epoch 16/100\n",
      "363/363 [==============================] - 0s 624us/step - loss: 0.3935 - val_loss: 0.3625\n",
      "Epoch 17/100\n",
      "363/363 [==============================] - 0s 627us/step - loss: 0.3817 - val_loss: 0.3592\n",
      "Epoch 18/100\n",
      "363/363 [==============================] - 0s 663us/step - loss: 0.3801 - val_loss: 0.3563\n",
      "Epoch 19/100\n",
      "363/363 [==============================] - 0s 685us/step - loss: 0.3679 - val_loss: 0.3535\n",
      "Epoch 20/100\n",
      "363/363 [==============================] - 0s 635us/step - loss: 0.3624 - val_loss: 0.3709\n",
      "Epoch 21/100\n",
      "363/363 [==============================] - 0s 622us/step - loss: 0.3746 - val_loss: 0.3512\n",
      "Epoch 22/100\n",
      "363/363 [==============================] - 0s 644us/step - loss: 0.3605 - val_loss: 0.3699\n",
      "Epoch 23/100\n",
      "363/363 [==============================] - 0s 641us/step - loss: 0.3822 - val_loss: 0.3476\n",
      "Epoch 24/100\n",
      "363/363 [==============================] - 0s 649us/step - loss: 0.3626 - val_loss: 0.3561\n",
      "Epoch 25/100\n",
      "363/363 [==============================] - 0s 635us/step - loss: 0.3610 - val_loss: 0.3527\n",
      "Epoch 26/100\n",
      "363/363 [==============================] - 0s 646us/step - loss: 0.3626 - val_loss: 0.3700\n",
      "Epoch 27/100\n",
      "363/363 [==============================] - 0s 641us/step - loss: 0.3685 - val_loss: 0.3432\n",
      "Epoch 28/100\n",
      "363/363 [==============================] - 0s 641us/step - loss: 0.3684 - val_loss: 0.3592\n",
      "Epoch 29/100\n",
      "363/363 [==============================] - 0s 624us/step - loss: 0.3581 - val_loss: 0.3521\n",
      "Epoch 30/100\n",
      "363/363 [==============================] - 0s 649us/step - loss: 0.3687 - val_loss: 0.3626\n",
      "Epoch 31/100\n",
      "363/363 [==============================] - 0s 652us/step - loss: 0.3613 - val_loss: 0.3431\n",
      "Epoch 32/100\n",
      "363/363 [==============================] - 0s 630us/step - loss: 0.3555 - val_loss: 0.3765\n",
      "Epoch 33/100\n",
      "363/363 [==============================] - 0s 641us/step - loss: 0.3620 - val_loss: 0.3374\n",
      "Epoch 34/100\n",
      "363/363 [==============================] - ETA: 0s - loss: 0.349 - 0s 657us/step - loss: 0.3502 - val_loss: 0.3407\n",
      "Epoch 35/100\n",
      "363/363 [==============================] - 0s 622us/step - loss: 0.3471 - val_loss: 0.3614\n",
      "Epoch 36/100\n",
      "363/363 [==============================] - 0s 630us/step - loss: 0.3451 - val_loss: 0.3348\n",
      "Epoch 37/100\n",
      "363/363 [==============================] - 0s 630us/step - loss: 0.3780 - val_loss: 0.3573\n",
      "Epoch 38/100\n",
      "363/363 [==============================] - 0s 655us/step - loss: 0.3474 - val_loss: 0.3367\n",
      "Epoch 39/100\n",
      "363/363 [==============================] - 0s 630us/step - loss: 0.3689 - val_loss: 0.3425\n",
      "Epoch 40/100\n",
      "363/363 [==============================] - 0s 638us/step - loss: 0.3485 - val_loss: 0.3369\n",
      "Epoch 41/100\n",
      "363/363 [==============================] - 0s 624us/step - loss: 0.3675 - val_loss: 0.3515\n",
      "Epoch 42/100\n",
      "363/363 [==============================] - 0s 644us/step - loss: 0.3471 - val_loss: 0.3426\n",
      "Epoch 43/100\n",
      "363/363 [==============================] - 0s 655us/step - loss: 0.3545 - val_loss: 0.3677\n",
      "Epoch 44/100\n",
      "363/363 [==============================] - 0s 635us/step - loss: 0.3407 - val_loss: 0.3564\n",
      "Epoch 45/100\n",
      "363/363 [==============================] - 0s 644us/step - loss: 0.3554 - val_loss: 0.3336\n",
      "Epoch 46/100\n",
      "363/363 [==============================] - 0s 630us/step - loss: 0.3499 - val_loss: 0.3457\n",
      "Epoch 47/100\n",
      "363/363 [==============================] - 0s 652us/step - loss: 0.3623 - val_loss: 0.3433\n",
      "Epoch 48/100\n",
      "363/363 [==============================] - 0s 630us/step - loss: 0.3401 - val_loss: 0.3659\n",
      "Epoch 49/100\n",
      "363/363 [==============================] - 0s 630us/step - loss: 0.3528 - val_loss: 0.3286\n",
      "Epoch 50/100\n",
      "363/363 [==============================] - 0s 622us/step - loss: 0.3560 - val_loss: 0.3268\n",
      "Epoch 51/100\n",
      "363/363 [==============================] - 0s 649us/step - loss: 0.3483 - val_loss: 0.3439\n",
      "Epoch 52/100\n",
      "363/363 [==============================] - 0s 646us/step - loss: 0.3405 - val_loss: 0.3263\n",
      "Epoch 53/100\n",
      "363/363 [==============================] - 0s 641us/step - loss: 0.3468 - val_loss: 0.3910\n",
      "Epoch 54/100\n",
      "363/363 [==============================] - 0s 630us/step - loss: 0.3337 - val_loss: 0.3275\n",
      "Epoch 55/100\n",
      "363/363 [==============================] - 0s 682us/step - loss: 0.3462 - val_loss: 0.3561\n",
      "Epoch 56/100\n",
      "363/363 [==============================] - 0s 638us/step - loss: 0.3342 - val_loss: 0.3237\n",
      "Epoch 57/100\n",
      "363/363 [==============================] - 0s 630us/step - loss: 0.3395 - val_loss: 0.3242\n",
      "Epoch 58/100\n",
      "363/363 [==============================] - 0s 630us/step - loss: 0.3315 - val_loss: 0.3765\n",
      "Epoch 59/100\n",
      "363/363 [==============================] - 0s 644us/step - loss: 0.3394 - val_loss: 0.3289\n",
      "Epoch 60/100\n",
      "363/363 [==============================] - 0s 627us/step - loss: 0.3378 - val_loss: 0.3502\n",
      "Epoch 61/100\n",
      "363/363 [==============================] - 0s 633us/step - loss: 0.3522 - val_loss: 0.3456\n",
      "Epoch 62/100\n",
      "363/363 [==============================] - 0s 633us/step - loss: 0.3473 - val_loss: 0.3445\n",
      "Epoch 63/100\n",
      "363/363 [==============================] - 0s 655us/step - loss: 0.3427 - val_loss: 0.3290\n",
      "Epoch 64/100\n",
      "363/363 [==============================] - 0s 644us/step - loss: 0.3212 - val_loss: 0.3217\n",
      "Epoch 65/100\n",
      "363/363 [==============================] - 0s 682us/step - loss: 0.3374 - val_loss: 0.3351\n",
      "Epoch 66/100\n",
      "363/363 [==============================] - 0s 635us/step - loss: 0.3323 - val_loss: 0.3232\n",
      "Epoch 67/100\n",
      "363/363 [==============================] - 0s 633us/step - loss: 0.3470 - val_loss: 0.3566\n",
      "Epoch 68/100\n",
      "363/363 [==============================] - 0s 649us/step - loss: 0.3316 - val_loss: 0.3257\n",
      "Epoch 69/100\n",
      "363/363 [==============================] - 0s 622us/step - loss: 0.3354 - val_loss: 0.3348\n",
      "Epoch 70/100\n",
      "363/363 [==============================] - 0s 630us/step - loss: 0.3316 - val_loss: 0.3560\n",
      "Epoch 71/100\n",
      "363/363 [==============================] - 0s 616us/step - loss: 0.3371 - val_loss: 0.3583\n",
      "Epoch 72/100\n",
      "363/363 [==============================] - ETA: 0s - loss: 0.318 - 0s 652us/step - loss: 0.3201 - val_loss: 0.3287\n",
      "Epoch 73/100\n",
      "363/363 [==============================] - 0s 644us/step - loss: 0.3373 - val_loss: 0.3203\n",
      "Epoch 74/100\n",
      "363/363 [==============================] - ETA: 0s - loss: 0.332 - 0s 646us/step - loss: 0.3327 - val_loss: 0.3840\n",
      "Epoch 75/100\n",
      "363/363 [==============================] - 0s 624us/step - loss: 0.3268 - val_loss: 0.3233\n",
      "Epoch 76/100\n",
      "363/363 [==============================] - 0s 646us/step - loss: 0.3322 - val_loss: 0.3476\n",
      "Epoch 77/100\n",
      "363/363 [==============================] - 0s 624us/step - loss: 0.3224 - val_loss: 0.3407\n",
      "Epoch 78/100\n",
      "363/363 [==============================] - 0s 619us/step - loss: 0.3331 - val_loss: 0.3462\n"
     ]
    },
    {
     "name": "stdout",
     "output_type": "stream",
     "text": [
      "Epoch 79/100\n",
      "363/363 [==============================] - 0s 624us/step - loss: 0.3310 - val_loss: 0.3347\n",
      "Epoch 80/100\n",
      "363/363 [==============================] - 0s 641us/step - loss: 0.3323 - val_loss: 0.3354\n",
      "Epoch 81/100\n",
      "363/363 [==============================] - 0s 638us/step - loss: 0.3297 - val_loss: 0.3274\n",
      "Epoch 82/100\n",
      "363/363 [==============================] - ETA: 0s - loss: 0.344 - 0s 638us/step - loss: 0.3441 - val_loss: 0.3167\n",
      "Epoch 83/100\n",
      "363/363 [==============================] - 0s 619us/step - loss: 0.3369 - val_loss: 0.3280\n",
      "Epoch 84/100\n",
      "363/363 [==============================] - 0s 633us/step - loss: 0.3182 - val_loss: 0.3634\n",
      "Epoch 85/100\n",
      "363/363 [==============================] - 0s 635us/step - loss: 0.3235 - val_loss: 0.3176\n",
      "Epoch 86/100\n",
      "363/363 [==============================] - 0s 627us/step - loss: 0.3184 - val_loss: 0.3156\n",
      "Epoch 87/100\n",
      "363/363 [==============================] - 0s 635us/step - loss: 0.3395 - val_loss: 0.3529\n",
      "Epoch 88/100\n",
      "363/363 [==============================] - 0s 657us/step - loss: 0.3264 - val_loss: 0.3258\n",
      "Epoch 89/100\n",
      "363/363 [==============================] - 0s 627us/step - loss: 0.3210 - val_loss: 0.3630\n",
      "Epoch 90/100\n",
      "363/363 [==============================] - 0s 619us/step - loss: 0.3192 - val_loss: 0.3376\n",
      "Epoch 91/100\n",
      "363/363 [==============================] - 0s 633us/step - loss: 0.3237 - val_loss: 0.3211\n",
      "Epoch 92/100\n",
      "363/363 [==============================] - 0s 622us/step - loss: 0.3281 - val_loss: 0.3456\n",
      "Epoch 93/100\n",
      "363/363 [==============================] - 0s 646us/step - loss: 0.3424 - val_loss: 0.3158\n",
      "Epoch 94/100\n",
      "363/363 [==============================] - 0s 641us/step - loss: 0.3209 - val_loss: 0.3409\n",
      "Epoch 95/100\n",
      "363/363 [==============================] - 0s 624us/step - loss: 0.3230 - val_loss: 0.3379\n",
      "Epoch 96/100\n",
      "363/363 [==============================] - 0s 641us/step - loss: 0.3341 - val_loss: 0.3213\n",
      "162/162 [==============================] - 0s 398us/step - loss: 0.3310\n"
     ]
    }
   ],
   "source": [
    "model.compile(loss=\"mse\", optimizer=keras.optimizers.SGD(lr=1e-3))\n",
    "early_stopping_cb = keras.callbacks.EarlyStopping(patience=10,\n",
    "                                                  restore_best_weights=True)\n",
    "history = model.fit(X_train, y_train, epochs=100,\n",
    "                    validation_data=(X_valid, y_valid),\n",
    "                    callbacks=[checkpoint_cb, early_stopping_cb])\n",
    "mse_test = model.evaluate(X_test, y_test)"
   ]
  },
  {
   "cell_type": "code",
   "execution_count": 80,
   "metadata": {},
   "outputs": [],
   "source": [
    "class PrintValTrainRatioCallback(keras.callbacks.Callback):\n",
    "    def on_epoch_end(self, epoch, logs):\n",
    "        print(\"\\nval/train: {:.2f}\".format(logs[\"val_loss\"] / logs[\"loss\"]))"
   ]
  },
  {
   "cell_type": "code",
   "execution_count": 81,
   "metadata": {},
   "outputs": [
    {
     "name": "stdout",
     "output_type": "stream",
     "text": [
      "363/363 [==============================] - 0s 757us/step - loss: 0.3302 - val_loss: 0.3556\n",
      "\n",
      "val/train: 1.08\n"
     ]
    }
   ],
   "source": [
    "val_train_ratio_cb = PrintValTrainRatioCallback()\n",
    "history = model.fit(X_train, y_train, epochs=1,\n",
    "                    validation_data=(X_valid, y_valid),\n",
    "                    callbacks=[val_train_ratio_cb])"
   ]
  },
  {
   "cell_type": "markdown",
   "metadata": {},
   "source": [
    "# TensorBoard"
   ]
  },
  {
   "cell_type": "code",
   "execution_count": 82,
   "metadata": {},
   "outputs": [],
   "source": [
    "root_logdir = os.path.join(os.curdir, \"my_logs\")"
   ]
  },
  {
   "cell_type": "code",
   "execution_count": 83,
   "metadata": {},
   "outputs": [
    {
     "data": {
      "text/plain": [
       "'.\\\\my_logs\\\\run_2021_02_19-17_10_41'"
      ]
     },
     "execution_count": 83,
     "metadata": {},
     "output_type": "execute_result"
    }
   ],
   "source": [
    "def get_run_logdir():\n",
    "    import time\n",
    "    run_id = time.strftime(\"run_%Y_%m_%d-%H_%M_%S\")\n",
    "    return os.path.join(root_logdir, run_id)\n",
    "\n",
    "run_logdir = get_run_logdir()\n",
    "run_logdir"
   ]
  },
  {
   "cell_type": "code",
   "execution_count": 84,
   "metadata": {},
   "outputs": [],
   "source": [
    "keras.backend.clear_session()\n",
    "np.random.seed(42)\n",
    "tf.random.set_seed(42)"
   ]
  },
  {
   "cell_type": "code",
   "execution_count": 85,
   "metadata": {},
   "outputs": [],
   "source": [
    "model = keras.models.Sequential([\n",
    "    keras.layers.Dense(30, activation=\"relu\", input_shape=[8]),\n",
    "    keras.layers.Dense(30, activation=\"relu\"),\n",
    "    keras.layers.Dense(1)\n",
    "])    \n",
    "model.compile(loss=\"mse\", optimizer=keras.optimizers.SGD(lr=1e-3))"
   ]
  },
  {
   "cell_type": "code",
   "execution_count": 86,
   "metadata": {},
   "outputs": [
    {
     "name": "stdout",
     "output_type": "stream",
     "text": [
      "Epoch 1/30\n",
      "363/363 [==============================] - 1s 3ms/step - loss: 3.3697 - val_loss: 0.7126\n",
      "Epoch 2/30\n",
      "363/363 [==============================] - 0s 666us/step - loss: 0.6964 - val_loss: 0.6880\n",
      "Epoch 3/30\n",
      "363/363 [==============================] - 0s 666us/step - loss: 0.6167 - val_loss: 0.5803\n",
      "Epoch 4/30\n",
      "363/363 [==============================] - 0s 630us/step - loss: 0.5846 - val_loss: 0.5166\n",
      "Epoch 5/30\n",
      "363/363 [==============================] - 0s 660us/step - loss: 0.5321 - val_loss: 0.4895\n",
      "Epoch 6/30\n",
      "363/363 [==============================] - 0s 638us/step - loss: 0.5083 - val_loss: 0.4951\n",
      "Epoch 7/30\n",
      "363/363 [==============================] - 0s 671us/step - loss: 0.5044 - val_loss: 0.4861\n",
      "Epoch 8/30\n",
      "363/363 [==============================] - 0s 649us/step - loss: 0.4813 - val_loss: 0.4554\n",
      "Epoch 9/30\n",
      "363/363 [==============================] - 0s 644us/step - loss: 0.4627 - val_loss: 0.4413\n",
      "Epoch 10/30\n",
      "363/363 [==============================] - 0s 638us/step - loss: 0.4549 - val_loss: 0.4379\n",
      "Epoch 11/30\n",
      "363/363 [==============================] - 0s 638us/step - loss: 0.4416 - val_loss: 0.4396\n",
      "Epoch 12/30\n",
      "363/363 [==============================] - 0s 704us/step - loss: 0.4295 - val_loss: 0.4507\n",
      "Epoch 13/30\n",
      "363/363 [==============================] - 0s 641us/step - loss: 0.4326 - val_loss: 0.3997\n",
      "Epoch 14/30\n",
      "363/363 [==============================] - 0s 644us/step - loss: 0.4207 - val_loss: 0.3956\n",
      "Epoch 15/30\n",
      "363/363 [==============================] - 0s 638us/step - loss: 0.4198 - val_loss: 0.3916\n",
      "Epoch 16/30\n",
      "363/363 [==============================] - 0s 638us/step - loss: 0.4248 - val_loss: 0.3937\n",
      "Epoch 17/30\n",
      "363/363 [==============================] - 0s 644us/step - loss: 0.4105 - val_loss: 0.3809\n",
      "Epoch 18/30\n",
      "363/363 [==============================] - 0s 627us/step - loss: 0.4070 - val_loss: 0.3793\n",
      "Epoch 19/30\n",
      "363/363 [==============================] - 0s 641us/step - loss: 0.3902 - val_loss: 0.3850\n",
      "Epoch 20/30\n",
      "363/363 [==============================] - 0s 663us/step - loss: 0.3864 - val_loss: 0.3809\n",
      "Epoch 21/30\n",
      "363/363 [==============================] - 0s 646us/step - loss: 0.3978 - val_loss: 0.3701\n",
      "Epoch 22/30\n",
      "363/363 [==============================] - 0s 682us/step - loss: 0.3816 - val_loss: 0.3781\n",
      "Epoch 23/30\n",
      "363/363 [==============================] - 0s 616us/step - loss: 0.4042 - val_loss: 0.3650\n",
      "Epoch 24/30\n",
      "363/363 [==============================] - 0s 710us/step - loss: 0.3823 - val_loss: 0.3655\n",
      "Epoch 25/30\n",
      "363/363 [==============================] - 0s 663us/step - loss: 0.3792 - val_loss: 0.3611\n",
      "Epoch 26/30\n",
      "363/363 [==============================] - 0s 649us/step - loss: 0.3800 - val_loss: 0.3626\n",
      "Epoch 27/30\n",
      "363/363 [==============================] - 0s 699us/step - loss: 0.3858 - val_loss: 0.3564\n",
      "Epoch 28/30\n",
      "363/363 [==============================] - 0s 641us/step - loss: 0.3839 - val_loss: 0.3579\n",
      "Epoch 29/30\n",
      "363/363 [==============================] - 0s 657us/step - loss: 0.3736 - val_loss: 0.3561\n",
      "Epoch 30/30\n",
      "363/363 [==============================] - 0s 646us/step - loss: 0.3843 - val_loss: 0.3548\n"
     ]
    }
   ],
   "source": [
    "tensorboard_cb = keras.callbacks.TensorBoard(run_logdir)\n",
    "history = model.fit(X_train, y_train, epochs=30,\n",
    "                    validation_data=(X_valid, y_valid),\n",
    "                    callbacks=[checkpoint_cb, tensorboard_cb])"
   ]
  },
  {
   "cell_type": "markdown",
   "metadata": {},
   "source": [
    "To start the TensorBoard server, one option is to open a terminal, if needed activate the virtualenv where you installed TensorBoard, go to this notebook's directory, then type:\n",
    "\n",
    "```bash\n",
    "$ tensorboard --logdir=./my_logs --port=6006\n",
    "```\n",
    "\n",
    "You can then open your web browser to [localhost:6006](http://localhost:6006) and use TensorBoard. Once you are done, press Ctrl-C in the terminal window, this will shutdown the TensorBoard server.\n",
    "\n",
    "Alternatively, you can load TensorBoard's Jupyter extension and run it like this:"
   ]
  },
  {
   "cell_type": "code",
   "execution_count": 87,
   "metadata": {},
   "outputs": [
    {
     "data": {
      "text/plain": [
       "ERROR: Failed to launch TensorBoard (exited with 1).\n",
       "Contents of stderr:\n",
       "2021-02-19 17:10:55.524583: W tensorflow/stream_executor/platform/default/dso_loader.cc:60] Could not load dynamic library 'cudart64_110.dll'; dlerror: cudart64_110.dll not found\n",
       "2021-02-19 17:10:55.525901: I tensorflow/stream_executor/cuda/cudart_stub.cc:29] Ignore above cudart dlerror if you do not have a GPU set up on your machine.\n",
       "Traceback (most recent call last):\n",
       "  File \"f:\\python38\\lib\\runpy.py\", line 194, in _run_module_as_main\n",
       "    return _run_code(code, main_globals, None,\n",
       "  File \"f:\\python38\\lib\\runpy.py\", line 87, in _run_code\n",
       "    exec(code, run_globals)\n",
       "  File \"F:\\Python38\\Scripts\\tensorboard.exe\\__main__.py\", line 7, in <module>\n",
       "  File \"f:\\python38\\lib\\site-packages\\tensorboard\\main.py\", line 71, in run_main\n",
       "    app.run(tensorboard.main, flags_parser=tensorboard.configure)\n",
       "  File \"f:\\python38\\lib\\site-packages\\absl\\app.py\", line 300, in run\n",
       "    _run_main(main, args)\n",
       "  File \"f:\\python38\\lib\\site-packages\\absl\\app.py\", line 251, in _run_main\n",
       "    sys.exit(main(argv))\n",
       "  File \"f:\\python38\\lib\\site-packages\\tensorboard\\program.py\", line 283, in main\n",
       "    return runner(self.flags) or 0\n",
       "  File \"f:\\python38\\lib\\site-packages\\tensorboard\\program.py\", line 299, in _run_serve_subcommand\n",
       "    server = self._make_server()\n",
       "  File \"f:\\python38\\lib\\site-packages\\tensorboard\\program.py\", line 431, in _make_server\n",
       "    app = application.TensorBoardWSGIApp(\n",
       "  File \"f:\\python38\\lib\\site-packages\\tensorboard\\backend\\application.py\", line 143, in TensorBoardWSGIApp\n",
       "    return TensorBoardWSGI(\n",
       "  File \"f:\\python38\\lib\\site-packages\\tensorboard\\backend\\application.py\", line 256, in __init__\n",
       "    raise ValueError(\n",
       "ValueError: Duplicate plugins for name projector"
      ]
     },
     "metadata": {},
     "output_type": "display_data"
    }
   ],
   "source": [
    "%load_ext tensorboard\n",
    "%tensorboard --logdir=./my_logs --port=6006"
   ]
  },
  {
   "cell_type": "code",
   "execution_count": 88,
   "metadata": {},
   "outputs": [
    {
     "data": {
      "text/plain": [
       "'.\\\\my_logs\\\\run_2021_02_19-17_10_59'"
      ]
     },
     "execution_count": 88,
     "metadata": {},
     "output_type": "execute_result"
    }
   ],
   "source": [
    "run_logdir2 = get_run_logdir()\n",
    "run_logdir2"
   ]
  },
  {
   "cell_type": "code",
   "execution_count": 89,
   "metadata": {},
   "outputs": [],
   "source": [
    "keras.backend.clear_session()\n",
    "np.random.seed(42)\n",
    "tf.random.set_seed(42)"
   ]
  },
  {
   "cell_type": "code",
   "execution_count": 90,
   "metadata": {},
   "outputs": [],
   "source": [
    "model = keras.models.Sequential([\n",
    "    keras.layers.Dense(30, activation=\"relu\", input_shape=[8]),\n",
    "    keras.layers.Dense(30, activation=\"relu\"),\n",
    "    keras.layers.Dense(1)\n",
    "])    \n",
    "model.compile(loss=\"mse\", optimizer=keras.optimizers.SGD(lr=0.05))"
   ]
  },
  {
   "cell_type": "code",
   "execution_count": 91,
   "metadata": {},
   "outputs": [
    {
     "name": "stdout",
     "output_type": "stream",
     "text": [
      "Epoch 1/30\n",
      "363/363 [==============================] - 1s 3ms/step - loss: 0.7645 - val_loss: 302.8536\n",
      "Epoch 2/30\n",
      "363/363 [==============================] - 0s 702us/step - loss: 8159520618.2209 - val_loss: 1.3230\n",
      "Epoch 3/30\n",
      "363/363 [==============================] - 0s 660us/step - loss: 1.3439 - val_loss: 1.3176\n",
      "Epoch 4/30\n",
      "363/363 [==============================] - 0s 627us/step - loss: 1.3546 - val_loss: 1.3261\n",
      "Epoch 5/30\n",
      "363/363 [==============================] - 0s 635us/step - loss: 1.3513 - val_loss: 1.3154\n",
      "Epoch 6/30\n",
      "363/363 [==============================] - 0s 666us/step - loss: 1.3274 - val_loss: 1.3203\n",
      "Epoch 7/30\n",
      "363/363 [==============================] - 0s 644us/step - loss: 1.3639 - val_loss: 1.3149\n",
      "Epoch 8/30\n",
      "363/363 [==============================] - ETA: 0s - loss: 1.349 - 0s 660us/step - loss: 1.3487 - val_loss: 1.3157\n",
      "Epoch 9/30\n",
      "363/363 [==============================] - 0s 666us/step - loss: 1.3445 - val_loss: 1.3150\n",
      "Epoch 10/30\n",
      "363/363 [==============================] - 0s 641us/step - loss: 1.3697 - val_loss: 1.3172\n",
      "Epoch 11/30\n",
      "363/363 [==============================] - 0s 740us/step - loss: 1.3622 - val_loss: 1.3174\n",
      "Epoch 12/30\n",
      "363/363 [==============================] - ETA: 0s - loss: 1.338 - 0s 641us/step - loss: 1.3389 - val_loss: 1.3150\n",
      "Epoch 13/30\n",
      "363/363 [==============================] - 0s 655us/step - loss: 1.3336 - val_loss: 1.3270\n",
      "Epoch 14/30\n",
      "363/363 [==============================] - 0s 641us/step - loss: 1.3429 - val_loss: 1.3195\n",
      "Epoch 15/30\n",
      "363/363 [==============================] - 0s 641us/step - loss: 1.3275 - val_loss: 1.3157\n",
      "Epoch 16/30\n",
      "363/363 [==============================] - 0s 641us/step - loss: 1.3669 - val_loss: 1.3182\n",
      "Epoch 17/30\n",
      "363/363 [==============================] - 0s 627us/step - loss: 1.3645 - val_loss: 1.3223\n",
      "Epoch 18/30\n",
      "363/363 [==============================] - 0s 671us/step - loss: 1.3839 - val_loss: 1.3154\n",
      "Epoch 19/30\n",
      "363/363 [==============================] - 0s 674us/step - loss: 1.3078 - val_loss: 1.3168\n",
      "Epoch 20/30\n",
      "363/363 [==============================] - 0s 635us/step - loss: 1.3215 - val_loss: 1.3151\n",
      "Epoch 21/30\n",
      "363/363 [==============================] - 0s 691us/step - loss: 1.3344 - val_loss: 1.3174\n",
      "Epoch 22/30\n",
      "363/363 [==============================] - 0s 652us/step - loss: 1.3269 - val_loss: 1.3204\n",
      "Epoch 23/30\n",
      "363/363 [==============================] - 0s 638us/step - loss: 1.3590 - val_loss: 1.3164\n",
      "Epoch 24/30\n",
      "363/363 [==============================] - 0s 652us/step - loss: 1.3381 - val_loss: 1.3157\n",
      "Epoch 25/30\n",
      "363/363 [==============================] - 0s 630us/step - loss: 1.3265 - val_loss: 1.3180\n",
      "Epoch 26/30\n",
      "363/363 [==============================] - 0s 666us/step - loss: 1.3532 - val_loss: 1.3195\n",
      "Epoch 27/30\n",
      "363/363 [==============================] - 0s 663us/step - loss: 1.3552 - val_loss: 1.3157\n",
      "Epoch 28/30\n",
      "363/363 [==============================] - 0s 652us/step - loss: 1.3447 - val_loss: 1.3222\n",
      "Epoch 29/30\n",
      "363/363 [==============================] - 0s 655us/step - loss: 1.3379 - val_loss: 1.3267\n",
      "Epoch 30/30\n",
      "363/363 [==============================] - 0s 638us/step - loss: 1.3583 - val_loss: 1.3174\n"
     ]
    }
   ],
   "source": [
    "tensorboard_cb = keras.callbacks.TensorBoard(run_logdir2)\n",
    "history = model.fit(X_train, y_train, epochs=30,\n",
    "                    validation_data=(X_valid, y_valid),\n",
    "                    callbacks=[checkpoint_cb, tensorboard_cb])"
   ]
  },
  {
   "cell_type": "markdown",
   "metadata": {},
   "source": [
    "Notice how TensorBoard now sees two runs, and you can compare the learning curves."
   ]
  },
  {
   "cell_type": "markdown",
   "metadata": {},
   "source": [
    "Check out the other available logging options:"
   ]
  },
  {
   "cell_type": "code",
   "execution_count": 92,
   "metadata": {},
   "outputs": [
    {
     "name": "stdout",
     "output_type": "stream",
     "text": [
      "Help on function __init__ in module tensorflow.python.keras.callbacks:\n",
      "\n",
      "__init__(self, log_dir='logs', histogram_freq=0, write_graph=True, write_images=False, write_steps_per_second=False, update_freq='epoch', profile_batch=2, embeddings_freq=0, embeddings_metadata=None, **kwargs)\n",
      "    Initialize self.  See help(type(self)) for accurate signature.\n",
      "\n"
     ]
    }
   ],
   "source": [
    "help(keras.callbacks.TensorBoard.__init__)"
   ]
  },
  {
   "cell_type": "markdown",
   "metadata": {},
   "source": [
    "# Hyperparameter Tuning"
   ]
  },
  {
   "cell_type": "code",
   "execution_count": 93,
   "metadata": {},
   "outputs": [],
   "source": [
    "keras.backend.clear_session()\n",
    "np.random.seed(42)\n",
    "tf.random.set_seed(42)"
   ]
  },
  {
   "cell_type": "code",
   "execution_count": 94,
   "metadata": {},
   "outputs": [],
   "source": [
    "def build_model(n_hidden=1, n_neurons=30, learning_rate=3e-3, input_shape=[8]):\n",
    "    model = keras.models.Sequential()\n",
    "    model.add(keras.layers.InputLayer(input_shape=input_shape))\n",
    "    for layer in range(n_hidden):\n",
    "        model.add(keras.layers.Dense(n_neurons, activation=\"relu\"))\n",
    "    model.add(keras.layers.Dense(1))\n",
    "    optimizer = keras.optimizers.SGD(lr=learning_rate)\n",
    "    model.compile(loss=\"mse\", optimizer=optimizer)\n",
    "    return model"
   ]
  },
  {
   "cell_type": "code",
   "execution_count": 95,
   "metadata": {},
   "outputs": [],
   "source": [
    "keras_reg = keras.wrappers.scikit_learn.KerasRegressor(build_model)"
   ]
  },
  {
   "cell_type": "code",
   "execution_count": 96,
   "metadata": {},
   "outputs": [
    {
     "name": "stdout",
     "output_type": "stream",
     "text": [
      "Epoch 1/100\n",
      "363/363 [==============================] - 0s 840us/step - loss: 1.5673 - val_loss: 20.7721\n",
      "Epoch 2/100\n",
      "363/363 [==============================] - 0s 605us/step - loss: 1.3216 - val_loss: 5.0266\n",
      "Epoch 3/100\n",
      "363/363 [==============================] - 0s 599us/step - loss: 0.5972 - val_loss: 0.5490\n",
      "Epoch 4/100\n",
      "363/363 [==============================] - 0s 602us/step - loss: 0.4985 - val_loss: 0.4529\n",
      "Epoch 5/100\n",
      "363/363 [==============================] - 0s 599us/step - loss: 0.4608 - val_loss: 0.4188\n",
      "Epoch 6/100\n",
      "363/363 [==============================] - 0s 635us/step - loss: 0.4410 - val_loss: 0.4129\n",
      "Epoch 7/100\n",
      "363/363 [==============================] - 0s 605us/step - loss: 0.4463 - val_loss: 0.4004\n",
      "Epoch 8/100\n",
      "363/363 [==============================] - 0s 599us/step - loss: 0.4283 - val_loss: 0.3944\n",
      "Epoch 9/100\n",
      "363/363 [==============================] - 0s 591us/step - loss: 0.4139 - val_loss: 0.3961\n",
      "Epoch 10/100\n",
      "363/363 [==============================] - 0s 622us/step - loss: 0.4107 - val_loss: 0.4071\n",
      "Epoch 11/100\n",
      "363/363 [==============================] - 0s 613us/step - loss: 0.3992 - val_loss: 0.3855\n",
      "Epoch 12/100\n",
      "363/363 [==============================] - 0s 622us/step - loss: 0.3982 - val_loss: 0.4136\n",
      "Epoch 13/100\n",
      "363/363 [==============================] - 0s 619us/step - loss: 0.3983 - val_loss: 0.3997\n",
      "Epoch 14/100\n",
      "363/363 [==============================] - 0s 608us/step - loss: 0.3910 - val_loss: 0.3818\n",
      "Epoch 15/100\n",
      "363/363 [==============================] - 0s 624us/step - loss: 0.3948 - val_loss: 0.3829\n",
      "Epoch 16/100\n",
      "363/363 [==============================] - 0s 605us/step - loss: 0.3981 - val_loss: 0.3739\n",
      "Epoch 17/100\n",
      "363/363 [==============================] - 0s 608us/step - loss: 0.3821 - val_loss: 0.4022\n",
      "Epoch 18/100\n",
      "363/363 [==============================] - 0s 622us/step - loss: 0.3851 - val_loss: 0.3873\n",
      "Epoch 19/100\n",
      "363/363 [==============================] - 0s 638us/step - loss: 0.3753 - val_loss: 0.3768\n",
      "Epoch 20/100\n",
      "363/363 [==============================] - 0s 627us/step - loss: 0.3634 - val_loss: 0.4191\n",
      "Epoch 21/100\n",
      "363/363 [==============================] - 0s 613us/step - loss: 0.3787 - val_loss: 0.3927\n",
      "Epoch 22/100\n",
      "363/363 [==============================] - 0s 599us/step - loss: 0.3628 - val_loss: 0.4237\n",
      "Epoch 23/100\n",
      "363/363 [==============================] - 0s 599us/step - loss: 0.3892 - val_loss: 0.3523\n",
      "Epoch 24/100\n",
      "363/363 [==============================] - 0s 613us/step - loss: 0.3676 - val_loss: 0.3842\n",
      "Epoch 25/100\n",
      "363/363 [==============================] - 0s 608us/step - loss: 0.3677 - val_loss: 0.4162\n",
      "Epoch 26/100\n",
      "363/363 [==============================] - 0s 641us/step - loss: 0.3690 - val_loss: 0.3980\n",
      "Epoch 27/100\n",
      "363/363 [==============================] - 0s 599us/step - loss: 0.3731 - val_loss: 0.3474\n",
      "Epoch 28/100\n",
      "363/363 [==============================] - 0s 610us/step - loss: 0.3725 - val_loss: 0.3920\n",
      "Epoch 29/100\n",
      "363/363 [==============================] - 0s 610us/step - loss: 0.3660 - val_loss: 0.3566\n",
      "Epoch 30/100\n",
      "363/363 [==============================] - 0s 602us/step - loss: 0.3700 - val_loss: 0.4191\n",
      "Epoch 31/100\n",
      "363/363 [==============================] - 0s 602us/step - loss: 0.3635 - val_loss: 0.3721\n",
      "Epoch 32/100\n",
      "363/363 [==============================] - 0s 616us/step - loss: 0.3628 - val_loss: 0.3948\n",
      "Epoch 33/100\n",
      "363/363 [==============================] - 0s 619us/step - loss: 0.3647 - val_loss: 0.3423\n",
      "Epoch 34/100\n",
      "363/363 [==============================] - 0s 616us/step - loss: 0.3547 - val_loss: 0.3453\n",
      "Epoch 35/100\n",
      "363/363 [==============================] - 0s 597us/step - loss: 0.3496 - val_loss: 0.4068\n",
      "Epoch 36/100\n",
      "363/363 [==============================] - 0s 613us/step - loss: 0.3476 - val_loss: 0.3417\n",
      "Epoch 37/100\n",
      "363/363 [==============================] - 0s 622us/step - loss: 0.3786 - val_loss: 0.3787\n",
      "Epoch 38/100\n",
      "363/363 [==============================] - 0s 616us/step - loss: 0.3540 - val_loss: 0.3379\n",
      "Epoch 39/100\n",
      "363/363 [==============================] - 0s 616us/step - loss: 0.3769 - val_loss: 0.3419\n",
      "Epoch 40/100\n",
      "363/363 [==============================] - 0s 608us/step - loss: 0.3522 - val_loss: 0.3705\n",
      "Epoch 41/100\n",
      "363/363 [==============================] - 0s 633us/step - loss: 0.3705 - val_loss: 0.3659\n",
      "Epoch 42/100\n",
      "363/363 [==============================] - 0s 638us/step - loss: 0.3545 - val_loss: 0.3803\n",
      "Epoch 43/100\n",
      "363/363 [==============================] - 0s 613us/step - loss: 0.3597 - val_loss: 0.3765\n",
      "Epoch 44/100\n",
      "363/363 [==============================] - 0s 619us/step - loss: 0.3443 - val_loss: 0.3814\n",
      "Epoch 45/100\n",
      "363/363 [==============================] - 0s 608us/step - loss: 0.3591 - val_loss: 0.3326\n",
      "Epoch 46/100\n",
      "363/363 [==============================] - 0s 608us/step - loss: 0.3528 - val_loss: 0.3385\n",
      "Epoch 47/100\n",
      "363/363 [==============================] - 0s 608us/step - loss: 0.3663 - val_loss: 0.3655\n",
      "Epoch 48/100\n",
      "363/363 [==============================] - 0s 613us/step - loss: 0.3479 - val_loss: 0.3579\n",
      "Epoch 49/100\n",
      "363/363 [==============================] - 0s 613us/step - loss: 0.3601 - val_loss: 0.3360\n",
      "Epoch 50/100\n",
      "363/363 [==============================] - 0s 605us/step - loss: 0.3616 - val_loss: 0.3318\n",
      "Epoch 51/100\n",
      "363/363 [==============================] - 0s 602us/step - loss: 0.3532 - val_loss: 0.3562\n",
      "Epoch 52/100\n",
      "363/363 [==============================] - 0s 633us/step - loss: 0.3427 - val_loss: 0.3520\n",
      "Epoch 53/100\n",
      "363/363 [==============================] - 0s 619us/step - loss: 0.3503 - val_loss: 0.4579\n",
      "Epoch 54/100\n",
      "363/363 [==============================] - 0s 616us/step - loss: 0.3402 - val_loss: 0.3808\n",
      "Epoch 55/100\n",
      "363/363 [==============================] - 0s 610us/step - loss: 0.3496 - val_loss: 0.3539\n",
      "Epoch 56/100\n",
      "363/363 [==============================] - 0s 622us/step - loss: 0.3401 - val_loss: 0.3723\n",
      "Epoch 57/100\n",
      "363/363 [==============================] - 0s 602us/step - loss: 0.3440 - val_loss: 0.3336\n",
      "Epoch 58/100\n",
      "363/363 [==============================] - 0s 613us/step - loss: 0.3348 - val_loss: 0.4011\n",
      "Epoch 59/100\n",
      "363/363 [==============================] - 0s 608us/step - loss: 0.3445 - val_loss: 0.3264\n",
      "Epoch 60/100\n",
      "363/363 [==============================] - 0s 624us/step - loss: 0.3414 - val_loss: 0.3271\n",
      "Epoch 61/100\n",
      "363/363 [==============================] - 0s 611us/step - loss: 0.3621 - val_loss: 0.3346\n",
      "Epoch 62/100\n",
      "363/363 [==============================] - 0s 613us/step - loss: 0.3497 - val_loss: 0.3493\n",
      "Epoch 63/100\n",
      "363/363 [==============================] - 0s 610us/step - loss: 0.3484 - val_loss: 0.3402\n",
      "Epoch 64/100\n",
      "363/363 [==============================] - 0s 613us/step - loss: 0.3299 - val_loss: 0.3275\n",
      "Epoch 65/100\n",
      "363/363 [==============================] - 0s 622us/step - loss: 0.3410 - val_loss: 0.3296\n",
      "Epoch 66/100\n",
      "363/363 [==============================] - 0s 627us/step - loss: 0.3364 - val_loss: 0.3307\n",
      "Epoch 67/100\n",
      "363/363 [==============================] - 0s 610us/step - loss: 0.3558 - val_loss: 0.3252\n",
      "Epoch 68/100\n",
      "363/363 [==============================] - 0s 591us/step - loss: 0.3372 - val_loss: 0.3242\n",
      "Epoch 69/100\n",
      "363/363 [==============================] - 0s 610us/step - loss: 0.3394 - val_loss: 0.3254\n",
      "Epoch 70/100\n",
      "363/363 [==============================] - 0s 610us/step - loss: 0.3350 - val_loss: 0.3672\n",
      "Epoch 71/100\n",
      "363/363 [==============================] - 0s 597us/step - loss: 0.3428 - val_loss: 0.3375\n",
      "Epoch 72/100\n",
      "363/363 [==============================] - 0s 588us/step - loss: 0.3261 - val_loss: 0.3271\n",
      "Epoch 73/100\n",
      "363/363 [==============================] - 0s 619us/step - loss: 0.3409 - val_loss: 0.3242\n",
      "Epoch 74/100\n",
      "363/363 [==============================] - 0s 608us/step - loss: 0.3394 - val_loss: 0.3665\n",
      "Epoch 75/100\n",
      "363/363 [==============================] - 0s 613us/step - loss: 0.3286 - val_loss: 0.3283\n",
      "Epoch 76/100\n",
      "363/363 [==============================] - 0s 610us/step - loss: 0.3391 - val_loss: 0.3240\n",
      "Epoch 77/100\n",
      "363/363 [==============================] - 0s 599us/step - loss: 0.3293 - val_loss: 0.3381\n",
      "Epoch 78/100\n",
      "363/363 [==============================] - 0s 613us/step - loss: 0.3372 - val_loss: 0.3356\n",
      "Epoch 79/100\n",
      "363/363 [==============================] - 0s 622us/step - loss: 0.3364 - val_loss: 0.3224\n"
     ]
    },
    {
     "name": "stdout",
     "output_type": "stream",
     "text": [
      "Epoch 80/100\n",
      "363/363 [==============================] - 0s 616us/step - loss: 0.3374 - val_loss: 0.3595\n",
      "Epoch 81/100\n",
      "363/363 [==============================] - 0s 586us/step - loss: 0.3381 - val_loss: 0.3432\n",
      "Epoch 82/100\n",
      "363/363 [==============================] - 0s 619us/step - loss: 0.3481 - val_loss: 0.3211\n",
      "Epoch 83/100\n",
      "363/363 [==============================] - 0s 605us/step - loss: 0.3441 - val_loss: 0.3342\n",
      "Epoch 84/100\n",
      "363/363 [==============================] - 0s 610us/step - loss: 0.3240 - val_loss: 0.4136\n",
      "Epoch 85/100\n",
      "363/363 [==============================] - 0s 599us/step - loss: 0.3303 - val_loss: 0.3285\n",
      "Epoch 86/100\n",
      "363/363 [==============================] - 0s 630us/step - loss: 0.3263 - val_loss: 0.3440\n",
      "Epoch 87/100\n",
      "363/363 [==============================] - 0s 610us/step - loss: 0.3483 - val_loss: 0.3733\n",
      "Epoch 88/100\n",
      "363/363 [==============================] - 0s 599us/step - loss: 0.3305 - val_loss: 0.3188\n",
      "Epoch 89/100\n",
      "363/363 [==============================] - 0s 619us/step - loss: 0.3283 - val_loss: 0.3492\n",
      "Epoch 90/100\n",
      "363/363 [==============================] - 0s 599us/step - loss: 0.3243 - val_loss: 0.3175\n",
      "Epoch 91/100\n",
      "363/363 [==============================] - 0s 613us/step - loss: 0.3288 - val_loss: 0.3594\n",
      "Epoch 92/100\n",
      "363/363 [==============================] - 0s 586us/step - loss: 0.3343 - val_loss: 0.3169\n",
      "Epoch 93/100\n",
      "363/363 [==============================] - 0s 613us/step - loss: 0.3485 - val_loss: 0.3607\n",
      "Epoch 94/100\n",
      "363/363 [==============================] - 0s 599us/step - loss: 0.3262 - val_loss: 0.5184\n",
      "Epoch 95/100\n",
      "363/363 [==============================] - 0s 597us/step - loss: 0.3284 - val_loss: 0.7536\n",
      "Epoch 96/100\n",
      "363/363 [==============================] - 0s 608us/step - loss: 0.3494 - val_loss: 0.5075\n",
      "Epoch 97/100\n",
      "363/363 [==============================] - 0s 599us/step - loss: 0.3290 - val_loss: 0.8087\n",
      "Epoch 98/100\n",
      "363/363 [==============================] - 0s 622us/step - loss: 0.3277 - val_loss: 1.0447\n",
      "Epoch 99/100\n",
      "363/363 [==============================] - 0s 622us/step - loss: 0.3199 - val_loss: 1.6881\n",
      "Epoch 100/100\n",
      "363/363 [==============================] - 0s 608us/step - loss: 0.3706 - val_loss: 1.9265\n"
     ]
    },
    {
     "data": {
      "text/plain": [
       "<tensorflow.python.keras.callbacks.History at 0x245090ec370>"
      ]
     },
     "execution_count": 96,
     "metadata": {},
     "output_type": "execute_result"
    }
   ],
   "source": [
    "keras_reg.fit(X_train, y_train, epochs=100,\n",
    "              validation_data=(X_valid, y_valid),\n",
    "              callbacks=[keras.callbacks.EarlyStopping(patience=10)])"
   ]
  },
  {
   "cell_type": "code",
   "execution_count": 97,
   "metadata": {},
   "outputs": [
    {
     "name": "stdout",
     "output_type": "stream",
     "text": [
      "162/162 [==============================] - 0s 429us/step - loss: 0.3409\n"
     ]
    }
   ],
   "source": [
    "mse_test = keras_reg.score(X_test, y_test)"
   ]
  },
  {
   "cell_type": "code",
   "execution_count": 98,
   "metadata": {},
   "outputs": [],
   "source": [
    "y_pred = keras_reg.predict(X_new)"
   ]
  },
  {
   "cell_type": "code",
   "execution_count": 99,
   "metadata": {},
   "outputs": [],
   "source": [
    "np.random.seed(42)\n",
    "tf.random.set_seed(42)"
   ]
  },
  {
   "cell_type": "markdown",
   "metadata": {},
   "source": [
    "**Warning**: the following cell crashes at the end of training. This seems to be caused by [Keras issue #13586](https://github.com/keras-team/keras/issues/13586), which was triggered by a recent change in Scikit-Learn. [Pull Request #13598](https://github.com/keras-team/keras/pull/13598) seems to fix the issue, so this problem should be resolved soon."
   ]
  },
  {
   "cell_type": "code",
   "execution_count": 100,
   "metadata": {},
   "outputs": [
    {
     "name": "stdout",
     "output_type": "stream",
     "text": [
      "Fitting 3 folds for each of 10 candidates, totalling 30 fits\n",
      "Epoch 1/100\n",
      "242/242 [==============================] - 0s 1ms/step - loss: 4.6276 - val_loss: 1.8752\n",
      "Epoch 2/100\n",
      "242/242 [==============================] - 0s 668us/step - loss: 1.5234 - val_loss: 0.9522\n",
      "Epoch 3/100\n",
      "242/242 [==============================] - 0s 664us/step - loss: 0.9184 - val_loss: 0.7820\n",
      "Epoch 4/100\n",
      "242/242 [==============================] - 0s 668us/step - loss: 0.7683 - val_loss: 0.7249\n",
      "Epoch 5/100\n",
      "242/242 [==============================] - 0s 660us/step - loss: 0.6916 - val_loss: 0.6994\n",
      "Epoch 6/100\n",
      "242/242 [==============================] - 0s 697us/step - loss: 0.6558 - val_loss: 0.9118\n",
      "Epoch 7/100\n",
      "242/242 [==============================] - 0s 668us/step - loss: 0.6644 - val_loss: 0.8495\n",
      "Epoch 8/100\n",
      "242/242 [==============================] - 0s 672us/step - loss: 0.6308 - val_loss: 0.8605\n",
      "Epoch 9/100\n",
      "242/242 [==============================] - 0s 718us/step - loss: 0.6182 - val_loss: 0.6524\n",
      "Epoch 10/100\n",
      "242/242 [==============================] - 0s 693us/step - loss: 0.6155 - val_loss: 0.8619\n",
      "Epoch 11/100\n",
      "242/242 [==============================] - 0s 656us/step - loss: 0.5881 - val_loss: 0.8659\n",
      "Epoch 12/100\n",
      "242/242 [==============================] - 0s 693us/step - loss: 0.5572 - val_loss: 0.5962\n",
      "Epoch 13/100\n",
      "242/242 [==============================] - 0s 672us/step - loss: 0.6052 - val_loss: 0.9062\n",
      "Epoch 14/100\n",
      "242/242 [==============================] - 0s 668us/step - loss: 0.5939 - val_loss: 0.9541\n",
      "Epoch 15/100\n",
      "242/242 [==============================] - 0s 672us/step - loss: 0.5904 - val_loss: 0.6402\n",
      "Epoch 16/100\n",
      "242/242 [==============================] - 0s 664us/step - loss: 0.5608 - val_loss: 0.7806\n",
      "Epoch 17/100\n",
      "242/242 [==============================] - 0s 668us/step - loss: 0.5925 - val_loss: 0.7985\n",
      "Epoch 18/100\n",
      "242/242 [==============================] - 0s 664us/step - loss: 0.5859 - val_loss: 0.8756\n",
      "Epoch 19/100\n",
      "242/242 [==============================] - 0s 664us/step - loss: 0.5636 - val_loss: 0.8958\n",
      "Epoch 20/100\n",
      "242/242 [==============================] - 0s 651us/step - loss: 0.5662 - val_loss: 0.8657\n",
      "Epoch 21/100\n",
      "242/242 [==============================] - 0s 676us/step - loss: 0.5437 - val_loss: 0.5940\n",
      "Epoch 22/100\n",
      "242/242 [==============================] - 0s 656us/step - loss: 0.5378 - val_loss: 0.8007\n",
      "Epoch 23/100\n",
      "242/242 [==============================] - 0s 664us/step - loss: 0.5596 - val_loss: 0.7792\n",
      "Epoch 24/100\n",
      "242/242 [==============================] - 0s 680us/step - loss: 0.5427 - val_loss: 0.7622\n",
      "Epoch 25/100\n",
      "242/242 [==============================] - 0s 651us/step - loss: 0.5540 - val_loss: 0.6476\n",
      "Epoch 26/100\n",
      "242/242 [==============================] - 0s 664us/step - loss: 0.5298 - val_loss: 0.5424\n",
      "Epoch 27/100\n",
      "242/242 [==============================] - 0s 647us/step - loss: 0.5479 - val_loss: 0.8687\n",
      "Epoch 28/100\n",
      "242/242 [==============================] - 0s 660us/step - loss: 0.5472 - val_loss: 0.5390\n",
      "Epoch 29/100\n",
      "242/242 [==============================] - 0s 664us/step - loss: 0.5539 - val_loss: 0.7179\n",
      "Epoch 30/100\n",
      "242/242 [==============================] - 0s 668us/step - loss: 0.5388 - val_loss: 0.6029\n",
      "Epoch 31/100\n",
      "242/242 [==============================] - 0s 685us/step - loss: 0.5269 - val_loss: 0.5947\n",
      "Epoch 32/100\n",
      "242/242 [==============================] - 0s 664us/step - loss: 0.5219 - val_loss: 0.5305\n",
      "Epoch 33/100\n",
      "242/242 [==============================] - 0s 693us/step - loss: 0.5247 - val_loss: 0.6601\n",
      "Epoch 34/100\n",
      "242/242 [==============================] - 0s 689us/step - loss: 0.5255 - val_loss: 0.6326\n",
      "Epoch 35/100\n",
      "242/242 [==============================] - 0s 664us/step - loss: 0.5271 - val_loss: 0.5072\n",
      "Epoch 36/100\n",
      "242/242 [==============================] - 0s 656us/step - loss: 0.5184 - val_loss: 0.7270\n",
      "Epoch 37/100\n",
      "242/242 [==============================] - 0s 656us/step - loss: 0.5270 - val_loss: 0.5055\n",
      "Epoch 38/100\n",
      "242/242 [==============================] - 0s 681us/step - loss: 0.5055 - val_loss: 0.7985\n",
      "Epoch 39/100\n",
      "242/242 [==============================] - 0s 655us/step - loss: 0.5232 - val_loss: 0.5176\n",
      "Epoch 40/100\n",
      "242/242 [==============================] - 0s 697us/step - loss: 0.5131 - val_loss: 0.5823\n",
      "Epoch 41/100\n",
      "242/242 [==============================] - 0s 660us/step - loss: 0.5264 - val_loss: 0.7114\n",
      "Epoch 42/100\n",
      "242/242 [==============================] - 0s 668us/step - loss: 0.5277 - val_loss: 0.5059\n",
      "Epoch 43/100\n",
      "242/242 [==============================] - 0s 685us/step - loss: 0.5240 - val_loss: 0.5008\n",
      "Epoch 44/100\n",
      "242/242 [==============================] - 0s 668us/step - loss: 0.5282 - val_loss: 0.7397\n",
      "Epoch 45/100\n",
      "242/242 [==============================] - 0s 656us/step - loss: 0.5246 - val_loss: 0.6169\n",
      "Epoch 46/100\n",
      "242/242 [==============================] - 0s 664us/step - loss: 0.5206 - val_loss: 0.5264\n",
      "Epoch 47/100\n",
      "242/242 [==============================] - 0s 643us/step - loss: 0.5286 - val_loss: 0.6916\n",
      "Epoch 48/100\n",
      "242/242 [==============================] - 0s 676us/step - loss: 0.5100 - val_loss: 0.6554\n",
      "Epoch 49/100\n",
      "242/242 [==============================] - 0s 668us/step - loss: 0.5291 - val_loss: 0.6607\n",
      "Epoch 50/100\n",
      "242/242 [==============================] - 0s 693us/step - loss: 0.5377 - val_loss: 0.8497\n",
      "Epoch 51/100\n",
      "242/242 [==============================] - 0s 660us/step - loss: 0.5125 - val_loss: 0.6664\n",
      "Epoch 52/100\n",
      "242/242 [==============================] - 0s 655us/step - loss: 0.5409 - val_loss: 0.5996\n",
      "Epoch 53/100\n",
      "242/242 [==============================] - 0s 664us/step - loss: 0.5257 - val_loss: 0.6414\n",
      "121/121 [==============================] - ETA: 1s - loss: 0.719 - 0s 383us/step - loss: 0.5368\n",
      "[CV] END learning_rate=0.001683454924600351, n_hidden=0, n_neurons=15; total time=   9.0s\n",
      "Epoch 1/100\n",
      "242/242 [==============================] - 0s 979us/step - loss: 4.6915 - val_loss: 23.0855\n",
      "Epoch 2/100\n",
      "242/242 [==============================] - 0s 714us/step - loss: 1.6966 - val_loss: 10.8387\n",
      "Epoch 3/100\n",
      "242/242 [==============================] - 0s 701us/step - loss: 1.0801 - val_loss: 4.4392\n",
      "Epoch 4/100\n",
      "242/242 [==============================] - 0s 685us/step - loss: 0.8957 - val_loss: 1.5338\n",
      "Epoch 5/100\n",
      "242/242 [==============================] - 0s 647us/step - loss: 0.8083 - val_loss: 0.7192\n",
      "Epoch 6/100\n",
      "242/242 [==============================] - 0s 689us/step - loss: 0.7513 - val_loss: 1.2046\n",
      "Epoch 7/100\n",
      "242/242 [==============================] - 0s 668us/step - loss: 0.7264 - val_loss: 2.4524\n",
      "Epoch 8/100\n",
      "242/242 [==============================] - 0s 656us/step - loss: 0.6758 - val_loss: 4.1421\n",
      "Epoch 9/100\n",
      "242/242 [==============================] - 0s 672us/step - loss: 0.6653 - val_loss: 5.9820\n",
      "Epoch 10/100\n",
      "242/242 [==============================] - 0s 668us/step - loss: 0.6333 - val_loss: 7.7654\n",
      "Epoch 11/100\n",
      "242/242 [==============================] - 0s 718us/step - loss: 0.6136 - val_loss: 9.6230\n",
      "Epoch 12/100\n",
      "242/242 [==============================] - 0s 664us/step - loss: 0.5906 - val_loss: 11.3609\n",
      "Epoch 13/100\n",
      "242/242 [==============================] - 0s 680us/step - loss: 0.5808 - val_loss: 12.9821\n",
      "Epoch 14/100\n",
      "242/242 [==============================] - 0s 664us/step - loss: 0.5506 - val_loss: 14.2266\n",
      "Epoch 15/100\n",
      "242/242 [==============================] - 0s 668us/step - loss: 0.5965 - val_loss: 15.4321\n",
      "121/121 [==============================] - 0s 392us/step - loss: 0.9198\n",
      "[CV] END learning_rate=0.001683454924600351, n_hidden=0, n_neurons=15; total time=   2.7s\n",
      "Epoch 1/100\n",
      "242/242 [==============================] - 0s 1000us/step - loss: 4.5646 - val_loss: 1.3307\n",
      "Epoch 2/100\n",
      "242/242 [==============================] - 0s 680us/step - loss: 1.1490 - val_loss: 0.6934\n",
      "Epoch 3/100\n",
      "242/242 [==============================] - 0s 664us/step - loss: 0.6342 - val_loss: 0.5469\n",
      "Epoch 4/100\n",
      "242/242 [==============================] - 0s 668us/step - loss: 0.5420 - val_loss: 0.7322\n",
      "Epoch 5/100\n",
      "242/242 [==============================] - 0s 660us/step - loss: 0.5172 - val_loss: 0.4963\n",
      "Epoch 6/100\n",
      "242/242 [==============================] - 0s 660us/step - loss: 0.5124 - val_loss: 0.5539\n",
      "Epoch 7/100\n",
      "242/242 [==============================] - 0s 664us/step - loss: 0.5163 - val_loss: 0.5729\n",
      "Epoch 8/100\n"
     ]
    },
    {
     "name": "stdout",
     "output_type": "stream",
     "text": [
      "242/242 [==============================] - 0s 676us/step - loss: 0.5377 - val_loss: 0.7873\n",
      "Epoch 9/100\n",
      "242/242 [==============================] - 0s 660us/step - loss: 0.5345 - val_loss: 0.5968\n",
      "Epoch 10/100\n",
      "242/242 [==============================] - 0s 651us/step - loss: 0.5096 - val_loss: 0.4951\n",
      "Epoch 11/100\n",
      "242/242 [==============================] - 0s 676us/step - loss: 0.5419 - val_loss: 0.7591\n",
      "Epoch 12/100\n",
      "242/242 [==============================] - 0s 672us/step - loss: 0.5164 - val_loss: 0.5368\n",
      "Epoch 13/100\n",
      "242/242 [==============================] - 0s 656us/step - loss: 0.4886 - val_loss: 0.4968\n",
      "Epoch 14/100\n",
      "242/242 [==============================] - 0s 664us/step - loss: 0.5110 - val_loss: 0.5778\n",
      "Epoch 15/100\n",
      "242/242 [==============================] - 0s 664us/step - loss: 0.5475 - val_loss: 0.5117\n",
      "Epoch 16/100\n",
      "242/242 [==============================] - 0s 668us/step - loss: 0.5359 - val_loss: 0.7055\n",
      "Epoch 17/100\n",
      "242/242 [==============================] - 0s 664us/step - loss: 0.5182 - val_loss: 0.5399\n",
      "Epoch 18/100\n",
      "242/242 [==============================] - 0s 676us/step - loss: 0.5416 - val_loss: 0.5257\n",
      "Epoch 19/100\n",
      "242/242 [==============================] - 0s 651us/step - loss: 0.5374 - val_loss: 0.7902\n",
      "Epoch 20/100\n",
      "242/242 [==============================] - 0s 676us/step - loss: 0.5233 - val_loss: 0.5852\n",
      "121/121 [==============================] - 0s 367us/step - loss: 0.5317\n",
      "[CV] END learning_rate=0.001683454924600351, n_hidden=0, n_neurons=15; total time=   3.5s\n",
      "Epoch 1/100\n",
      "242/242 [==============================] - 0s 996us/step - loss: 2.2879 - val_loss: 66.5657\n",
      "Epoch 2/100\n",
      "242/242 [==============================] - 0s 664us/step - loss: 0.8607 - val_loss: 137.1489\n",
      "Epoch 3/100\n",
      "242/242 [==============================] - 0s 660us/step - loss: 1.2411 - val_loss: 716.1609\n",
      "Epoch 4/100\n",
      "242/242 [==============================] - 0s 705us/step - loss: 2.8496 - val_loss: 2297.8599\n",
      "Epoch 5/100\n",
      "242/242 [==============================] - 0s 651us/step - loss: 7.2695 - val_loss: 9988.3369\n",
      "Epoch 6/100\n",
      "242/242 [==============================] - 0s 693us/step - loss: 245.1800 - val_loss: 39231.9727\n",
      "Epoch 7/100\n",
      "242/242 [==============================] - 0s 651us/step - loss: 385.6387 - val_loss: 155196.9375\n",
      "Epoch 8/100\n",
      "242/242 [==============================] - 0s 701us/step - loss: 2780.1349 - val_loss: 612492.9375\n",
      "Epoch 9/100\n",
      "242/242 [==============================] - 0s 656us/step - loss: 2928.6679 - val_loss: 2435756.7500\n",
      "Epoch 10/100\n",
      "242/242 [==============================] - 0s 685us/step - loss: 54063.5681 - val_loss: 10128971.0000\n",
      "Epoch 11/100\n",
      "242/242 [==============================] - 0s 660us/step - loss: 149788.9765 - val_loss: 39694556.0000\n",
      "121/121 [==============================] - 0s 383us/step - loss: 105477.5781\n",
      "[CV] END learning_rate=0.008731907739399206, n_hidden=0, n_neurons=21; total time=   2.2s\n",
      "Epoch 1/100\n",
      "242/242 [==============================] - 0s 975us/step - loss: 2.2000 - val_loss: 23.1193\n",
      "Epoch 2/100\n",
      "242/242 [==============================] - 0s 647us/step - loss: 0.5372 - val_loss: 22.1675\n",
      "Epoch 3/100\n",
      "242/242 [==============================] - 0s 685us/step - loss: 0.5351 - val_loss: 22.3752\n",
      "Epoch 4/100\n",
      "242/242 [==============================] - 0s 651us/step - loss: 0.5158 - val_loss: 21.3891\n",
      "Epoch 5/100\n",
      "242/242 [==============================] - 0s 660us/step - loss: 0.5126 - val_loss: 20.8855\n",
      "Epoch 6/100\n",
      "242/242 [==============================] - 0s 668us/step - loss: 0.5075 - val_loss: 20.6379\n",
      "Epoch 7/100\n",
      "242/242 [==============================] - 0s 664us/step - loss: 0.4916 - val_loss: 20.0736\n",
      "Epoch 8/100\n",
      "242/242 [==============================] - 0s 651us/step - loss: 0.5100 - val_loss: 20.7178\n",
      "Epoch 9/100\n",
      "242/242 [==============================] - 0s 685us/step - loss: 0.5000 - val_loss: 20.0844\n",
      "Epoch 10/100\n",
      "242/242 [==============================] - 0s 668us/step - loss: 0.4819 - val_loss: 17.0622\n",
      "Epoch 11/100\n",
      "242/242 [==============================] - 0s 660us/step - loss: 0.5075 - val_loss: 19.1666\n",
      "Epoch 12/100\n",
      "242/242 [==============================] - 0s 701us/step - loss: 0.4912 - val_loss: 20.8246\n",
      "Epoch 13/100\n",
      "242/242 [==============================] - 0s 710us/step - loss: 0.5010 - val_loss: 22.0298\n",
      "Epoch 14/100\n",
      "242/242 [==============================] - 0s 693us/step - loss: 0.4672 - val_loss: 17.6022\n",
      "Epoch 15/100\n",
      "242/242 [==============================] - 0s 676us/step - loss: 0.5293 - val_loss: 18.6171\n",
      "Epoch 16/100\n",
      "242/242 [==============================] - 0s 660us/step - loss: 0.5032 - val_loss: 20.0451\n",
      "Epoch 17/100\n",
      "242/242 [==============================] - 0s 664us/step - loss: 0.4972 - val_loss: 17.5898\n",
      "Epoch 18/100\n",
      "242/242 [==============================] - 0s 680us/step - loss: 0.5131 - val_loss: 17.4526\n",
      "Epoch 19/100\n",
      "242/242 [==============================] - 0s 647us/step - loss: 0.5060 - val_loss: 19.5015\n",
      "Epoch 20/100\n",
      "242/242 [==============================] - 0s 697us/step - loss: 0.4820 - val_loss: 17.3223\n",
      "121/121 [==============================] - 0s 408us/step - loss: 0.9327\n",
      "[CV] END learning_rate=0.008731907739399206, n_hidden=0, n_neurons=21; total time=   3.5s\n",
      "Epoch 1/100\n",
      "242/242 [==============================] - 0s 971us/step - loss: 2.7871 - val_loss: 0.5742\n",
      "Epoch 2/100\n",
      "242/242 [==============================] - 0s 705us/step - loss: 0.5753 - val_loss: 6.7367\n",
      "Epoch 3/100\n",
      "242/242 [==============================] - 0s 693us/step - loss: 0.5774 - val_loss: 6.5227\n",
      "Epoch 4/100\n",
      "242/242 [==============================] - 0s 660us/step - loss: 0.6096 - val_loss: 19.7083\n",
      "Epoch 5/100\n",
      "242/242 [==============================] - 0s 656us/step - loss: 0.4987 - val_loss: 205.7215\n",
      "Epoch 6/100\n",
      "242/242 [==============================] - 0s 664us/step - loss: 1.3101 - val_loss: 282.6048\n",
      "Epoch 7/100\n",
      "242/242 [==============================] - 0s 655us/step - loss: 1.6634 - val_loss: 656.3251\n",
      "Epoch 8/100\n",
      "242/242 [==============================] - 0s 672us/step - loss: 20.9502 - val_loss: 1380.0117\n",
      "Epoch 9/100\n",
      "242/242 [==============================] - 0s 668us/step - loss: 8.9660 - val_loss: 2817.4534\n",
      "Epoch 10/100\n",
      "242/242 [==============================] - 0s 651us/step - loss: 4.7009 - val_loss: 4499.3799\n",
      "Epoch 11/100\n",
      "242/242 [==============================] - 0s 660us/step - loss: 189.1040 - val_loss: 8457.8672\n",
      "121/121 [==============================] - 0s 367us/step - loss: 11.0521\n",
      "[CV] END learning_rate=0.008731907739399206, n_hidden=0, n_neurons=21; total time=   2.1s\n",
      "Epoch 1/100\n",
      "242/242 [==============================] - 0s 1ms/step - loss: 3.4030 - val_loss: 2.6033\n",
      "Epoch 2/100\n",
      "242/242 [==============================] - 0s 763us/step - loss: 1.1446 - val_loss: 1.0424\n",
      "Epoch 3/100\n",
      "242/242 [==============================] - 0s 759us/step - loss: 0.8391 - val_loss: 0.7507\n",
      "Epoch 4/100\n",
      "242/242 [==============================] - 0s 763us/step - loss: 0.7445 - val_loss: 0.6758\n",
      "Epoch 5/100\n",
      "242/242 [==============================] - 0s 772us/step - loss: 0.6914 - val_loss: 0.6484\n",
      "Epoch 6/100\n",
      "242/242 [==============================] - 0s 768us/step - loss: 0.6403 - val_loss: 0.6241\n",
      "Epoch 7/100\n",
      "242/242 [==============================] - 0s 763us/step - loss: 0.6369 - val_loss: 0.6073\n",
      "Epoch 8/100\n",
      "242/242 [==============================] - 0s 759us/step - loss: 0.5994 - val_loss: 0.5826\n",
      "Epoch 9/100\n",
      "242/242 [==============================] - 0s 759us/step - loss: 0.5732 - val_loss: 0.5597\n",
      "Epoch 10/100\n",
      "242/242 [==============================] - 0s 763us/step - loss: 0.5738 - val_loss: 0.5445\n",
      "Epoch 11/100\n",
      "242/242 [==============================] - 0s 755us/step - loss: 0.5434 - val_loss: 0.5314\n",
      "Epoch 12/100\n",
      "242/242 [==============================] - 0s 763us/step - loss: 0.5087 - val_loss: 0.5147\n",
      "Epoch 13/100\n",
      "242/242 [==============================] - 0s 734us/step - loss: 0.5376 - val_loss: 0.5030\n",
      "Epoch 14/100\n",
      "242/242 [==============================] - 0s 776us/step - loss: 0.5223 - val_loss: 0.4904\n",
      "Epoch 15/100\n",
      "242/242 [==============================] - 0s 776us/step - loss: 0.5138 - val_loss: 0.4791\n",
      "Epoch 16/100\n",
      "242/242 [==============================] - 0s 784us/step - loss: 0.4883 - val_loss: 0.4695\n",
      "Epoch 17/100\n",
      "242/242 [==============================] - 0s 768us/step - loss: 0.5036 - val_loss: 0.4608\n"
     ]
    },
    {
     "name": "stdout",
     "output_type": "stream",
     "text": [
      "Epoch 18/100\n",
      "242/242 [==============================] - 0s 759us/step - loss: 0.4899 - val_loss: 0.4524\n",
      "Epoch 19/100\n",
      "242/242 [==============================] - 0s 751us/step - loss: 0.4692 - val_loss: 0.4476\n",
      "Epoch 20/100\n",
      "242/242 [==============================] - 0s 763us/step - loss: 0.4681 - val_loss: 0.4383\n",
      "Epoch 21/100\n",
      "242/242 [==============================] - 0s 772us/step - loss: 0.4555 - val_loss: 0.4355\n",
      "Epoch 22/100\n",
      "242/242 [==============================] - 0s 797us/step - loss: 0.4393 - val_loss: 0.4282\n",
      "Epoch 23/100\n",
      "242/242 [==============================] - 0s 755us/step - loss: 0.4564 - val_loss: 0.4230\n",
      "Epoch 24/100\n",
      "242/242 [==============================] - 0s 747us/step - loss: 0.4370 - val_loss: 0.4166\n",
      "Epoch 25/100\n",
      "242/242 [==============================] - 0s 751us/step - loss: 0.4397 - val_loss: 0.4161\n",
      "Epoch 26/100\n",
      "242/242 [==============================] - 0s 751us/step - loss: 0.4248 - val_loss: 0.4142\n",
      "Epoch 27/100\n",
      "242/242 [==============================] - 0s 764us/step - loss: 0.4414 - val_loss: 0.4100\n",
      "Epoch 28/100\n",
      "242/242 [==============================] - 0s 763us/step - loss: 0.4322 - val_loss: 0.4132\n",
      "Epoch 29/100\n",
      "242/242 [==============================] - 0s 759us/step - loss: 0.4282 - val_loss: 0.4103\n",
      "Epoch 30/100\n",
      "242/242 [==============================] - 0s 739us/step - loss: 0.4197 - val_loss: 0.4032\n",
      "Epoch 31/100\n",
      "242/242 [==============================] - 0s 747us/step - loss: 0.4054 - val_loss: 0.3964\n",
      "Epoch 32/100\n",
      "242/242 [==============================] - 0s 747us/step - loss: 0.4043 - val_loss: 0.3956\n",
      "Epoch 33/100\n",
      "242/242 [==============================] - 0s 813us/step - loss: 0.3994 - val_loss: 0.4013\n",
      "Epoch 34/100\n",
      "242/242 [==============================] - 0s 759us/step - loss: 0.4002 - val_loss: 0.4004\n",
      "Epoch 35/100\n",
      "242/242 [==============================] - 0s 784us/step - loss: 0.3965 - val_loss: 0.3913\n",
      "Epoch 36/100\n",
      "242/242 [==============================] - 0s 768us/step - loss: 0.3933 - val_loss: 0.3986\n",
      "Epoch 37/100\n",
      "242/242 [==============================] - 0s 751us/step - loss: 0.3963 - val_loss: 0.3871\n",
      "Epoch 38/100\n",
      "242/242 [==============================] - 0s 768us/step - loss: 0.3867 - val_loss: 0.3998\n",
      "Epoch 39/100\n",
      "242/242 [==============================] - 0s 759us/step - loss: 0.3919 - val_loss: 0.3858\n",
      "Epoch 40/100\n",
      "242/242 [==============================] - 0s 763us/step - loss: 0.3729 - val_loss: 0.3967\n",
      "Epoch 41/100\n",
      "242/242 [==============================] - 0s 739us/step - loss: 0.3850 - val_loss: 0.3918\n",
      "Epoch 42/100\n",
      "242/242 [==============================] - 0s 768us/step - loss: 0.3933 - val_loss: 0.3866\n",
      "Epoch 43/100\n",
      "242/242 [==============================] - 0s 780us/step - loss: 0.3862 - val_loss: 0.3800\n",
      "Epoch 44/100\n",
      "242/242 [==============================] - 0s 780us/step - loss: 0.3803 - val_loss: 0.3997\n",
      "Epoch 45/100\n",
      "242/242 [==============================] - 0s 772us/step - loss: 0.3894 - val_loss: 0.3861\n",
      "Epoch 46/100\n",
      "242/242 [==============================] - 0s 759us/step - loss: 0.3701 - val_loss: 0.3805\n",
      "Epoch 47/100\n",
      "242/242 [==============================] - 0s 751us/step - loss: 0.3769 - val_loss: 0.3919\n",
      "Epoch 48/100\n",
      "242/242 [==============================] - ETA: 0s - loss: 0.361 - 0s 739us/step - loss: 0.3630 - val_loss: 0.3826\n",
      "Epoch 49/100\n",
      "242/242 [==============================] - 0s 776us/step - loss: 0.3836 - val_loss: 0.3812\n",
      "Epoch 50/100\n",
      "242/242 [==============================] - 0s 747us/step - loss: 0.3705 - val_loss: 0.3905\n",
      "Epoch 51/100\n",
      "242/242 [==============================] - 0s 755us/step - loss: 0.3599 - val_loss: 0.3832\n",
      "Epoch 52/100\n",
      "242/242 [==============================] - 0s 751us/step - loss: 0.3842 - val_loss: 0.3827\n",
      "Epoch 53/100\n",
      "242/242 [==============================] - 0s 759us/step - loss: 0.3698 - val_loss: 0.3859\n",
      "121/121 [==============================] - 0s 392us/step - loss: 0.3865\n",
      "[CV] END learning_rate=0.0006154014789262348, n_hidden=2, n_neurons=87; total time=  10.2s\n",
      "Epoch 1/100\n",
      "242/242 [==============================] - 0s 1ms/step - loss: 3.8639 - val_loss: 17.5435\n",
      "Epoch 2/100\n",
      "242/242 [==============================] - 0s 751us/step - loss: 1.2643 - val_loss: 15.4502\n",
      "Epoch 3/100\n",
      "242/242 [==============================] - 0s 759us/step - loss: 0.8537 - val_loss: 11.1084\n",
      "Epoch 4/100\n",
      "242/242 [==============================] - 0s 755us/step - loss: 0.7261 - val_loss: 8.0885\n",
      "Epoch 5/100\n",
      "242/242 [==============================] - 0s 759us/step - loss: 0.6709 - val_loss: 6.1076\n",
      "Epoch 6/100\n",
      "242/242 [==============================] - 0s 747us/step - loss: 0.6338 - val_loss: 4.7302\n",
      "Epoch 7/100\n",
      "242/242 [==============================] - 0s 747us/step - loss: 0.6050 - val_loss: 3.6783\n",
      "Epoch 8/100\n",
      "242/242 [==============================] - 0s 743us/step - loss: 0.5728 - val_loss: 2.8274\n",
      "Epoch 9/100\n",
      "242/242 [==============================] - 0s 734us/step - loss: 0.5618 - val_loss: 2.2526\n",
      "Epoch 10/100\n",
      "242/242 [==============================] - 0s 755us/step - loss: 0.5420 - val_loss: 1.7966\n",
      "Epoch 11/100\n",
      "242/242 [==============================] - 0s 788us/step - loss: 0.5264 - val_loss: 1.4646\n",
      "Epoch 12/100\n",
      "242/242 [==============================] - 0s 755us/step - loss: 0.5001 - val_loss: 1.1656\n",
      "Epoch 13/100\n",
      "242/242 [==============================] - 0s 747us/step - loss: 0.4951 - val_loss: 0.9599\n",
      "Epoch 14/100\n",
      "242/242 [==============================] - 0s 755us/step - loss: 0.4816 - val_loss: 0.8400\n",
      "Epoch 15/100\n",
      "242/242 [==============================] - 0s 780us/step - loss: 0.5011 - val_loss: 0.7148\n",
      "Epoch 16/100\n",
      "242/242 [==============================] - 0s 772us/step - loss: 0.4759 - val_loss: 0.6408\n",
      "Epoch 17/100\n",
      "242/242 [==============================] - 0s 772us/step - loss: 0.4740 - val_loss: 0.5679\n",
      "Epoch 18/100\n",
      "242/242 [==============================] - 0s 751us/step - loss: 0.4779 - val_loss: 0.5264\n",
      "Epoch 19/100\n",
      "242/242 [==============================] - 0s 751us/step - loss: 0.4594 - val_loss: 0.4894\n",
      "Epoch 20/100\n",
      "242/242 [==============================] - 0s 747us/step - loss: 0.4491 - val_loss: 0.4711\n",
      "Epoch 21/100\n",
      "242/242 [==============================] - 0s 763us/step - loss: 0.4446 - val_loss: 0.4525\n",
      "Epoch 22/100\n",
      "242/242 [==============================] - 0s 755us/step - loss: 0.4432 - val_loss: 0.4467\n",
      "Epoch 23/100\n",
      "242/242 [==============================] - 0s 747us/step - loss: 0.4445 - val_loss: 0.4404\n",
      "Epoch 24/100\n",
      "242/242 [==============================] - ETA: 0s - loss: 0.426 - 0s 747us/step - loss: 0.4271 - val_loss: 0.4333\n",
      "Epoch 25/100\n",
      "242/242 [==============================] - 0s 751us/step - loss: 0.4087 - val_loss: 0.4302\n",
      "Epoch 26/100\n",
      "242/242 [==============================] - 0s 743us/step - loss: 0.4180 - val_loss: 0.4284\n",
      "Epoch 27/100\n",
      "242/242 [==============================] - 0s 776us/step - loss: 0.4333 - val_loss: 0.4270\n",
      "Epoch 28/100\n",
      "242/242 [==============================] - 0s 734us/step - loss: 0.4217 - val_loss: 0.4269\n",
      "Epoch 29/100\n",
      "242/242 [==============================] - 0s 739us/step - loss: 0.4192 - val_loss: 0.4416\n",
      "Epoch 30/100\n",
      "242/242 [==============================] - 0s 759us/step - loss: 0.4192 - val_loss: 0.4363\n",
      "Epoch 31/100\n",
      "242/242 [==============================] - 0s 759us/step - loss: 0.4109 - val_loss: 0.4330\n",
      "Epoch 32/100\n",
      "242/242 [==============================] - 0s 784us/step - loss: 0.4095 - val_loss: 0.4408\n",
      "Epoch 33/100\n",
      "242/242 [==============================] - 0s 772us/step - loss: 0.4074 - val_loss: 0.4484\n",
      "Epoch 34/100\n",
      "242/242 [==============================] - 0s 739us/step - loss: 0.3977 - val_loss: 0.4647\n",
      "Epoch 35/100\n",
      "242/242 [==============================] - 0s 743us/step - loss: 0.3947 - val_loss: 0.4789\n",
      "Epoch 36/100\n",
      "242/242 [==============================] - 0s 780us/step - loss: 0.3863 - val_loss: 0.4746\n",
      "Epoch 37/100\n",
      "242/242 [==============================] - 0s 768us/step - loss: 0.3977 - val_loss: 0.4974\n",
      "Epoch 38/100\n",
      "242/242 [==============================] - 0s 784us/step - loss: 0.3813 - val_loss: 0.5135\n",
      "121/121 [==============================] - 0s 392us/step - loss: 0.4088\n",
      "[CV] END learning_rate=0.0006154014789262348, n_hidden=2, n_neurons=87; total time=   7.3s\n",
      "Epoch 1/100\n",
      "242/242 [==============================] - 1s 2ms/step - loss: 3.9716 - val_loss: 2.0961\n",
      "Epoch 2/100\n"
     ]
    },
    {
     "name": "stdout",
     "output_type": "stream",
     "text": [
      "242/242 [==============================] - 0s 793us/step - loss: 1.2441 - val_loss: 1.2079\n",
      "Epoch 3/100\n",
      "242/242 [==============================] - 0s 797us/step - loss: 0.8593 - val_loss: 0.8075\n",
      "Epoch 4/100\n",
      "242/242 [==============================] - 0s 772us/step - loss: 0.7813 - val_loss: 0.7207\n",
      "Epoch 5/100\n",
      "242/242 [==============================] - 0s 759us/step - loss: 0.7201 - val_loss: 0.6952\n",
      "Epoch 6/100\n",
      "242/242 [==============================] - 0s 759us/step - loss: 0.6827 - val_loss: 0.6614\n",
      "Epoch 7/100\n",
      "242/242 [==============================] - 0s 755us/step - loss: 0.6703 - val_loss: 0.6378\n",
      "Epoch 8/100\n",
      "242/242 [==============================] - 0s 759us/step - loss: 0.6521 - val_loss: 0.6132\n",
      "Epoch 9/100\n",
      "242/242 [==============================] - 0s 822us/step - loss: 0.6350 - val_loss: 0.6043\n",
      "Epoch 10/100\n",
      "242/242 [==============================] - 0s 747us/step - loss: 0.5927 - val_loss: 0.5937\n",
      "Epoch 11/100\n",
      "242/242 [==============================] - 0s 776us/step - loss: 0.5958 - val_loss: 0.5658\n",
      "Epoch 12/100\n",
      "242/242 [==============================] - 0s 747us/step - loss: 0.5681 - val_loss: 0.5551\n",
      "Epoch 13/100\n",
      "242/242 [==============================] - 0s 772us/step - loss: 0.5353 - val_loss: 0.5476\n",
      "Epoch 14/100\n",
      "242/242 [==============================] - 0s 772us/step - loss: 0.5369 - val_loss: 0.5450\n",
      "Epoch 15/100\n",
      "242/242 [==============================] - 0s 759us/step - loss: 0.5528 - val_loss: 0.5314\n",
      "Epoch 16/100\n",
      "242/242 [==============================] - 0s 768us/step - loss: 0.5318 - val_loss: 0.5067\n",
      "Epoch 17/100\n",
      "242/242 [==============================] - 0s 747us/step - loss: 0.5005 - val_loss: 0.4983\n",
      "Epoch 18/100\n",
      "242/242 [==============================] - 0s 776us/step - loss: 0.5180 - val_loss: 0.4873\n",
      "Epoch 19/100\n",
      "242/242 [==============================] - 0s 772us/step - loss: 0.5039 - val_loss: 0.4748\n",
      "Epoch 20/100\n",
      "242/242 [==============================] - 0s 772us/step - loss: 0.4846 - val_loss: 0.4767\n",
      "Epoch 21/100\n",
      "242/242 [==============================] - 0s 755us/step - loss: 0.4711 - val_loss: 0.4719\n",
      "Epoch 22/100\n",
      "242/242 [==============================] - 0s 759us/step - loss: 0.4926 - val_loss: 0.4623\n",
      "Epoch 23/100\n",
      "242/242 [==============================] - 0s 780us/step - loss: 0.4587 - val_loss: 0.4640\n",
      "Epoch 24/100\n",
      "242/242 [==============================] - 0s 772us/step - loss: 0.4524 - val_loss: 0.4777\n",
      "Epoch 25/100\n",
      "242/242 [==============================] - 0s 763us/step - loss: 0.4561 - val_loss: 0.4488\n",
      "Epoch 26/100\n",
      "242/242 [==============================] - 0s 768us/step - loss: 0.4432 - val_loss: 0.4475\n",
      "Epoch 27/100\n",
      "242/242 [==============================] - 0s 764us/step - loss: 0.4535 - val_loss: 0.4420\n",
      "Epoch 28/100\n",
      "242/242 [==============================] - 0s 776us/step - loss: 0.4486 - val_loss: 0.4449\n",
      "Epoch 29/100\n",
      "242/242 [==============================] - 0s 772us/step - loss: 0.4329 - val_loss: 0.4581\n",
      "Epoch 30/100\n",
      "242/242 [==============================] - 0s 788us/step - loss: 0.4322 - val_loss: 0.4385\n",
      "Epoch 31/100\n",
      "242/242 [==============================] - 0s 776us/step - loss: 0.4157 - val_loss: 0.4226\n",
      "Epoch 32/100\n",
      "242/242 [==============================] - 0s 751us/step - loss: 0.4463 - val_loss: 0.4458\n",
      "Epoch 33/100\n",
      "242/242 [==============================] - 0s 755us/step - loss: 0.4255 - val_loss: 0.4242\n",
      "Epoch 34/100\n",
      "242/242 [==============================] - 0s 772us/step - loss: 0.4045 - val_loss: 0.4542\n",
      "Epoch 35/100\n",
      "242/242 [==============================] - 0s 747us/step - loss: 0.4014 - val_loss: 0.4279\n",
      "Epoch 36/100\n",
      "242/242 [==============================] - 0s 772us/step - loss: 0.4058 - val_loss: 0.4341\n",
      "Epoch 37/100\n",
      "242/242 [==============================] - 0s 788us/step - loss: 0.4116 - val_loss: 0.4189\n",
      "Epoch 38/100\n",
      "242/242 [==============================] - 0s 759us/step - loss: 0.4083 - val_loss: 0.4344\n",
      "Epoch 39/100\n",
      "242/242 [==============================] - 0s 751us/step - loss: 0.4144 - val_loss: 0.4235\n",
      "Epoch 40/100\n",
      "242/242 [==============================] - 0s 763us/step - loss: 0.4052 - val_loss: 0.4183\n",
      "Epoch 41/100\n",
      "242/242 [==============================] - 0s 776us/step - loss: 0.3805 - val_loss: 0.4552\n",
      "Epoch 42/100\n",
      "242/242 [==============================] - 0s 768us/step - loss: 0.3908 - val_loss: 0.4411\n",
      "Epoch 43/100\n",
      "242/242 [==============================] - 0s 772us/step - loss: 0.3971 - val_loss: 0.4073\n",
      "Epoch 44/100\n",
      "242/242 [==============================] - 0s 747us/step - loss: 0.4066 - val_loss: 0.4294\n",
      "Epoch 45/100\n",
      "242/242 [==============================] - 0s 801us/step - loss: 0.3865 - val_loss: 0.4238\n",
      "Epoch 46/100\n",
      "242/242 [==============================] - 0s 768us/step - loss: 0.3847 - val_loss: 0.4128\n",
      "Epoch 47/100\n",
      "242/242 [==============================] - 0s 759us/step - loss: 0.3953 - val_loss: 0.3977\n",
      "Epoch 48/100\n",
      "242/242 [==============================] - 0s 755us/step - loss: 0.3861 - val_loss: 0.4028\n",
      "Epoch 49/100\n",
      "242/242 [==============================] - 0s 764us/step - loss: 0.3941 - val_loss: 0.4362\n",
      "Epoch 50/100\n",
      "242/242 [==============================] - 0s 801us/step - loss: 0.3816 - val_loss: 0.4235\n",
      "Epoch 51/100\n",
      "242/242 [==============================] - 0s 776us/step - loss: 0.3967 - val_loss: 0.4171\n",
      "Epoch 52/100\n",
      "242/242 [==============================] - ETA: 0s - loss: 0.379 - 0s 776us/step - loss: 0.3808 - val_loss: 0.4273\n",
      "Epoch 53/100\n",
      "242/242 [==============================] - 0s 784us/step - loss: 0.3852 - val_loss: 0.4076\n",
      "Epoch 54/100\n",
      "242/242 [==============================] - 0s 755us/step - loss: 0.3787 - val_loss: 0.3885\n",
      "Epoch 55/100\n",
      "242/242 [==============================] - 0s 772us/step - loss: 0.3765 - val_loss: 0.4003\n",
      "Epoch 56/100\n",
      "242/242 [==============================] - 0s 780us/step - loss: 0.3831 - val_loss: 0.4176\n",
      "Epoch 57/100\n",
      "242/242 [==============================] - 0s 809us/step - loss: 0.3727 - val_loss: 0.4201\n",
      "Epoch 58/100\n",
      "242/242 [==============================] - 0s 763us/step - loss: 0.3825 - val_loss: 0.4177\n",
      "Epoch 59/100\n",
      "242/242 [==============================] - 0s 772us/step - loss: 0.3836 - val_loss: 0.4166\n",
      "Epoch 60/100\n",
      "242/242 [==============================] - 0s 776us/step - loss: 0.3914 - val_loss: 0.3910\n",
      "Epoch 61/100\n",
      "242/242 [==============================] - 0s 763us/step - loss: 0.3911 - val_loss: 0.4094\n",
      "Epoch 62/100\n",
      "242/242 [==============================] - 0s 747us/step - loss: 0.3759 - val_loss: 0.4363\n",
      "Epoch 63/100\n",
      "242/242 [==============================] - 0s 776us/step - loss: 0.3712 - val_loss: 0.4025\n",
      "Epoch 64/100\n",
      "242/242 [==============================] - 0s 768us/step - loss: 0.3880 - val_loss: 0.4028\n",
      "121/121 [==============================] - 0s 409us/step - loss: 0.3737\n",
      "[CV] END learning_rate=0.0006154014789262348, n_hidden=2, n_neurons=87; total time=  12.4s\n",
      "Epoch 1/100\n",
      "242/242 [==============================] - 0s 1ms/step - loss: 3.0172 - val_loss: 7.9722\n",
      "Epoch 2/100\n",
      "242/242 [==============================] - 0s 772us/step - loss: 1.1314 - val_loss: 5.6563\n",
      "Epoch 3/100\n",
      "242/242 [==============================] - 0s 743us/step - loss: 0.8873 - val_loss: 4.1443\n",
      "Epoch 4/100\n",
      "242/242 [==============================] - 0s 755us/step - loss: 0.7990 - val_loss: 3.1169\n",
      "Epoch 5/100\n",
      "242/242 [==============================] - 0s 763us/step - loss: 0.7510 - val_loss: 2.6199\n",
      "Epoch 6/100\n",
      "242/242 [==============================] - 0s 743us/step - loss: 0.7433 - val_loss: 2.2830\n",
      "Epoch 7/100\n",
      "242/242 [==============================] - 0s 751us/step - loss: 0.7276 - val_loss: 1.9726\n",
      "Epoch 8/100\n",
      "242/242 [==============================] - 0s 722us/step - loss: 0.6950 - val_loss: 1.7536\n",
      "Epoch 9/100\n",
      "242/242 [==============================] - 0s 730us/step - loss: 0.6651 - val_loss: 1.5653\n",
      "Epoch 10/100\n",
      "242/242 [==============================] - 0s 739us/step - loss: 0.6774 - val_loss: 1.4316\n",
      "Epoch 11/100\n",
      "242/242 [==============================] - 0s 759us/step - loss: 0.6459 - val_loss: 1.3165\n",
      "Epoch 12/100\n",
      "242/242 [==============================] - 0s 751us/step - loss: 0.6046 - val_loss: 1.2101\n",
      "Epoch 13/100\n",
      "242/242 [==============================] - 0s 743us/step - loss: 0.6378 - val_loss: 1.1236\n",
      "Epoch 14/100\n",
      "242/242 [==============================] - 0s 759us/step - loss: 0.6303 - val_loss: 1.0591\n",
      "Epoch 15/100\n"
     ]
    },
    {
     "name": "stdout",
     "output_type": "stream",
     "text": [
      "242/242 [==============================] - 0s 743us/step - loss: 0.6127 - val_loss: 0.9875\n",
      "Epoch 16/100\n",
      "242/242 [==============================] - 0s 759us/step - loss: 0.5844 - val_loss: 0.9345\n",
      "Epoch 17/100\n",
      "242/242 [==============================] - 0s 759us/step - loss: 0.6108 - val_loss: 0.8832\n",
      "Epoch 18/100\n",
      "242/242 [==============================] - 0s 759us/step - loss: 0.5836 - val_loss: 0.8424\n",
      "Epoch 19/100\n",
      "242/242 [==============================] - 0s 734us/step - loss: 0.5577 - val_loss: 0.8079\n",
      "Epoch 20/100\n",
      "242/242 [==============================] - 0s 743us/step - loss: 0.5619 - val_loss: 0.7646\n",
      "Epoch 21/100\n",
      "242/242 [==============================] - 0s 726us/step - loss: 0.5377 - val_loss: 0.7347\n",
      "Epoch 22/100\n",
      "242/242 [==============================] - 0s 751us/step - loss: 0.5261 - val_loss: 0.7075\n",
      "Epoch 23/100\n",
      "242/242 [==============================] - 0s 722us/step - loss: 0.5350 - val_loss: 0.6815\n",
      "Epoch 24/100\n",
      "242/242 [==============================] - 0s 751us/step - loss: 0.5126 - val_loss: 0.6537\n",
      "Epoch 25/100\n",
      "242/242 [==============================] - 0s 718us/step - loss: 0.5209 - val_loss: 0.6360\n",
      "Epoch 26/100\n",
      "242/242 [==============================] - 0s 730us/step - loss: 0.4920 - val_loss: 0.6174\n",
      "Epoch 27/100\n",
      "242/242 [==============================] - 0s 734us/step - loss: 0.5056 - val_loss: 0.6010\n",
      "Epoch 28/100\n",
      "242/242 [==============================] - 0s 747us/step - loss: 0.4962 - val_loss: 0.5887\n",
      "Epoch 29/100\n",
      "242/242 [==============================] - 0s 730us/step - loss: 0.4973 - val_loss: 0.5778\n",
      "Epoch 30/100\n",
      "242/242 [==============================] - 0s 739us/step - loss: 0.4783 - val_loss: 0.5671\n",
      "Epoch 31/100\n",
      "242/242 [==============================] - 0s 768us/step - loss: 0.4640 - val_loss: 0.5557\n",
      "Epoch 32/100\n",
      "242/242 [==============================] - 0s 734us/step - loss: 0.4596 - val_loss: 0.5475\n",
      "Epoch 33/100\n",
      "242/242 [==============================] - 0s 759us/step - loss: 0.4550 - val_loss: 0.5403\n",
      "Epoch 34/100\n",
      "242/242 [==============================] - 0s 755us/step - loss: 0.4566 - val_loss: 0.5321\n",
      "Epoch 35/100\n",
      "242/242 [==============================] - 0s 743us/step - loss: 0.4479 - val_loss: 0.5250\n",
      "Epoch 36/100\n",
      "242/242 [==============================] - 0s 726us/step - loss: 0.4390 - val_loss: 0.5165\n",
      "Epoch 37/100\n",
      "242/242 [==============================] - 0s 747us/step - loss: 0.4465 - val_loss: 0.5106\n",
      "Epoch 38/100\n",
      "242/242 [==============================] - 0s 747us/step - loss: 0.4261 - val_loss: 0.5053\n",
      "Epoch 39/100\n",
      "242/242 [==============================] - 0s 747us/step - loss: 0.4368 - val_loss: 0.5004\n",
      "Epoch 40/100\n",
      "242/242 [==============================] - 0s 763us/step - loss: 0.4189 - val_loss: 0.4966\n",
      "Epoch 41/100\n",
      "242/242 [==============================] - 0s 788us/step - loss: 0.4284 - val_loss: 0.4922\n",
      "Epoch 42/100\n",
      "242/242 [==============================] - 0s 730us/step - loss: 0.4333 - val_loss: 0.4891\n",
      "Epoch 43/100\n",
      "242/242 [==============================] - 0s 759us/step - loss: 0.4217 - val_loss: 0.4850\n",
      "Epoch 44/100\n",
      "242/242 [==============================] - 0s 747us/step - loss: 0.4198 - val_loss: 0.4854\n",
      "Epoch 45/100\n",
      "242/242 [==============================] - 0s 759us/step - loss: 0.4223 - val_loss: 0.4828\n",
      "Epoch 46/100\n",
      "242/242 [==============================] - 0s 747us/step - loss: 0.4080 - val_loss: 0.4779\n",
      "Epoch 47/100\n",
      "242/242 [==============================] - 0s 747us/step - loss: 0.4182 - val_loss: 0.4783\n",
      "Epoch 48/100\n",
      "242/242 [==============================] - 0s 751us/step - loss: 0.3936 - val_loss: 0.4755\n",
      "Epoch 49/100\n",
      "242/242 [==============================] - 0s 718us/step - loss: 0.4146 - val_loss: 0.4766\n",
      "Epoch 50/100\n",
      "242/242 [==============================] - 0s 751us/step - loss: 0.4050 - val_loss: 0.4753\n",
      "Epoch 51/100\n",
      "242/242 [==============================] - 0s 718us/step - loss: 0.3944 - val_loss: 0.4714\n",
      "Epoch 52/100\n",
      "242/242 [==============================] - 0s 751us/step - loss: 0.4134 - val_loss: 0.4726\n",
      "Epoch 53/100\n",
      "242/242 [==============================] - 0s 751us/step - loss: 0.3958 - val_loss: 0.4722\n",
      "Epoch 54/100\n",
      "242/242 [==============================] - 0s 726us/step - loss: 0.4072 - val_loss: 0.4708\n",
      "Epoch 55/100\n",
      "242/242 [==============================] - 0s 718us/step - loss: 0.3842 - val_loss: 0.4704\n",
      "Epoch 56/100\n",
      "242/242 [==============================] - 0s 743us/step - loss: 0.4246 - val_loss: 0.4714\n",
      "Epoch 57/100\n",
      "242/242 [==============================] - 0s 739us/step - loss: 0.3932 - val_loss: 0.4704\n",
      "Epoch 58/100\n",
      "242/242 [==============================] - 0s 747us/step - loss: 0.4030 - val_loss: 0.4718\n",
      "Epoch 59/100\n",
      "242/242 [==============================] - 0s 813us/step - loss: 0.4073 - val_loss: 0.4712\n",
      "Epoch 60/100\n",
      "242/242 [==============================] - 0s 759us/step - loss: 0.3927 - val_loss: 0.4701\n",
      "Epoch 61/100\n",
      "242/242 [==============================] - 0s 772us/step - loss: 0.3792 - val_loss: 0.4718\n",
      "Epoch 62/100\n",
      "242/242 [==============================] - 0s 784us/step - loss: 0.3849 - val_loss: 0.4717\n",
      "Epoch 63/100\n",
      "242/242 [==============================] - 0s 747us/step - loss: 0.3975 - val_loss: 0.4704\n",
      "Epoch 64/100\n",
      "242/242 [==============================] - 0s 730us/step - loss: 0.3874 - val_loss: 0.4735\n",
      "Epoch 65/100\n",
      "242/242 [==============================] - 0s 734us/step - loss: 0.3619 - val_loss: 0.4738\n",
      "Epoch 66/100\n",
      "242/242 [==============================] - 0s 768us/step - loss: 0.4170 - val_loss: 0.4729\n",
      "Epoch 67/100\n",
      "242/242 [==============================] - 0s 730us/step - loss: 0.3865 - val_loss: 0.4716\n",
      "Epoch 68/100\n",
      "242/242 [==============================] - 0s 763us/step - loss: 0.3869 - val_loss: 0.4731\n",
      "Epoch 69/100\n",
      "242/242 [==============================] - 0s 772us/step - loss: 0.3941 - val_loss: 0.4720\n",
      "Epoch 70/100\n",
      "242/242 [==============================] - 0s 747us/step - loss: 0.4128 - val_loss: 0.4721\n",
      "121/121 [==============================] - 0s 417us/step - loss: 0.4001\n",
      "[CV] END learning_rate=0.0003920021771415983, n_hidden=3, n_neurons=24; total time=  13.1s\n",
      "Epoch 1/100\n",
      "242/242 [==============================] - 0s 1ms/step - loss: 4.6799 - val_loss: 28.0492\n",
      "Epoch 2/100\n",
      "242/242 [==============================] - 0s 763us/step - loss: 2.2876 - val_loss: 43.0472\n",
      "Epoch 3/100\n",
      "242/242 [==============================] - ETA: 0s - loss: 1.720 - 0s 739us/step - loss: 1.7123 - val_loss: 37.0128\n",
      "Epoch 4/100\n",
      "242/242 [==============================] - 0s 739us/step - loss: 1.4436 - val_loss: 28.7538\n",
      "Epoch 5/100\n",
      "242/242 [==============================] - 0s 759us/step - loss: 1.1760 - val_loss: 20.6120\n",
      "Epoch 6/100\n",
      "242/242 [==============================] - 0s 747us/step - loss: 1.0429 - val_loss: 14.6245\n",
      "Epoch 7/100\n",
      "242/242 [==============================] - 0s 747us/step - loss: 0.9553 - val_loss: 10.5960\n",
      "Epoch 8/100\n",
      "242/242 [==============================] - 0s 726us/step - loss: 0.8539 - val_loss: 7.2861\n",
      "Epoch 9/100\n",
      "242/242 [==============================] - 0s 751us/step - loss: 0.8283 - val_loss: 5.1836\n",
      "Epoch 10/100\n",
      "242/242 [==============================] - 0s 751us/step - loss: 0.7813 - val_loss: 3.7344\n",
      "Epoch 11/100\n",
      "242/242 [==============================] - 0s 734us/step - loss: 0.7572 - val_loss: 2.7778\n",
      "Epoch 12/100\n",
      "242/242 [==============================] - 0s 734us/step - loss: 0.7330 - val_loss: 1.9391\n",
      "Epoch 13/100\n",
      "242/242 [==============================] - 0s 747us/step - loss: 0.7016 - val_loss: 1.4673\n",
      "Epoch 14/100\n",
      "242/242 [==============================] - 0s 755us/step - loss: 0.6931 - val_loss: 1.2321\n",
      "Epoch 15/100\n",
      "242/242 [==============================] - 0s 747us/step - loss: 0.7247 - val_loss: 0.9812\n",
      "Epoch 16/100\n",
      "242/242 [==============================] - 0s 772us/step - loss: 0.6746 - val_loss: 0.8534\n",
      "Epoch 17/100\n",
      "242/242 [==============================] - 0s 743us/step - loss: 0.6902 - val_loss: 0.7166\n",
      "Epoch 18/100\n",
      "242/242 [==============================] - 0s 730us/step - loss: 0.6639 - val_loss: 0.6424\n",
      "Epoch 19/100\n",
      "242/242 [==============================] - 0s 755us/step - loss: 0.6338 - val_loss: 0.5949\n",
      "Epoch 20/100\n",
      "242/242 [==============================] - 0s 739us/step - loss: 0.6267 - val_loss: 0.5764\n",
      "Epoch 21/100\n",
      "242/242 [==============================] - 0s 751us/step - loss: 0.6066 - val_loss: 0.5809\n",
      "Epoch 22/100\n"
     ]
    },
    {
     "name": "stdout",
     "output_type": "stream",
     "text": [
      "242/242 [==============================] - ETA: 0s - loss: 0.616 - 0s 747us/step - loss: 0.6149 - val_loss: 0.6027\n",
      "Epoch 23/100\n",
      "242/242 [==============================] - 0s 747us/step - loss: 0.5979 - val_loss: 0.6369\n",
      "Epoch 24/100\n",
      "242/242 [==============================] - 0s 797us/step - loss: 0.5640 - val_loss: 0.6922\n",
      "Epoch 25/100\n",
      "242/242 [==============================] - 0s 793us/step - loss: 0.5534 - val_loss: 0.7604\n",
      "Epoch 26/100\n",
      "242/242 [==============================] - 0s 763us/step - loss: 0.5521 - val_loss: 0.8304\n",
      "Epoch 27/100\n",
      "242/242 [==============================] - 0s 776us/step - loss: 0.5661 - val_loss: 0.8810\n",
      "Epoch 28/100\n",
      "242/242 [==============================] - 0s 739us/step - loss: 0.5517 - val_loss: 0.9624\n",
      "Epoch 29/100\n",
      "242/242 [==============================] - 0s 734us/step - loss: 0.5452 - val_loss: 0.9578\n",
      "Epoch 30/100\n",
      "242/242 [==============================] - ETA: 0s - loss: 0.539 - 0s 751us/step - loss: 0.5387 - val_loss: 1.0158\n",
      "121/121 [==============================] - 0s 417us/step - loss: 0.5490\n",
      "[CV] END learning_rate=0.0003920021771415983, n_hidden=3, n_neurons=24; total time=   5.8s\n",
      "Epoch 1/100\n",
      "242/242 [==============================] - 0s 1ms/step - loss: 3.7671 - val_loss: 4.3285\n",
      "Epoch 2/100\n",
      "242/242 [==============================] - 0s 734us/step - loss: 1.4168 - val_loss: 2.8653\n",
      "Epoch 3/100\n",
      "242/242 [==============================] - 0s 751us/step - loss: 0.9880 - val_loss: 1.8260\n",
      "Epoch 4/100\n",
      "242/242 [==============================] - 0s 722us/step - loss: 0.8960 - val_loss: 1.2974\n",
      "Epoch 5/100\n",
      "242/242 [==============================] - 0s 726us/step - loss: 0.7894 - val_loss: 0.9606\n",
      "Epoch 6/100\n",
      "242/242 [==============================] - 0s 759us/step - loss: 0.7342 - val_loss: 0.7924\n",
      "Epoch 7/100\n",
      "242/242 [==============================] - 0s 734us/step - loss: 0.7074 - val_loss: 0.7158\n",
      "Epoch 8/100\n",
      "242/242 [==============================] - 0s 730us/step - loss: 0.6971 - val_loss: 0.6616\n",
      "Epoch 9/100\n",
      "242/242 [==============================] - 0s 764us/step - loss: 0.6864 - val_loss: 0.6363\n",
      "Epoch 10/100\n",
      "242/242 [==============================] - 0s 739us/step - loss: 0.6453 - val_loss: 0.6160\n",
      "Epoch 11/100\n",
      "242/242 [==============================] - ETA: 0s - loss: 0.632 - 0s 751us/step - loss: 0.6323 - val_loss: 0.5999\n",
      "Epoch 12/100\n",
      "242/242 [==============================] - 0s 734us/step - loss: 0.6111 - val_loss: 0.5855\n",
      "Epoch 13/100\n",
      "242/242 [==============================] - 0s 735us/step - loss: 0.5843 - val_loss: 0.5729\n",
      "Epoch 14/100\n",
      "242/242 [==============================] - 0s 743us/step - loss: 0.5785 - val_loss: 0.5615\n",
      "Epoch 15/100\n",
      "242/242 [==============================] - 0s 759us/step - loss: 0.5963 - val_loss: 0.5509\n",
      "Epoch 16/100\n",
      "242/242 [==============================] - 0s 730us/step - loss: 0.5864 - val_loss: 0.5399\n",
      "Epoch 17/100\n",
      "242/242 [==============================] - 0s 739us/step - loss: 0.5564 - val_loss: 0.5301\n",
      "Epoch 18/100\n",
      "242/242 [==============================] - 0s 739us/step - loss: 0.5697 - val_loss: 0.5210\n",
      "Epoch 19/100\n",
      "242/242 [==============================] - 0s 747us/step - loss: 0.5575 - val_loss: 0.5129\n",
      "Epoch 20/100\n",
      "242/242 [==============================] - 0s 772us/step - loss: 0.5358 - val_loss: 0.5062\n",
      "Epoch 21/100\n",
      "242/242 [==============================] - 0s 755us/step - loss: 0.5197 - val_loss: 0.4992\n",
      "Epoch 22/100\n",
      "242/242 [==============================] - 0s 730us/step - loss: 0.5448 - val_loss: 0.4932\n",
      "Epoch 23/100\n",
      "242/242 [==============================] - 0s 772us/step - loss: 0.5138 - val_loss: 0.4875\n",
      "Epoch 24/100\n",
      "242/242 [==============================] - 0s 738us/step - loss: 0.5078 - val_loss: 0.4857\n",
      "Epoch 25/100\n",
      "242/242 [==============================] - 0s 734us/step - loss: 0.5057 - val_loss: 0.4783\n",
      "Epoch 26/100\n",
      "242/242 [==============================] - 0s 751us/step - loss: 0.4962 - val_loss: 0.4746\n",
      "Epoch 27/100\n",
      "242/242 [==============================] - 0s 726us/step - loss: 0.5014 - val_loss: 0.4700\n",
      "Epoch 28/100\n",
      "242/242 [==============================] - 0s 747us/step - loss: 0.4995 - val_loss: 0.4676\n",
      "Epoch 29/100\n",
      "242/242 [==============================] - 0s 739us/step - loss: 0.4819 - val_loss: 0.4687\n",
      "Epoch 30/100\n",
      "242/242 [==============================] - 0s 743us/step - loss: 0.4860 - val_loss: 0.4618\n",
      "Epoch 31/100\n",
      "242/242 [==============================] - 0s 751us/step - loss: 0.4709 - val_loss: 0.4607\n",
      "Epoch 32/100\n",
      "242/242 [==============================] - 0s 718us/step - loss: 0.4939 - val_loss: 0.4630\n",
      "Epoch 33/100\n",
      "242/242 [==============================] - 0s 730us/step - loss: 0.4799 - val_loss: 0.4583\n",
      "Epoch 34/100\n",
      "242/242 [==============================] - 0s 747us/step - loss: 0.4540 - val_loss: 0.4643\n",
      "Epoch 35/100\n",
      "242/242 [==============================] - 0s 739us/step - loss: 0.4503 - val_loss: 0.4591\n",
      "Epoch 36/100\n",
      "242/242 [==============================] - 0s 730us/step - loss: 0.4635 - val_loss: 0.4562\n",
      "Epoch 37/100\n",
      "242/242 [==============================] - 0s 747us/step - loss: 0.4585 - val_loss: 0.4539\n",
      "Epoch 38/100\n",
      "242/242 [==============================] - 0s 747us/step - loss: 0.4549 - val_loss: 0.4547\n",
      "Epoch 39/100\n",
      "242/242 [==============================] - 0s 776us/step - loss: 0.4663 - val_loss: 0.4534\n",
      "Epoch 40/100\n",
      "242/242 [==============================] - 0s 726us/step - loss: 0.4478 - val_loss: 0.4523\n",
      "Epoch 41/100\n",
      "242/242 [==============================] - 0s 734us/step - loss: 0.4289 - val_loss: 0.4613\n",
      "Epoch 42/100\n",
      "242/242 [==============================] - 0s 726us/step - loss: 0.4342 - val_loss: 0.4593\n",
      "Epoch 43/100\n",
      "242/242 [==============================] - 0s 739us/step - loss: 0.4458 - val_loss: 0.4497\n",
      "Epoch 44/100\n",
      "242/242 [==============================] - 0s 755us/step - loss: 0.4526 - val_loss: 0.4544\n",
      "Epoch 45/100\n",
      "242/242 [==============================] - 0s 730us/step - loss: 0.4302 - val_loss: 0.4533\n",
      "Epoch 46/100\n",
      "242/242 [==============================] - ETA: 0s - loss: 0.430 - 0s 739us/step - loss: 0.4310 - val_loss: 0.4497\n",
      "Epoch 47/100\n",
      "242/242 [==============================] - 0s 747us/step - loss: 0.4346 - val_loss: 0.4470\n",
      "Epoch 48/100\n",
      "242/242 [==============================] - 0s 759us/step - loss: 0.4268 - val_loss: 0.4470\n",
      "Epoch 49/100\n",
      "242/242 [==============================] - 0s 772us/step - loss: 0.4403 - val_loss: 0.4532\n",
      "Epoch 50/100\n",
      "242/242 [==============================] - 0s 788us/step - loss: 0.4206 - val_loss: 0.4549\n",
      "Epoch 51/100\n",
      "242/242 [==============================] - 0s 747us/step - loss: 0.4437 - val_loss: 0.4534\n",
      "Epoch 52/100\n",
      "242/242 [==============================] - 0s 730us/step - loss: 0.4239 - val_loss: 0.4594\n",
      "Epoch 53/100\n",
      "242/242 [==============================] - 0s 751us/step - loss: 0.4189 - val_loss: 0.4535\n",
      "Epoch 54/100\n",
      "242/242 [==============================] - 0s 743us/step - loss: 0.4209 - val_loss: 0.4484\n",
      "Epoch 55/100\n",
      "242/242 [==============================] - 0s 751us/step - loss: 0.4266 - val_loss: 0.4489\n",
      "Epoch 56/100\n",
      "242/242 [==============================] - 0s 722us/step - loss: 0.4238 - val_loss: 0.4465\n",
      "Epoch 57/100\n",
      "242/242 [==============================] - 0s 838us/step - loss: 0.4181 - val_loss: 0.4489\n",
      "Epoch 58/100\n",
      "242/242 [==============================] - 0s 784us/step - loss: 0.4279 - val_loss: 0.4514\n",
      "Epoch 59/100\n",
      "242/242 [==============================] - 0s 768us/step - loss: 0.4194 - val_loss: 0.4499\n",
      "Epoch 60/100\n",
      "242/242 [==============================] - 0s 718us/step - loss: 0.4358 - val_loss: 0.4441\n",
      "Epoch 61/100\n",
      "242/242 [==============================] - 0s 763us/step - loss: 0.4350 - val_loss: 0.4476\n",
      "Epoch 62/100\n",
      "242/242 [==============================] - 0s 751us/step - loss: 0.4226 - val_loss: 0.4501\n",
      "Epoch 63/100\n",
      "242/242 [==============================] - 0s 888us/step - loss: 0.4131 - val_loss: 0.4432\n",
      "Epoch 64/100\n",
      "242/242 [==============================] - 0s 755us/step - loss: 0.4273 - val_loss: 0.4385\n",
      "Epoch 65/100\n",
      "242/242 [==============================] - 0s 739us/step - loss: 0.4199 - val_loss: 0.4381\n",
      "Epoch 66/100\n",
      "242/242 [==============================] - 0s 739us/step - loss: 0.4050 - val_loss: 0.4440\n",
      "Epoch 67/100\n",
      "242/242 [==============================] - 0s 855us/step - loss: 0.4157 - val_loss: 0.4354\n",
      "Epoch 68/100\n"
     ]
    },
    {
     "name": "stdout",
     "output_type": "stream",
     "text": [
      "242/242 [==============================] - 0s 971us/step - loss: 0.4271 - val_loss: 0.4381\n",
      "Epoch 69/100\n",
      "242/242 [==============================] - 0s 822us/step - loss: 0.4010 - val_loss: 0.4341\n",
      "Epoch 70/100\n",
      "242/242 [==============================] - 0s 826us/step - loss: 0.4111 - val_loss: 0.4395\n",
      "Epoch 71/100\n",
      "242/242 [==============================] - 0s 851us/step - loss: 0.4344 - val_loss: 0.4340\n",
      "Epoch 72/100\n",
      "242/242 [==============================] - 0s 788us/step - loss: 0.3948 - val_loss: 0.4407\n",
      "Epoch 73/100\n",
      "242/242 [==============================] - 0s 1000us/step - loss: 0.4121 - val_loss: 0.4309\n",
      "Epoch 74/100\n",
      "242/242 [==============================] - 0s 763us/step - loss: 0.4067 - val_loss: 0.4328\n",
      "Epoch 75/100\n",
      "242/242 [==============================] - 0s 730us/step - loss: 0.3966 - val_loss: 0.4349\n",
      "Epoch 76/100\n",
      "242/242 [==============================] - 0s 792us/step - loss: 0.4146 - val_loss: 0.4346\n",
      "Epoch 77/100\n",
      "242/242 [==============================] - 0s 784us/step - loss: 0.4084 - val_loss: 0.4339\n",
      "Epoch 78/100\n",
      "242/242 [==============================] - 0s 805us/step - loss: 0.4064 - val_loss: 0.4333\n",
      "Epoch 79/100\n",
      "242/242 [==============================] - 0s 776us/step - loss: 0.4074 - val_loss: 0.4281\n",
      "Epoch 80/100\n",
      "242/242 [==============================] - 0s 809us/step - loss: 0.4009 - val_loss: 0.4354\n",
      "Epoch 81/100\n",
      "242/242 [==============================] - 0s 788us/step - loss: 0.3946 - val_loss: 0.4322\n",
      "Epoch 82/100\n",
      "242/242 [==============================] - 0s 734us/step - loss: 0.4032 - val_loss: 0.4299\n",
      "Epoch 83/100\n",
      "242/242 [==============================] - 0s 726us/step - loss: 0.3857 - val_loss: 0.4292\n",
      "Epoch 84/100\n",
      "242/242 [==============================] - 0s 726us/step - loss: 0.4027 - val_loss: 0.4342\n",
      "Epoch 85/100\n",
      "242/242 [==============================] - 0s 743us/step - loss: 0.4061 - val_loss: 0.4219\n",
      "Epoch 86/100\n",
      "242/242 [==============================] - 0s 722us/step - loss: 0.3864 - val_loss: 0.4290\n",
      "Epoch 87/100\n",
      "242/242 [==============================] - 0s 743us/step - loss: 0.3968 - val_loss: 0.4329\n",
      "Epoch 88/100\n",
      "242/242 [==============================] - 0s 743us/step - loss: 0.3844 - val_loss: 0.4306\n",
      "Epoch 89/100\n",
      "242/242 [==============================] - 0s 743us/step - loss: 0.4084 - val_loss: 0.4337\n",
      "Epoch 90/100\n",
      "242/242 [==============================] - ETA: 0s - loss: 0.389 - 0s 734us/step - loss: 0.3899 - val_loss: 0.4251\n",
      "Epoch 91/100\n",
      "242/242 [==============================] - 0s 817us/step - loss: 0.4016 - val_loss: 0.4237\n",
      "Epoch 92/100\n",
      "242/242 [==============================] - 0s 784us/step - loss: 0.3923 - val_loss: 0.4191\n",
      "Epoch 93/100\n",
      "242/242 [==============================] - 0s 743us/step - loss: 0.3796 - val_loss: 0.4238\n",
      "Epoch 94/100\n",
      "242/242 [==============================] - 0s 739us/step - loss: 0.4013 - val_loss: 0.4203\n",
      "Epoch 95/100\n",
      "242/242 [==============================] - 0s 751us/step - loss: 0.4026 - val_loss: 0.4209\n",
      "Epoch 96/100\n",
      "242/242 [==============================] - 0s 772us/step - loss: 0.3884 - val_loss: 0.4215\n",
      "Epoch 97/100\n",
      "242/242 [==============================] - 0s 730us/step - loss: 0.3891 - val_loss: 0.4251\n",
      "Epoch 98/100\n",
      "242/242 [==============================] - 0s 772us/step - loss: 0.3781 - val_loss: 0.4161\n",
      "Epoch 99/100\n",
      "242/242 [==============================] - 0s 763us/step - loss: 0.3767 - val_loss: 0.4199\n",
      "Epoch 100/100\n",
      "242/242 [==============================] - 0s 751us/step - loss: 0.3783 - val_loss: 0.4242\n",
      "121/121 [==============================] - 0s 408us/step - loss: 0.3897\n",
      "[CV] END learning_rate=0.0003920021771415983, n_hidden=3, n_neurons=24; total time=  18.9s\n",
      "Epoch 1/100\n",
      "242/242 [==============================] - 0s 1ms/step - loss: 3.7946 - val_loss: 5.2312\n",
      "Epoch 2/100\n",
      "242/242 [==============================] - 0s 697us/step - loss: 0.7322 - val_loss: 26.5013\n",
      "Epoch 3/100\n",
      "242/242 [==============================] - 0s 722us/step - loss: 0.7799 - val_loss: 40.6122\n",
      "Epoch 4/100\n",
      "242/242 [==============================] - 0s 685us/step - loss: 0.7607 - val_loss: 135.6917\n",
      "Epoch 5/100\n",
      "242/242 [==============================] - 0s 747us/step - loss: 1.0753 - val_loss: 237.1149\n",
      "Epoch 6/100\n",
      "242/242 [==============================] - 0s 739us/step - loss: 5.9390 - val_loss: 506.5569\n",
      "Epoch 7/100\n",
      "242/242 [==============================] - 0s 726us/step - loss: 5.5124 - val_loss: 1165.5585\n",
      "Epoch 8/100\n",
      "242/242 [==============================] - 0s 710us/step - loss: 19.9616 - val_loss: 2646.9749\n",
      "Epoch 9/100\n",
      "242/242 [==============================] - 0s 672us/step - loss: 12.8133 - val_loss: 5780.9756\n",
      "Epoch 10/100\n",
      "242/242 [==============================] - 0s 714us/step - loss: 113.3383 - val_loss: 13751.4180\n",
      "Epoch 11/100\n",
      "242/242 [==============================] - 0s 693us/step - loss: 202.5718 - val_loss: 31633.9141\n",
      "121/121 [==============================] - 0s 375us/step - loss: 81.5957\n",
      "[CV] END learning_rate=0.006010328378268217, n_hidden=0, n_neurons=2; total time=   2.2s\n",
      "Epoch 1/100\n",
      "242/242 [==============================] - 0s 1ms/step - loss: 2.6526 - val_loss: 14.0701\n",
      "Epoch 2/100\n",
      "242/242 [==============================] - 0s 689us/step - loss: 0.5878 - val_loss: 16.8410\n",
      "Epoch 3/100\n",
      "242/242 [==============================] - 0s 693us/step - loss: 0.5581 - val_loss: 19.0635\n",
      "Epoch 4/100\n",
      "242/242 [==============================] - 0s 701us/step - loss: 0.5405 - val_loss: 19.7342\n",
      "Epoch 5/100\n",
      "242/242 [==============================] - 0s 693us/step - loss: 0.5304 - val_loss: 20.0593\n",
      "Epoch 6/100\n",
      "242/242 [==============================] - 0s 734us/step - loss: 0.5191 - val_loss: 20.2376\n",
      "Epoch 7/100\n",
      "242/242 [==============================] - 0s 685us/step - loss: 0.5017 - val_loss: 20.0296\n",
      "Epoch 8/100\n",
      "242/242 [==============================] - 0s 656us/step - loss: 0.5172 - val_loss: 20.3793\n",
      "Epoch 9/100\n",
      "242/242 [==============================] - 0s 722us/step - loss: 0.5052 - val_loss: 20.1103\n",
      "Epoch 10/100\n",
      "242/242 [==============================] - 0s 714us/step - loss: 0.4871 - val_loss: 18.4892\n",
      "Epoch 11/100\n",
      "242/242 [==============================] - 0s 680us/step - loss: 0.5093 - val_loss: 19.4013\n",
      "121/121 [==============================] - 0s 442us/step - loss: 0.9640\n",
      "[CV] END learning_rate=0.006010328378268217, n_hidden=0, n_neurons=2; total time=   2.1s\n",
      "Epoch 1/100\n",
      "242/242 [==============================] - 1s 2ms/step - loss: 3.7475 - val_loss: 13.7380\n",
      "Epoch 2/100\n",
      "242/242 [==============================] - 0s 726us/step - loss: 0.6583 - val_loss: 10.0594\n",
      "Epoch 3/100\n",
      "242/242 [==============================] - 0s 743us/step - loss: 0.5972 - val_loss: 41.2693\n",
      "Epoch 4/100\n",
      "242/242 [==============================] - 0s 730us/step - loss: 1.4270 - val_loss: 74.9048\n",
      "Epoch 5/100\n",
      "242/242 [==============================] - 0s 743us/step - loss: 0.5524 - val_loss: 205.5686\n",
      "Epoch 6/100\n",
      "242/242 [==============================] - 0s 722us/step - loss: 1.5429 - val_loss: 246.7374\n",
      "Epoch 7/100\n",
      "242/242 [==============================] - 0s 734us/step - loss: 1.7293 - val_loss: 388.8352\n",
      "Epoch 8/100\n",
      "242/242 [==============================] - 0s 697us/step - loss: 10.7464 - val_loss: 620.5344\n",
      "Epoch 9/100\n",
      "242/242 [==============================] - 0s 676us/step - loss: 4.7920 - val_loss: 919.7242\n",
      "Epoch 10/100\n",
      "242/242 [==============================] - 0s 664us/step - loss: 2.2121 - val_loss: 1082.5527\n",
      "Epoch 11/100\n",
      "242/242 [==============================] - 0s 660us/step - loss: 35.8403 - val_loss: 1471.0372\n",
      "Epoch 12/100\n",
      "242/242 [==============================] - 0s 689us/step - loss: 5.9639 - val_loss: 1957.3093\n",
      "121/121 [==============================] - 0s 367us/step - loss: 2.0491\n",
      "[CV] END learning_rate=0.006010328378268217, n_hidden=0, n_neurons=2; total time=   2.5s\n",
      "Epoch 1/100\n",
      "242/242 [==============================] - 0s 1ms/step - loss: 2.4113 - val_loss: 22.8634\n",
      "Epoch 2/100\n",
      "242/242 [==============================] - 0s 718us/step - loss: 0.7462 - val_loss: 36.5661\n",
      "Epoch 3/100\n",
      "242/242 [==============================] - 0s 718us/step - loss: 0.7579 - val_loss: 304.7440\n",
      "Epoch 4/100\n",
      "242/242 [==============================] - 0s 772us/step - loss: 0.8555 - val_loss: 71.4702\n",
      "Epoch 5/100\n",
      "242/242 [==============================] - 0s 763us/step - loss: 0.5979 - val_loss: 312.6021\n",
      "Epoch 6/100\n"
     ]
    },
    {
     "name": "stdout",
     "output_type": "stream",
     "text": [
      "242/242 [==============================] - 0s 772us/step - loss: 4.4233 - val_loss: 0.4035\n",
      "Epoch 7/100\n",
      "242/242 [==============================] - 0s 797us/step - loss: 0.4551 - val_loss: 0.3815\n",
      "Epoch 8/100\n",
      "242/242 [==============================] - 0s 759us/step - loss: 0.3791 - val_loss: 0.3614\n",
      "Epoch 9/100\n",
      "242/242 [==============================] - ETA: 0s - loss: 0.364 - 0s 751us/step - loss: 0.3656 - val_loss: 0.3613\n",
      "Epoch 10/100\n",
      "242/242 [==============================] - 0s 763us/step - loss: 0.3690 - val_loss: 0.3455\n",
      "Epoch 11/100\n",
      "242/242 [==============================] - 0s 805us/step - loss: 0.3489 - val_loss: 0.3469\n",
      "Epoch 12/100\n",
      "242/242 [==============================] - 0s 730us/step - loss: 0.3385 - val_loss: 0.3554\n",
      "Epoch 13/100\n",
      "242/242 [==============================] - 0s 751us/step - loss: 0.3636 - val_loss: 0.3456\n",
      "Epoch 14/100\n",
      "242/242 [==============================] - 0s 759us/step - loss: 0.3506 - val_loss: 0.3430\n",
      "Epoch 15/100\n",
      "242/242 [==============================] - 0s 751us/step - loss: 0.3496 - val_loss: 0.3427\n",
      "Epoch 16/100\n",
      "242/242 [==============================] - 0s 743us/step - loss: 0.3467 - val_loss: 0.3421\n",
      "Epoch 17/100\n",
      "242/242 [==============================] - 0s 734us/step - loss: 0.3559 - val_loss: 0.3402\n",
      "Epoch 18/100\n",
      "242/242 [==============================] - 0s 726us/step - loss: 0.3626 - val_loss: 0.3426\n",
      "Epoch 19/100\n",
      "242/242 [==============================] - 0s 763us/step - loss: 0.3748 - val_loss: 0.3416\n",
      "Epoch 20/100\n",
      "242/242 [==============================] - 0s 797us/step - loss: 0.3451 - val_loss: 0.3385\n",
      "Epoch 21/100\n",
      "242/242 [==============================] - 0s 776us/step - loss: 0.3391 - val_loss: 0.3428\n",
      "Epoch 22/100\n",
      "242/242 [==============================] - 0s 701us/step - loss: 0.3307 - val_loss: 0.3400\n",
      "Epoch 23/100\n",
      "242/242 [==============================] - 0s 813us/step - loss: 0.3463 - val_loss: 0.3584\n",
      "Epoch 24/100\n",
      "242/242 [==============================] - 0s 776us/step - loss: 0.3451 - val_loss: 0.3509\n",
      "Epoch 25/100\n",
      "242/242 [==============================] - 0s 797us/step - loss: 0.3460 - val_loss: 0.3590\n",
      "Epoch 26/100\n",
      "242/242 [==============================] - 0s 801us/step - loss: 0.3293 - val_loss: 0.3456\n",
      "Epoch 27/100\n",
      "242/242 [==============================] - 0s 739us/step - loss: 0.3516 - val_loss: 0.3546\n",
      "Epoch 28/100\n",
      "242/242 [==============================] - 0s 763us/step - loss: 0.3420 - val_loss: 0.3542\n",
      "Epoch 29/100\n",
      "242/242 [==============================] - 0s 722us/step - loss: 0.3363 - val_loss: 0.3522\n",
      "Epoch 30/100\n",
      "242/242 [==============================] - 0s 705us/step - loss: 0.3382 - val_loss: 0.3408\n",
      "121/121 [==============================] - 0s 383us/step - loss: 0.3580\n",
      "[CV] END learning_rate=0.008339092654580042, n_hidden=1, n_neurons=38; total time=   5.8s\n",
      "Epoch 1/100\n",
      "242/242 [==============================] - 0s 1ms/step - loss: 1.4728 - val_loss: 3.0949\n",
      "Epoch 2/100\n",
      "242/242 [==============================] - 0s 705us/step - loss: 0.5447 - val_loss: 0.4712\n",
      "Epoch 3/100\n",
      "242/242 [==============================] - 0s 759us/step - loss: 0.4555 - val_loss: 0.4231\n",
      "Epoch 4/100\n",
      "242/242 [==============================] - 0s 734us/step - loss: 0.4392 - val_loss: 0.4021\n",
      "Epoch 5/100\n",
      "242/242 [==============================] - 0s 751us/step - loss: 0.4306 - val_loss: 0.4323\n",
      "Epoch 6/100\n",
      "242/242 [==============================] - 0s 743us/step - loss: 0.4154 - val_loss: 0.6513\n",
      "Epoch 7/100\n",
      "242/242 [==============================] - 0s 755us/step - loss: 0.3944 - val_loss: 0.8508\n",
      "Epoch 8/100\n",
      "242/242 [==============================] - 0s 726us/step - loss: 0.3985 - val_loss: 1.0201\n",
      "Epoch 9/100\n",
      "242/242 [==============================] - 0s 755us/step - loss: 0.3915 - val_loss: 1.1757\n",
      "Epoch 10/100\n",
      "242/242 [==============================] - 0s 730us/step - loss: 0.3958 - val_loss: 0.8698\n",
      "Epoch 11/100\n",
      "242/242 [==============================] - 0s 780us/step - loss: 0.3928 - val_loss: 0.9377\n",
      "Epoch 12/100\n",
      "242/242 [==============================] - 0s 734us/step - loss: 0.3723 - val_loss: 1.0793\n",
      "Epoch 13/100\n",
      "242/242 [==============================] - 0s 710us/step - loss: 0.3766 - val_loss: 1.1923\n",
      "Epoch 14/100\n",
      "242/242 [==============================] - 0s 730us/step - loss: 0.3620 - val_loss: 1.1186\n",
      "121/121 [==============================] - 0s 400us/step - loss: 0.4037\n",
      "[CV] END learning_rate=0.008339092654580042, n_hidden=1, n_neurons=38; total time=   2.8s\n",
      "Epoch 1/100\n",
      "242/242 [==============================] - 0s 1ms/step - loss: 1.6459 - val_loss: 1.2874\n",
      "Epoch 2/100\n",
      "242/242 [==============================] - 0s 739us/step - loss: 0.5071 - val_loss: 0.7809\n",
      "Epoch 3/100\n",
      "242/242 [==============================] - 0s 714us/step - loss: 0.4427 - val_loss: 1.8555\n",
      "Epoch 4/100\n",
      "242/242 [==============================] - 0s 722us/step - loss: 0.5716 - val_loss: 18.7095\n",
      "Epoch 5/100\n",
      "242/242 [==============================] - 0s 714us/step - loss: 0.4271 - val_loss: 78.6924\n",
      "Epoch 6/100\n",
      "242/242 [==============================] - 0s 763us/step - loss: 0.6930 - val_loss: 0.4362\n",
      "Epoch 7/100\n",
      "242/242 [==============================] - 0s 801us/step - loss: 0.4296 - val_loss: 0.3913\n",
      "Epoch 8/100\n",
      "242/242 [==============================] - 0s 793us/step - loss: 0.4304 - val_loss: 0.4218\n",
      "Epoch 9/100\n",
      "242/242 [==============================] - 0s 755us/step - loss: 0.4042 - val_loss: 0.4237\n",
      "Epoch 10/100\n",
      "242/242 [==============================] - ETA: 0s - loss: 0.411 - 0s 751us/step - loss: 0.4108 - val_loss: 0.3656\n",
      "Epoch 11/100\n",
      "242/242 [==============================] - 0s 809us/step - loss: 0.3989 - val_loss: 0.4488\n",
      "Epoch 12/100\n",
      "242/242 [==============================] - 0s 759us/step - loss: 0.3794 - val_loss: 0.3706\n",
      "Epoch 13/100\n",
      "242/242 [==============================] - 0s 768us/step - loss: 0.3596 - val_loss: 0.3624\n",
      "Epoch 14/100\n",
      "242/242 [==============================] - ETA: 0s - loss: 0.366 - 0s 755us/step - loss: 0.3682 - val_loss: 0.4259\n",
      "Epoch 15/100\n",
      "242/242 [==============================] - 0s 693us/step - loss: 0.3914 - val_loss: 0.3565\n",
      "Epoch 16/100\n",
      "242/242 [==============================] - 0s 693us/step - loss: 0.3792 - val_loss: 0.4250\n",
      "Epoch 17/100\n",
      "242/242 [==============================] - 0s 714us/step - loss: 0.3600 - val_loss: 0.3505\n",
      "Epoch 18/100\n",
      "242/242 [==============================] - 0s 722us/step - loss: 0.3729 - val_loss: 0.3620\n",
      "Epoch 19/100\n",
      "242/242 [==============================] - 0s 705us/step - loss: 0.3816 - val_loss: 0.4285\n",
      "Epoch 20/100\n",
      "242/242 [==============================] - 0s 718us/step - loss: 0.3696 - val_loss: 0.3458\n",
      "Epoch 21/100\n",
      "242/242 [==============================] - 0s 701us/step - loss: 0.3692 - val_loss: 0.3817\n",
      "Epoch 22/100\n",
      "242/242 [==============================] - 0s 710us/step - loss: 0.3821 - val_loss: 0.3408\n",
      "Epoch 23/100\n",
      "242/242 [==============================] - 0s 705us/step - loss: 0.3566 - val_loss: 0.3550\n",
      "Epoch 24/100\n",
      "242/242 [==============================] - 0s 718us/step - loss: 0.3573 - val_loss: 0.4301\n",
      "Epoch 25/100\n",
      "242/242 [==============================] - 0s 701us/step - loss: 0.3504 - val_loss: 0.3363\n",
      "Epoch 26/100\n",
      "242/242 [==============================] - 0s 710us/step - loss: 0.3510 - val_loss: 0.3482\n",
      "Epoch 27/100\n",
      "242/242 [==============================] - 0s 718us/step - loss: 0.3702 - val_loss: 0.4181\n",
      "Epoch 28/100\n",
      "242/242 [==============================] - 0s 705us/step - loss: 0.3634 - val_loss: 0.3341\n",
      "Epoch 29/100\n",
      "242/242 [==============================] - 0s 734us/step - loss: 0.3789 - val_loss: 0.3680\n",
      "Epoch 30/100\n",
      "242/242 [==============================] - 0s 714us/step - loss: 0.3663 - val_loss: 0.3554\n",
      "Epoch 31/100\n",
      "242/242 [==============================] - 0s 705us/step - loss: 0.3431 - val_loss: 0.3432\n",
      "Epoch 32/100\n",
      "242/242 [==============================] - 0s 697us/step - loss: 0.3623 - val_loss: 0.4889\n",
      "Epoch 33/100\n",
      "242/242 [==============================] - 0s 714us/step - loss: 0.3507 - val_loss: 0.3439\n",
      "Epoch 34/100\n",
      "242/242 [==============================] - 0s 709us/step - loss: 0.3328 - val_loss: 0.4453\n",
      "Epoch 35/100\n",
      "242/242 [==============================] - 0s 730us/step - loss: 0.3462 - val_loss: 0.3286\n",
      "Epoch 36/100\n",
      "242/242 [==============================] - 0s 710us/step - loss: 0.3348 - val_loss: 0.3491\n",
      "Epoch 37/100\n"
     ]
    },
    {
     "name": "stdout",
     "output_type": "stream",
     "text": [
      "242/242 [==============================] - 0s 705us/step - loss: 0.3474 - val_loss: 0.3309\n",
      "Epoch 38/100\n",
      "242/242 [==============================] - 0s 697us/step - loss: 0.3429 - val_loss: 0.3275\n",
      "Epoch 39/100\n",
      "242/242 [==============================] - 0s 730us/step - loss: 0.3556 - val_loss: 0.3267\n",
      "Epoch 40/100\n",
      "242/242 [==============================] - 0s 714us/step - loss: 0.3467 - val_loss: 0.4576\n",
      "Epoch 41/100\n",
      "242/242 [==============================] - 0s 710us/step - loss: 0.3243 - val_loss: 0.3242\n",
      "Epoch 42/100\n",
      "242/242 [==============================] - 0s 705us/step - loss: 0.3269 - val_loss: 0.6091\n",
      "Epoch 43/100\n",
      "242/242 [==============================] - 0s 697us/step - loss: 0.3474 - val_loss: 0.3217\n",
      "Epoch 44/100\n",
      "242/242 [==============================] - 0s 693us/step - loss: 0.3475 - val_loss: 0.3504\n",
      "Epoch 45/100\n",
      "242/242 [==============================] - 0s 722us/step - loss: 0.3303 - val_loss: 0.3561\n",
      "Epoch 46/100\n",
      "242/242 [==============================] - 0s 705us/step - loss: 0.3266 - val_loss: 0.4243\n",
      "Epoch 47/100\n",
      "242/242 [==============================] - 0s 705us/step - loss: 0.3328 - val_loss: 0.3171\n",
      "Epoch 48/100\n",
      "242/242 [==============================] - 0s 718us/step - loss: 0.3515 - val_loss: 0.3261\n",
      "Epoch 49/100\n",
      "242/242 [==============================] - 0s 722us/step - loss: 0.3493 - val_loss: 0.4461\n",
      "Epoch 50/100\n",
      "242/242 [==============================] - 0s 701us/step - loss: 0.3332 - val_loss: 0.3319\n",
      "Epoch 51/100\n",
      "242/242 [==============================] - 0s 710us/step - loss: 0.3378 - val_loss: 0.5067\n",
      "Epoch 52/100\n",
      "242/242 [==============================] - 0s 701us/step - loss: 0.3257 - val_loss: 0.3640\n",
      "Epoch 53/100\n",
      "242/242 [==============================] - 0s 714us/step - loss: 0.3330 - val_loss: 0.3154\n",
      "Epoch 54/100\n",
      "242/242 [==============================] - 0s 697us/step - loss: 0.3281 - val_loss: 0.3790\n",
      "Epoch 55/100\n",
      "242/242 [==============================] - 0s 714us/step - loss: 0.3551 - val_loss: 0.3139\n",
      "Epoch 56/100\n",
      "242/242 [==============================] - 0s 705us/step - loss: 0.3368 - val_loss: 0.3709\n",
      "Epoch 57/100\n",
      "242/242 [==============================] - 0s 701us/step - loss: 0.3329 - val_loss: 0.3641\n",
      "Epoch 58/100\n",
      "242/242 [==============================] - 0s 705us/step - loss: 0.3352 - val_loss: 0.3207\n",
      "Epoch 59/100\n",
      "242/242 [==============================] - 0s 718us/step - loss: 0.3314 - val_loss: 0.4157\n",
      "Epoch 60/100\n",
      "242/242 [==============================] - 0s 701us/step - loss: 0.3362 - val_loss: 0.3098\n",
      "Epoch 61/100\n",
      "242/242 [==============================] - 0s 681us/step - loss: 0.3456 - val_loss: 0.3260\n",
      "Epoch 62/100\n",
      "242/242 [==============================] - 0s 697us/step - loss: 0.3271 - val_loss: 0.3305\n",
      "Epoch 63/100\n",
      "242/242 [==============================] - 0s 697us/step - loss: 0.3319 - val_loss: 0.3103\n",
      "Epoch 64/100\n",
      "242/242 [==============================] - 0s 714us/step - loss: 0.3382 - val_loss: 0.4051\n",
      "Epoch 65/100\n",
      "242/242 [==============================] - 0s 697us/step - loss: 0.3232 - val_loss: 0.3067\n",
      "Epoch 66/100\n",
      "242/242 [==============================] - 0s 701us/step - loss: 0.3200 - val_loss: 0.3350\n",
      "Epoch 67/100\n",
      "242/242 [==============================] - 0s 693us/step - loss: 0.3246 - val_loss: 0.3099\n",
      "Epoch 68/100\n",
      "242/242 [==============================] - 0s 718us/step - loss: 0.3361 - val_loss: 0.3082\n",
      "Epoch 69/100\n",
      "242/242 [==============================] - 0s 722us/step - loss: 0.3130 - val_loss: 0.3138\n",
      "Epoch 70/100\n",
      "242/242 [==============================] - 0s 710us/step - loss: 0.3129 - val_loss: 0.4052\n",
      "Epoch 71/100\n",
      "242/242 [==============================] - 0s 743us/step - loss: 0.3399 - val_loss: 0.3043\n",
      "Epoch 72/100\n",
      "242/242 [==============================] - 0s 685us/step - loss: 0.3037 - val_loss: 0.3432\n",
      "Epoch 73/100\n",
      "242/242 [==============================] - 0s 693us/step - loss: 0.3286 - val_loss: 0.3366\n",
      "Epoch 74/100\n",
      "242/242 [==============================] - 0s 705us/step - loss: 0.3238 - val_loss: 0.3071\n",
      "Epoch 75/100\n",
      "242/242 [==============================] - 0s 714us/step - loss: 0.3153 - val_loss: 0.4425\n",
      "Epoch 76/100\n",
      "242/242 [==============================] - 0s 718us/step - loss: 0.3308 - val_loss: 0.4489\n",
      "Epoch 77/100\n",
      "242/242 [==============================] - 0s 726us/step - loss: 0.3316 - val_loss: 0.3102\n",
      "Epoch 78/100\n",
      "242/242 [==============================] - 0s 730us/step - loss: 0.3255 - val_loss: 0.3665\n",
      "Epoch 79/100\n",
      "242/242 [==============================] - 0s 697us/step - loss: 0.3214 - val_loss: 0.3031\n",
      "Epoch 80/100\n",
      "242/242 [==============================] - 0s 714us/step - loss: 0.3139 - val_loss: 0.3678\n",
      "Epoch 81/100\n",
      "242/242 [==============================] - 0s 701us/step - loss: 0.3049 - val_loss: 0.3040\n",
      "Epoch 82/100\n",
      "242/242 [==============================] - 0s 726us/step - loss: 0.3108 - val_loss: 0.3673\n",
      "Epoch 83/100\n",
      "242/242 [==============================] - 0s 718us/step - loss: 0.3051 - val_loss: 0.3110\n",
      "Epoch 84/100\n",
      "242/242 [==============================] - 0s 705us/step - loss: 0.3248 - val_loss: 0.4228\n",
      "Epoch 85/100\n",
      "242/242 [==============================] - 0s 693us/step - loss: 0.3360 - val_loss: 0.3015\n",
      "Epoch 86/100\n",
      "242/242 [==============================] - 0s 676us/step - loss: 0.3070 - val_loss: 0.3384\n",
      "Epoch 87/100\n",
      "242/242 [==============================] - 0s 676us/step - loss: 0.3402 - val_loss: 0.3726\n",
      "Epoch 88/100\n",
      "242/242 [==============================] - 0s 714us/step - loss: 0.3017 - val_loss: 0.3027\n",
      "Epoch 89/100\n",
      "242/242 [==============================] - 0s 730us/step - loss: 0.3215 - val_loss: 0.4641\n",
      "Epoch 90/100\n",
      "242/242 [==============================] - 0s 705us/step - loss: 0.3085 - val_loss: 0.3008\n",
      "Epoch 91/100\n",
      "242/242 [==============================] - 0s 705us/step - loss: 0.3185 - val_loss: 0.3173\n",
      "Epoch 92/100\n",
      "242/242 [==============================] - 0s 685us/step - loss: 0.3118 - val_loss: 0.3010\n",
      "Epoch 93/100\n",
      "242/242 [==============================] - 0s 697us/step - loss: 0.3050 - val_loss: 0.3385\n",
      "Epoch 94/100\n",
      "242/242 [==============================] - 0s 730us/step - loss: 0.3192 - val_loss: 0.4416\n",
      "Epoch 95/100\n",
      "242/242 [==============================] - 0s 705us/step - loss: 0.3211 - val_loss: 0.3790\n",
      "Epoch 96/100\n",
      "242/242 [==============================] - 0s 701us/step - loss: 0.3031 - val_loss: 0.5682\n",
      "Epoch 97/100\n",
      "242/242 [==============================] - 0s 705us/step - loss: 0.3219 - val_loss: 0.3435\n",
      "Epoch 98/100\n",
      "242/242 [==============================] - 0s 697us/step - loss: 0.3203 - val_loss: 0.3789\n",
      "Epoch 99/100\n",
      "242/242 [==============================] - 0s 693us/step - loss: 0.3060 - val_loss: 0.4178\n",
      "Epoch 100/100\n",
      "242/242 [==============================] - 0s 722us/step - loss: 0.3004 - val_loss: 0.3502\n",
      "121/121 [==============================] - 0s 383us/step - loss: 0.3168\n",
      "[CV] END learning_rate=0.008339092654580042, n_hidden=1, n_neurons=38; total time=  17.7s\n",
      "Epoch 1/100\n",
      "242/242 [==============================] - 0s 1ms/step - loss: 4.6508 - val_loss: 7.0502\n",
      "Epoch 2/100\n",
      "242/242 [==============================] - 0s 743us/step - loss: 2.5504 - val_loss: 7.2037\n",
      "Epoch 3/100\n",
      "242/242 [==============================] - 0s 763us/step - loss: 1.6914 - val_loss: 5.5884\n",
      "Epoch 4/100\n",
      "242/242 [==============================] - 0s 735us/step - loss: 1.3626 - val_loss: 3.7640\n",
      "Epoch 5/100\n",
      "242/242 [==============================] - 0s 755us/step - loss: 1.1498 - val_loss: 2.5552\n",
      "Epoch 6/100\n",
      "242/242 [==============================] - 0s 763us/step - loss: 1.0632 - val_loss: 2.0914\n",
      "Epoch 7/100\n",
      "242/242 [==============================] - 0s 730us/step - loss: 1.0119 - val_loss: 1.6989\n",
      "Epoch 8/100\n",
      "242/242 [==============================] - 0s 751us/step - loss: 0.9387 - val_loss: 1.4173\n",
      "Epoch 9/100\n",
      "242/242 [==============================] - 0s 747us/step - loss: 0.8833 - val_loss: 1.2066\n",
      "Epoch 10/100\n",
      "242/242 [==============================] - 0s 726us/step - loss: 0.8319 - val_loss: 1.0479\n",
      "Epoch 11/100\n",
      "242/242 [==============================] - 0s 734us/step - loss: 0.7739 - val_loss: 0.9248\n",
      "Epoch 12/100\n",
      "242/242 [==============================] - 0s 734us/step - loss: 0.7316 - val_loss: 0.8264\n",
      "Epoch 13/100\n",
      "242/242 [==============================] - 0s 726us/step - loss: 0.7549 - val_loss: 0.7581\n",
      "Epoch 14/100\n"
     ]
    },
    {
     "name": "stdout",
     "output_type": "stream",
     "text": [
      "242/242 [==============================] - 0s 759us/step - loss: 0.7192 - val_loss: 0.7119\n",
      "Epoch 15/100\n",
      "242/242 [==============================] - 0s 772us/step - loss: 0.7140 - val_loss: 0.6743\n",
      "Epoch 16/100\n",
      "242/242 [==============================] - 0s 722us/step - loss: 0.6738 - val_loss: 0.6514\n",
      "Epoch 17/100\n",
      "242/242 [==============================] - 0s 726us/step - loss: 0.6862 - val_loss: 0.6371\n",
      "Epoch 18/100\n",
      "242/242 [==============================] - 0s 726us/step - loss: 0.6566 - val_loss: 0.6283\n",
      "Epoch 19/100\n",
      "242/242 [==============================] - 0s 734us/step - loss: 0.6387 - val_loss: 0.6229\n",
      "Epoch 20/100\n",
      "242/242 [==============================] - 0s 751us/step - loss: 0.6456 - val_loss: 0.6221\n",
      "Epoch 21/100\n",
      "242/242 [==============================] - 0s 743us/step - loss: 0.6197 - val_loss: 0.6180\n",
      "Epoch 22/100\n",
      "242/242 [==============================] - 0s 743us/step - loss: 0.6060 - val_loss: 0.6178\n",
      "Epoch 23/100\n",
      "242/242 [==============================] - ETA: 0s - loss: 0.620 - 0s 759us/step - loss: 0.6194 - val_loss: 0.6150\n",
      "Epoch 24/100\n",
      "242/242 [==============================] - 0s 759us/step - loss: 0.6007 - val_loss: 0.6175\n",
      "Epoch 25/100\n",
      "242/242 [==============================] - 0s 759us/step - loss: 0.6106 - val_loss: 0.6112\n",
      "Epoch 26/100\n",
      "242/242 [==============================] - 0s 751us/step - loss: 0.5789 - val_loss: 0.6049\n",
      "Epoch 27/100\n",
      "242/242 [==============================] - 0s 726us/step - loss: 0.5925 - val_loss: 0.6013\n",
      "Epoch 28/100\n",
      "242/242 [==============================] - 0s 730us/step - loss: 0.5956 - val_loss: 0.5932\n",
      "Epoch 29/100\n",
      "242/242 [==============================] - 0s 743us/step - loss: 0.5957 - val_loss: 0.5873\n",
      "Epoch 30/100\n",
      "242/242 [==============================] - 0s 743us/step - loss: 0.5703 - val_loss: 0.5833\n",
      "Epoch 31/100\n",
      "242/242 [==============================] - 0s 776us/step - loss: 0.5484 - val_loss: 0.5789\n",
      "Epoch 32/100\n",
      "242/242 [==============================] - 0s 751us/step - loss: 0.5451 - val_loss: 0.5713\n",
      "Epoch 33/100\n",
      "242/242 [==============================] - 0s 759us/step - loss: 0.5415 - val_loss: 0.5664\n",
      "Epoch 34/100\n",
      "242/242 [==============================] - 0s 739us/step - loss: 0.5481 - val_loss: 0.5614\n",
      "Epoch 35/100\n",
      "242/242 [==============================] - 0s 755us/step - loss: 0.5367 - val_loss: 0.5537\n",
      "Epoch 36/100\n",
      "242/242 [==============================] - 0s 747us/step - loss: 0.5277 - val_loss: 0.5536\n",
      "Epoch 37/100\n",
      "242/242 [==============================] - 0s 772us/step - loss: 0.5339 - val_loss: 0.5419\n",
      "Epoch 38/100\n",
      "242/242 [==============================] - 0s 734us/step - loss: 0.5052 - val_loss: 0.5418\n",
      "Epoch 39/100\n",
      "242/242 [==============================] - 0s 734us/step - loss: 0.5250 - val_loss: 0.5343\n",
      "Epoch 40/100\n",
      "242/242 [==============================] - 0s 734us/step - loss: 0.5021 - val_loss: 0.5282\n",
      "Epoch 41/100\n",
      "242/242 [==============================] - 0s 747us/step - loss: 0.5117 - val_loss: 0.5252\n",
      "Epoch 42/100\n",
      "242/242 [==============================] - 0s 751us/step - loss: 0.5180 - val_loss: 0.5198\n",
      "Epoch 43/100\n",
      "242/242 [==============================] - 0s 709us/step - loss: 0.5046 - val_loss: 0.5159\n",
      "Epoch 44/100\n",
      "242/242 [==============================] - 0s 780us/step - loss: 0.4940 - val_loss: 0.5109\n",
      "Epoch 45/100\n",
      "242/242 [==============================] - 0s 751us/step - loss: 0.4971 - val_loss: 0.5071\n",
      "Epoch 46/100\n",
      "242/242 [==============================] - 0s 726us/step - loss: 0.4914 - val_loss: 0.5049\n",
      "Epoch 47/100\n",
      "242/242 [==============================] - ETA: 0s - loss: 0.490 - 0s 759us/step - loss: 0.4904 - val_loss: 0.4988\n",
      "Epoch 48/100\n",
      "242/242 [==============================] - 0s 755us/step - loss: 0.4738 - val_loss: 0.4950\n",
      "Epoch 49/100\n",
      "242/242 [==============================] - ETA: 0s - loss: 0.483 - 0s 726us/step - loss: 0.4841 - val_loss: 0.4902\n",
      "Epoch 50/100\n",
      "242/242 [==============================] - 0s 722us/step - loss: 0.4785 - val_loss: 0.4869\n",
      "Epoch 51/100\n",
      "242/242 [==============================] - 0s 730us/step - loss: 0.4600 - val_loss: 0.4851\n",
      "Epoch 52/100\n",
      "242/242 [==============================] - 0s 743us/step - loss: 0.4914 - val_loss: 0.4779\n",
      "Epoch 53/100\n",
      "242/242 [==============================] - 0s 772us/step - loss: 0.4747 - val_loss: 0.4730\n",
      "Epoch 54/100\n",
      "242/242 [==============================] - 0s 726us/step - loss: 0.4734 - val_loss: 0.4699\n",
      "Epoch 55/100\n",
      "242/242 [==============================] - 0s 768us/step - loss: 0.4565 - val_loss: 0.4657\n",
      "Epoch 56/100\n",
      "242/242 [==============================] - 0s 747us/step - loss: 0.4904 - val_loss: 0.4605\n",
      "Epoch 57/100\n",
      "242/242 [==============================] - 0s 739us/step - loss: 0.4600 - val_loss: 0.4583\n",
      "Epoch 58/100\n",
      "242/242 [==============================] - 0s 730us/step - loss: 0.4669 - val_loss: 0.4528\n",
      "Epoch 59/100\n",
      "242/242 [==============================] - 0s 751us/step - loss: 0.4664 - val_loss: 0.4496\n",
      "Epoch 60/100\n",
      "242/242 [==============================] - 0s 755us/step - loss: 0.4454 - val_loss: 0.4473\n",
      "Epoch 61/100\n",
      "242/242 [==============================] - 0s 743us/step - loss: 0.4301 - val_loss: 0.4437\n",
      "Epoch 62/100\n",
      "242/242 [==============================] - 0s 734us/step - loss: 0.4441 - val_loss: 0.4411\n",
      "Epoch 63/100\n",
      "242/242 [==============================] - 0s 751us/step - loss: 0.4517 - val_loss: 0.4392\n",
      "Epoch 64/100\n",
      "242/242 [==============================] - 0s 739us/step - loss: 0.4342 - val_loss: 0.4341\n",
      "Epoch 65/100\n",
      "242/242 [==============================] - 0s 734us/step - loss: 0.4191 - val_loss: 0.4314\n",
      "Epoch 66/100\n",
      "242/242 [==============================] - 0s 734us/step - loss: 0.4601 - val_loss: 0.4299\n",
      "Epoch 67/100\n",
      "242/242 [==============================] - 0s 743us/step - loss: 0.4366 - val_loss: 0.4275\n",
      "Epoch 68/100\n",
      "242/242 [==============================] - 0s 735us/step - loss: 0.4366 - val_loss: 0.4236\n",
      "Epoch 69/100\n",
      "242/242 [==============================] - ETA: 0s - loss: 0.442 - 0s 755us/step - loss: 0.4414 - val_loss: 0.4217\n",
      "Epoch 70/100\n",
      "242/242 [==============================] - 0s 759us/step - loss: 0.4523 - val_loss: 0.4202\n",
      "Epoch 71/100\n",
      "242/242 [==============================] - 0s 726us/step - loss: 0.4277 - val_loss: 0.4168\n",
      "Epoch 72/100\n",
      "242/242 [==============================] - 0s 722us/step - loss: 0.4383 - val_loss: 0.4144\n",
      "Epoch 73/100\n",
      "242/242 [==============================] - 0s 718us/step - loss: 0.4355 - val_loss: 0.4125\n",
      "Epoch 74/100\n",
      "242/242 [==============================] - 0s 730us/step - loss: 0.4272 - val_loss: 0.4105\n",
      "Epoch 75/100\n",
      "242/242 [==============================] - 0s 726us/step - loss: 0.4272 - val_loss: 0.4085\n",
      "Epoch 76/100\n",
      "242/242 [==============================] - 0s 739us/step - loss: 0.4215 - val_loss: 0.4071\n",
      "Epoch 77/100\n",
      "242/242 [==============================] - 0s 726us/step - loss: 0.4092 - val_loss: 0.4048\n",
      "Epoch 78/100\n",
      "242/242 [==============================] - 0s 755us/step - loss: 0.4062 - val_loss: 0.4032\n",
      "Epoch 79/100\n",
      "242/242 [==============================] - 0s 734us/step - loss: 0.4078 - val_loss: 0.4017\n",
      "Epoch 80/100\n",
      "242/242 [==============================] - 0s 768us/step - loss: 0.4120 - val_loss: 0.4002\n",
      "Epoch 81/100\n",
      "242/242 [==============================] - 0s 743us/step - loss: 0.3889 - val_loss: 0.3986\n",
      "Epoch 82/100\n",
      "242/242 [==============================] - 0s 739us/step - loss: 0.3950 - val_loss: 0.3973\n",
      "Epoch 83/100\n",
      "242/242 [==============================] - 0s 722us/step - loss: 0.3843 - val_loss: 0.3959\n",
      "Epoch 84/100\n",
      "242/242 [==============================] - 0s 743us/step - loss: 0.4200 - val_loss: 0.3949\n",
      "Epoch 85/100\n",
      "242/242 [==============================] - 0s 755us/step - loss: 0.4112 - val_loss: 0.3931\n",
      "Epoch 86/100\n",
      "242/242 [==============================] - 0s 739us/step - loss: 0.3803 - val_loss: 0.3926\n",
      "Epoch 87/100\n",
      "242/242 [==============================] - 0s 747us/step - loss: 0.3995 - val_loss: 0.3914\n",
      "Epoch 88/100\n",
      "242/242 [==============================] - 0s 759us/step - loss: 0.4035 - val_loss: 0.3897\n",
      "Epoch 89/100\n",
      "242/242 [==============================] - 0s 776us/step - loss: 0.3939 - val_loss: 0.3888\n",
      "Epoch 90/100\n",
      "242/242 [==============================] - 0s 730us/step - loss: 0.3815 - val_loss: 0.3880\n",
      "Epoch 91/100\n",
      "242/242 [==============================] - 0s 759us/step - loss: 0.4073 - val_loss: 0.3866\n"
     ]
    },
    {
     "name": "stdout",
     "output_type": "stream",
     "text": [
      "Epoch 92/100\n",
      "242/242 [==============================] - 0s 759us/step - loss: 0.4051 - val_loss: 0.3861\n",
      "Epoch 93/100\n",
      "242/242 [==============================] - 0s 738us/step - loss: 0.4188 - val_loss: 0.3848\n",
      "Epoch 94/100\n",
      "242/242 [==============================] - 0s 739us/step - loss: 0.4010 - val_loss: 0.3839\n",
      "Epoch 95/100\n",
      "242/242 [==============================] - 0s 747us/step - loss: 0.3718 - val_loss: 0.3836\n",
      "Epoch 96/100\n",
      "242/242 [==============================] - 0s 730us/step - loss: 0.3869 - val_loss: 0.3840\n",
      "Epoch 97/100\n",
      "242/242 [==============================] - ETA: 0s - loss: 0.388 - 0s 722us/step - loss: 0.3889 - val_loss: 0.3822\n",
      "Epoch 98/100\n",
      "242/242 [==============================] - 0s 768us/step - loss: 0.3886 - val_loss: 0.3806\n",
      "Epoch 99/100\n",
      "242/242 [==============================] - 0s 755us/step - loss: 0.3868 - val_loss: 0.3822\n",
      "Epoch 100/100\n",
      "242/242 [==============================] - 0s 755us/step - loss: 0.3936 - val_loss: 0.3796\n",
      "121/121 [==============================] - 0s 408us/step - loss: 0.3993\n",
      "[CV] END learning_rate=0.00030107783636342726, n_hidden=3, n_neurons=21; total time=  18.5s\n",
      "Epoch 1/100\n",
      "242/242 [==============================] - 0s 1ms/step - loss: 6.3342 - val_loss: 2.9725\n",
      "Epoch 2/100\n",
      "242/242 [==============================] - 0s 788us/step - loss: 2.6097 - val_loss: 5.9015\n",
      "Epoch 3/100\n",
      "242/242 [==============================] - ETA: 0s - loss: 1.390 - 0s 801us/step - loss: 1.3728 - val_loss: 10.8119\n",
      "Epoch 4/100\n",
      "242/242 [==============================] - 0s 772us/step - loss: 1.1298 - val_loss: 11.3108\n",
      "Epoch 5/100\n",
      "242/242 [==============================] - 0s 788us/step - loss: 0.9871 - val_loss: 9.9424\n",
      "Epoch 6/100\n",
      "242/242 [==============================] - 0s 788us/step - loss: 0.9507 - val_loss: 8.2069\n",
      "Epoch 7/100\n",
      "242/242 [==============================] - 0s 784us/step - loss: 0.9126 - val_loss: 6.6004\n",
      "Epoch 8/100\n",
      "242/242 [==============================] - ETA: 0s - loss: 0.837 - 0s 776us/step - loss: 0.8405 - val_loss: 4.8507\n",
      "Epoch 9/100\n",
      "242/242 [==============================] - 0s 768us/step - loss: 0.8445 - val_loss: 3.5263\n",
      "Epoch 10/100\n",
      "242/242 [==============================] - 0s 784us/step - loss: 0.8077 - val_loss: 2.6353\n",
      "Epoch 11/100\n",
      "242/242 [==============================] - 0s 834us/step - loss: 0.7772 - val_loss: 1.9734\n",
      "Epoch 12/100\n",
      "242/242 [==============================] - 0s 776us/step - loss: 0.7525 - val_loss: 1.4481\n",
      "Epoch 13/100\n",
      "242/242 [==============================] - 0s 826us/step - loss: 0.7316 - val_loss: 1.1077\n",
      "Epoch 14/100\n",
      "242/242 [==============================] - 0s 788us/step - loss: 0.7188 - val_loss: 0.8819\n",
      "Epoch 15/100\n",
      "242/242 [==============================] - 0s 797us/step - loss: 0.7596 - val_loss: 0.7221\n",
      "Epoch 16/100\n",
      "242/242 [==============================] - 0s 763us/step - loss: 0.7084 - val_loss: 0.6649\n",
      "Epoch 17/100\n",
      "242/242 [==============================] - 0s 759us/step - loss: 0.7167 - val_loss: 0.6775\n",
      "Epoch 18/100\n",
      "242/242 [==============================] - 0s 784us/step - loss: 0.7042 - val_loss: 0.7491\n",
      "Epoch 19/100\n",
      "242/242 [==============================] - 0s 780us/step - loss: 0.6807 - val_loss: 0.8815\n",
      "Epoch 20/100\n",
      "242/242 [==============================] - 0s 776us/step - loss: 0.6637 - val_loss: 1.0685 ETA: 0s - loss: 0.663\n",
      "Epoch 21/100\n",
      "242/242 [==============================] - 0s 755us/step - loss: 0.6566 - val_loss: 1.3065\n",
      "Epoch 22/100\n",
      "242/242 [==============================] - 0s 755us/step - loss: 0.6570 - val_loss: 1.5428\n",
      "Epoch 23/100\n",
      "242/242 [==============================] - 0s 751us/step - loss: 0.6442 - val_loss: 1.8315\n",
      "Epoch 24/100\n",
      "242/242 [==============================] - 0s 784us/step - loss: 0.6155 - val_loss: 2.1427\n",
      "Epoch 25/100\n",
      "242/242 [==============================] - 0s 747us/step - loss: 0.5986 - val_loss: 2.5085\n",
      "Epoch 26/100\n",
      "242/242 [==============================] - 0s 759us/step - loss: 0.5954 - val_loss: 2.8640\n",
      "121/121 [==============================] - 0s 400us/step - loss: 0.6770\n",
      "[CV] END learning_rate=0.00030107783636342726, n_hidden=3, n_neurons=21; total time=   5.3s\n",
      "Epoch 1/100\n",
      "242/242 [==============================] - 1s 1ms/step - loss: 5.0000 - val_loss: 3.5308\n",
      "Epoch 2/100\n",
      "242/242 [==============================] - 0s 759us/step - loss: 2.9421 - val_loss: 3.0045\n",
      "Epoch 3/100\n",
      "242/242 [==============================] - 0s 730us/step - loss: 1.5277 - val_loss: 2.5464\n",
      "Epoch 4/100\n",
      "242/242 [==============================] - 0s 763us/step - loss: 1.0632 - val_loss: 1.8717\n",
      "Epoch 5/100\n",
      "242/242 [==============================] - 0s 730us/step - loss: 0.8311 - val_loss: 1.3067\n",
      "Epoch 6/100\n",
      "242/242 [==============================] - 0s 759us/step - loss: 0.7572 - val_loss: 0.9966\n",
      "Epoch 7/100\n",
      "242/242 [==============================] - 0s 768us/step - loss: 0.7190 - val_loss: 0.8331\n",
      "Epoch 8/100\n",
      "242/242 [==============================] - 0s 734us/step - loss: 0.7035 - val_loss: 0.7309\n",
      "Epoch 9/100\n",
      "242/242 [==============================] - 0s 755us/step - loss: 0.6890 - val_loss: 0.6922\n",
      "Epoch 10/100\n",
      "242/242 [==============================] - 0s 792us/step - loss: 0.6539 - val_loss: 0.6623\n",
      "Epoch 11/100\n",
      "242/242 [==============================] - 0s 784us/step - loss: 0.6642 - val_loss: 0.6391\n",
      "Epoch 12/100\n",
      "242/242 [==============================] - 0s 751us/step - loss: 0.6379 - val_loss: 0.6199\n",
      "Epoch 13/100\n",
      "242/242 [==============================] - 0s 822us/step - loss: 0.6053 - val_loss: 0.6066\n",
      "Epoch 14/100\n",
      "242/242 [==============================] - ETA: 0s - loss: 0.605 - 0s 772us/step - loss: 0.6072 - val_loss: 0.5952\n",
      "Epoch 15/100\n",
      "242/242 [==============================] - 0s 780us/step - loss: 0.6384 - val_loss: 0.5855\n",
      "Epoch 16/100\n",
      "242/242 [==============================] - 0s 797us/step - loss: 0.6207 - val_loss: 0.5761\n",
      "Epoch 17/100\n",
      "242/242 [==============================] - ETA: 0s - loss: 0.589 - 0s 755us/step - loss: 0.5912 - val_loss: 0.5671\n",
      "Epoch 18/100\n",
      "242/242 [==============================] - 0s 722us/step - loss: 0.6168 - val_loss: 0.5590\n",
      "Epoch 19/100\n",
      "242/242 [==============================] - 0s 734us/step - loss: 0.5850 - val_loss: 0.5515\n",
      "Epoch 20/100\n",
      "242/242 [==============================] - 0s 768us/step - loss: 0.5741 - val_loss: 0.5445\n",
      "Epoch 21/100\n",
      "242/242 [==============================] - 0s 743us/step - loss: 0.5603 - val_loss: 0.5376\n",
      "Epoch 22/100\n",
      "242/242 [==============================] - 0s 734us/step - loss: 0.5874 - val_loss: 0.5308\n",
      "Epoch 23/100\n",
      "242/242 [==============================] - 0s 709us/step - loss: 0.5510 - val_loss: 0.5241\n",
      "Epoch 24/100\n",
      "242/242 [==============================] - 0s 763us/step - loss: 0.5431 - val_loss: 0.5179\n",
      "Epoch 25/100\n",
      "242/242 [==============================] - 0s 784us/step - loss: 0.5475 - val_loss: 0.5114\n",
      "Epoch 26/100\n",
      "242/242 [==============================] - 0s 751us/step - loss: 0.5327 - val_loss: 0.5049\n",
      "Epoch 27/100\n",
      "242/242 [==============================] - 0s 730us/step - loss: 0.5406 - val_loss: 0.4989\n",
      "Epoch 28/100\n",
      "242/242 [==============================] - 0s 755us/step - loss: 0.5348 - val_loss: 0.4930\n",
      "Epoch 29/100\n",
      "242/242 [==============================] - 0s 734us/step - loss: 0.5169 - val_loss: 0.4880\n",
      "Epoch 30/100\n",
      "242/242 [==============================] - 0s 743us/step - loss: 0.5190 - val_loss: 0.4819\n",
      "Epoch 31/100\n",
      "242/242 [==============================] - 0s 747us/step - loss: 0.4954 - val_loss: 0.4768\n",
      "Epoch 32/100\n",
      "242/242 [==============================] - 0s 735us/step - loss: 0.5252 - val_loss: 0.4726\n",
      "Epoch 33/100\n",
      "242/242 [==============================] - 0s 734us/step - loss: 0.5053 - val_loss: 0.4680\n",
      "Epoch 34/100\n",
      "242/242 [==============================] - 0s 739us/step - loss: 0.4751 - val_loss: 0.4647\n",
      "Epoch 35/100\n",
      "242/242 [==============================] - 0s 739us/step - loss: 0.4812 - val_loss: 0.4611\n",
      "Epoch 36/100\n",
      "242/242 [==============================] - 0s 743us/step - loss: 0.4779 - val_loss: 0.4579\n",
      "Epoch 37/100\n",
      "242/242 [==============================] - 0s 768us/step - loss: 0.4804 - val_loss: 0.4552\n",
      "Epoch 38/100\n",
      "242/242 [==============================] - ETA: 0s - loss: 0.468 - ETA: 0s - loss: 0.472 - 0s 751us/step - loss: 0.4722 - val_loss: 0.4523\n",
      "Epoch 39/100\n",
      "242/242 [==============================] - 0s 751us/step - loss: 0.4810 - val_loss: 0.4503\n"
     ]
    },
    {
     "name": "stdout",
     "output_type": "stream",
     "text": [
      "Epoch 40/100\n",
      "242/242 [==============================] - 0s 763us/step - loss: 0.4618 - val_loss: 0.4481\n",
      "Epoch 41/100\n",
      "242/242 [==============================] - 0s 747us/step - loss: 0.4426 - val_loss: 0.4479\n",
      "Epoch 42/100\n",
      "242/242 [==============================] - 0s 739us/step - loss: 0.4495 - val_loss: 0.4464\n",
      "Epoch 43/100\n",
      "242/242 [==============================] - 0s 747us/step - loss: 0.4570 - val_loss: 0.4442\n",
      "Epoch 44/100\n",
      "242/242 [==============================] - 0s 726us/step - loss: 0.4589 - val_loss: 0.4442\n",
      "Epoch 45/100\n",
      "242/242 [==============================] - 0s 755us/step - loss: 0.4456 - val_loss: 0.4436\n",
      "Epoch 46/100\n",
      "242/242 [==============================] - 0s 759us/step - loss: 0.4375 - val_loss: 0.4428\n",
      "Epoch 47/100\n",
      "242/242 [==============================] - 0s 730us/step - loss: 0.4475 - val_loss: 0.4428\n",
      "Epoch 48/100\n",
      "242/242 [==============================] - 0s 726us/step - loss: 0.4362 - val_loss: 0.4431\n",
      "Epoch 49/100\n",
      "242/242 [==============================] - 0s 739us/step - loss: 0.4473 - val_loss: 0.4436\n",
      "Epoch 50/100\n",
      "242/242 [==============================] - 0s 755us/step - loss: 0.4252 - val_loss: 0.4441\n",
      "Epoch 51/100\n",
      "242/242 [==============================] - 0s 730us/step - loss: 0.4523 - val_loss: 0.4441\n",
      "Epoch 52/100\n",
      "242/242 [==============================] - 0s 722us/step - loss: 0.4198 - val_loss: 0.4456\n",
      "Epoch 53/100\n",
      "242/242 [==============================] - 0s 730us/step - loss: 0.4317 - val_loss: 0.4460\n",
      "Epoch 54/100\n",
      "242/242 [==============================] - 0s 747us/step - loss: 0.4264 - val_loss: 0.4467\n",
      "Epoch 55/100\n",
      "242/242 [==============================] - 0s 751us/step - loss: 0.4277 - val_loss: 0.4484\n",
      "Epoch 56/100\n",
      "242/242 [==============================] - 0s 759us/step - loss: 0.4249 - val_loss: 0.4490\n",
      "Epoch 57/100\n",
      "242/242 [==============================] - 0s 780us/step - loss: 0.4195 - val_loss: 0.4493\n",
      "121/121 [==============================] - 0s 408us/step - loss: 0.4256\n",
      "[CV] END learning_rate=0.00030107783636342726, n_hidden=3, n_neurons=21; total time=  10.9s\n",
      "Epoch 1/100\n",
      "242/242 [==============================] - 0s 1ms/step - loss: 2.1136 - val_loss: 38.2652\n",
      "Epoch 2/100\n",
      "242/242 [==============================] - 0s 701us/step - loss: 0.7686 - val_loss: 0.6706\n",
      "Epoch 3/100\n",
      "242/242 [==============================] - 0s 722us/step - loss: 0.5623 - val_loss: 0.5520\n",
      "Epoch 4/100\n",
      "242/242 [==============================] - 0s 672us/step - loss: 0.5151 - val_loss: 0.5090\n",
      "Epoch 5/100\n",
      "242/242 [==============================] - 0s 705us/step - loss: 0.4713 - val_loss: 0.4813\n",
      "Epoch 6/100\n",
      "242/242 [==============================] - 0s 714us/step - loss: 0.4438 - val_loss: 0.4761\n",
      "Epoch 7/100\n",
      "242/242 [==============================] - 0s 705us/step - loss: 0.4416 - val_loss: 0.4565\n",
      "Epoch 8/100\n",
      "242/242 [==============================] - 0s 714us/step - loss: 0.4308 - val_loss: 0.4533\n",
      "Epoch 9/100\n",
      "242/242 [==============================] - 0s 743us/step - loss: 0.4168 - val_loss: 0.4502\n",
      "Epoch 10/100\n",
      "242/242 [==============================] - 0s 743us/step - loss: 0.4202 - val_loss: 0.4389\n",
      "Epoch 11/100\n",
      "242/242 [==============================] - 0s 718us/step - loss: 0.4045 - val_loss: 0.4360\n",
      "Epoch 12/100\n",
      "242/242 [==============================] - 0s 705us/step - loss: 0.3855 - val_loss: 0.4313\n",
      "Epoch 13/100\n",
      "242/242 [==============================] - 0s 680us/step - loss: 0.4205 - val_loss: 0.4253\n",
      "Epoch 14/100\n",
      "242/242 [==============================] - 0s 710us/step - loss: 0.4080 - val_loss: 0.4228\n",
      "Epoch 15/100\n",
      "242/242 [==============================] - 0s 697us/step - loss: 0.4023 - val_loss: 0.4209\n",
      "Epoch 16/100\n",
      "242/242 [==============================] - 0s 705us/step - loss: 0.3953 - val_loss: 0.4192\n",
      "Epoch 17/100\n",
      "242/242 [==============================] - 0s 689us/step - loss: 0.4113 - val_loss: 0.4156\n",
      "Epoch 18/100\n",
      "242/242 [==============================] - 0s 701us/step - loss: 0.4109 - val_loss: 0.4137\n",
      "Epoch 19/100\n",
      "242/242 [==============================] - 0s 701us/step - loss: 0.3907 - val_loss: 0.4128\n",
      "Epoch 20/100\n",
      "242/242 [==============================] - 0s 763us/step - loss: 0.4010 - val_loss: 0.4104\n",
      "Epoch 21/100\n",
      "242/242 [==============================] - 0s 763us/step - loss: 0.3926 - val_loss: 0.4101\n",
      "Epoch 22/100\n",
      "242/242 [==============================] - 0s 780us/step - loss: 0.3816 - val_loss: 0.4070\n",
      "Epoch 23/100\n",
      "242/242 [==============================] - 0s 780us/step - loss: 0.3937 - val_loss: 0.4080\n",
      "Epoch 24/100\n",
      "242/242 [==============================] - 0s 780us/step - loss: 0.3830 - val_loss: 0.4037\n",
      "Epoch 25/100\n",
      "242/242 [==============================] - 0s 689us/step - loss: 0.3926 - val_loss: 0.4030\n",
      "Epoch 26/100\n",
      "242/242 [==============================] - 0s 734us/step - loss: 0.3775 - val_loss: 0.4000\n",
      "Epoch 27/100\n",
      "242/242 [==============================] - 0s 693us/step - loss: 0.3982 - val_loss: 0.3972\n",
      "Epoch 28/100\n",
      "242/242 [==============================] - 0s 693us/step - loss: 0.3891 - val_loss: 0.3974\n",
      "Epoch 29/100\n",
      "242/242 [==============================] - 0s 693us/step - loss: 0.3945 - val_loss: 0.3943\n",
      "Epoch 30/100\n",
      "242/242 [==============================] - 0s 705us/step - loss: 0.3872 - val_loss: 0.3948\n",
      "Epoch 31/100\n",
      "242/242 [==============================] - 0s 697us/step - loss: 0.3820 - val_loss: 0.3922\n",
      "Epoch 32/100\n",
      "242/242 [==============================] - 0s 710us/step - loss: 0.3771 - val_loss: 0.3917\n",
      "Epoch 33/100\n",
      "242/242 [==============================] - 0s 685us/step - loss: 0.3736 - val_loss: 0.3905\n",
      "Epoch 34/100\n",
      "242/242 [==============================] - 0s 747us/step - loss: 0.3757 - val_loss: 0.3893\n",
      "Epoch 35/100\n",
      "242/242 [==============================] - 0s 697us/step - loss: 0.3741 - val_loss: 0.3876\n",
      "Epoch 36/100\n",
      "242/242 [==============================] - 0s 722us/step - loss: 0.3700 - val_loss: 0.3916\n",
      "Epoch 37/100\n",
      "242/242 [==============================] - 0s 697us/step - loss: 0.3735 - val_loss: 0.3831\n",
      "Epoch 38/100\n",
      "242/242 [==============================] - 0s 730us/step - loss: 0.3728 - val_loss: 0.3875\n",
      "Epoch 39/100\n",
      "242/242 [==============================] - 0s 705us/step - loss: 0.3697 - val_loss: 0.3847\n",
      "Epoch 40/100\n",
      "242/242 [==============================] - 0s 710us/step - loss: 0.3557 - val_loss: 0.3846\n",
      "Epoch 41/100\n",
      "242/242 [==============================] - 0s 680us/step - loss: 0.3669 - val_loss: 0.3842\n",
      "Epoch 42/100\n",
      "242/242 [==============================] - 0s 672us/step - loss: 0.3727 - val_loss: 0.3814\n",
      "Epoch 43/100\n",
      "242/242 [==============================] - 0s 693us/step - loss: 0.3737 - val_loss: 0.3808\n",
      "Epoch 44/100\n",
      "242/242 [==============================] - 0s 722us/step - loss: 0.3707 - val_loss: 0.3834\n",
      "Epoch 45/100\n",
      "242/242 [==============================] - 0s 689us/step - loss: 0.3775 - val_loss: 0.3804\n",
      "Epoch 46/100\n",
      "242/242 [==============================] - 0s 718us/step - loss: 0.3581 - val_loss: 0.3824\n",
      "Epoch 47/100\n",
      "242/242 [==============================] - 0s 689us/step - loss: 0.3659 - val_loss: 0.3798\n",
      "Epoch 48/100\n",
      "242/242 [==============================] - 0s 701us/step - loss: 0.3524 - val_loss: 0.3800\n",
      "Epoch 49/100\n",
      "242/242 [==============================] - 0s 689us/step - loss: 0.3804 - val_loss: 0.3783\n",
      "Epoch 50/100\n",
      "242/242 [==============================] - 0s 710us/step - loss: 0.3626 - val_loss: 0.3797\n",
      "Epoch 51/100\n",
      "242/242 [==============================] - 0s 701us/step - loss: 0.3512 - val_loss: 0.3820\n",
      "Epoch 52/100\n",
      "242/242 [==============================] - 0s 714us/step - loss: 0.3767 - val_loss: 0.3765\n",
      "Epoch 53/100\n",
      "242/242 [==============================] - 0s 714us/step - loss: 0.3610 - val_loss: 0.3772\n",
      "Epoch 54/100\n",
      "242/242 [==============================] - 0s 714us/step - loss: 0.3674 - val_loss: 0.3766\n",
      "Epoch 55/100\n",
      "242/242 [==============================] - 0s 709us/step - loss: 0.3558 - val_loss: 0.3773\n",
      "Epoch 56/100\n",
      "242/242 [==============================] - 0s 709us/step - loss: 0.3912 - val_loss: 0.3754\n",
      "Epoch 57/100\n",
      "242/242 [==============================] - 0s 714us/step - loss: 0.3644 - val_loss: 0.3750\n",
      "Epoch 58/100\n",
      "242/242 [==============================] - 0s 697us/step - loss: 0.3700 - val_loss: 0.3750\n",
      "Epoch 59/100\n",
      "242/242 [==============================] - 0s 697us/step - loss: 0.3735 - val_loss: 0.3766\n",
      "Epoch 60/100\n"
     ]
    },
    {
     "name": "stdout",
     "output_type": "stream",
     "text": [
      "242/242 [==============================] - 0s 710us/step - loss: 0.3573 - val_loss: 0.3749\n",
      "Epoch 61/100\n",
      "242/242 [==============================] - 0s 710us/step - loss: 0.3500 - val_loss: 0.3764\n",
      "Epoch 62/100\n",
      "242/242 [==============================] - 0s 697us/step - loss: 0.3524 - val_loss: 0.3759\n",
      "Epoch 63/100\n",
      "242/242 [==============================] - 0s 722us/step - loss: 0.3693 - val_loss: 0.3736\n",
      "Epoch 64/100\n",
      "242/242 [==============================] - 0s 701us/step - loss: 0.3503 - val_loss: 0.3750\n",
      "Epoch 65/100\n",
      "242/242 [==============================] - 0s 714us/step - loss: 0.3388 - val_loss: 0.3727\n",
      "Epoch 66/100\n",
      "242/242 [==============================] - 0s 689us/step - loss: 0.3891 - val_loss: 0.3757\n",
      "Epoch 67/100\n",
      "242/242 [==============================] - 0s 718us/step - loss: 0.3613 - val_loss: 0.3733\n",
      "Epoch 68/100\n",
      "242/242 [==============================] - 0s 697us/step - loss: 0.3544 - val_loss: 0.3719\n",
      "Epoch 69/100\n",
      "242/242 [==============================] - 0s 714us/step - loss: 0.3611 - val_loss: 0.3714\n",
      "Epoch 70/100\n",
      "242/242 [==============================] - 0s 709us/step - loss: 0.3815 - val_loss: 0.3698\n",
      "Epoch 71/100\n",
      "242/242 [==============================] - 0s 710us/step - loss: 0.3611 - val_loss: 0.3689\n",
      "Epoch 72/100\n",
      "242/242 [==============================] - 0s 701us/step - loss: 0.3771 - val_loss: 0.3717\n",
      "Epoch 73/100\n",
      "242/242 [==============================] - 0s 705us/step - loss: 0.3701 - val_loss: 0.3699\n",
      "Epoch 74/100\n",
      "242/242 [==============================] - 0s 722us/step - loss: 0.3599 - val_loss: 0.3664\n",
      "Epoch 75/100\n",
      "242/242 [==============================] - 0s 701us/step - loss: 0.3567 - val_loss: 0.3663\n",
      "Epoch 76/100\n",
      "242/242 [==============================] - 0s 710us/step - loss: 0.3515 - val_loss: 0.3689\n",
      "Epoch 77/100\n",
      "242/242 [==============================] - 0s 668us/step - loss: 0.3475 - val_loss: 0.3670\n",
      "Epoch 78/100\n",
      "242/242 [==============================] - 0s 676us/step - loss: 0.3475 - val_loss: 0.3682\n",
      "Epoch 79/100\n",
      "242/242 [==============================] - 0s 722us/step - loss: 0.3498 - val_loss: 0.3647\n",
      "Epoch 80/100\n",
      "242/242 [==============================] - 0s 701us/step - loss: 0.3515 - val_loss: 0.3669\n",
      "Epoch 81/100\n",
      "242/242 [==============================] - 0s 714us/step - loss: 0.3373 - val_loss: 0.3654\n",
      "Epoch 82/100\n",
      "242/242 [==============================] - 0s 697us/step - loss: 0.3411 - val_loss: 0.3639\n",
      "Epoch 83/100\n",
      "242/242 [==============================] - 0s 730us/step - loss: 0.3316 - val_loss: 0.3644\n",
      "Epoch 84/100\n",
      "242/242 [==============================] - 0s 747us/step - loss: 0.3642 - val_loss: 0.3632\n",
      "Epoch 85/100\n",
      "242/242 [==============================] - 0s 730us/step - loss: 0.3553 - val_loss: 0.3619\n",
      "Epoch 86/100\n",
      "242/242 [==============================] - 0s 681us/step - loss: 0.3372 - val_loss: 0.3615\n",
      "Epoch 87/100\n",
      "242/242 [==============================] - 0s 697us/step - loss: 0.3409 - val_loss: 0.3592\n",
      "Epoch 88/100\n",
      "242/242 [==============================] - 0s 722us/step - loss: 0.3502 - val_loss: 0.3633\n",
      "Epoch 89/100\n",
      "242/242 [==============================] - 0s 685us/step - loss: 0.3472 - val_loss: 0.3581\n",
      "Epoch 90/100\n",
      "242/242 [==============================] - 0s 701us/step - loss: 0.3351 - val_loss: 0.3597\n",
      "Epoch 91/100\n",
      "242/242 [==============================] - 0s 701us/step - loss: 0.3602 - val_loss: 0.3582\n",
      "Epoch 92/100\n",
      "242/242 [==============================] - 0s 689us/step - loss: 0.3612 - val_loss: 0.3575\n",
      "Epoch 93/100\n",
      "242/242 [==============================] - 0s 726us/step - loss: 0.3713 - val_loss: 0.3572\n",
      "Epoch 94/100\n",
      "242/242 [==============================] - 0s 705us/step - loss: 0.3591 - val_loss: 0.3582\n",
      "Epoch 95/100\n",
      "242/242 [==============================] - 0s 726us/step - loss: 0.3306 - val_loss: 0.3579\n",
      "Epoch 96/100\n",
      "242/242 [==============================] - 0s 701us/step - loss: 0.3427 - val_loss: 0.3626\n",
      "Epoch 97/100\n",
      "242/242 [==============================] - 0s 705us/step - loss: 0.3468 - val_loss: 0.3564\n",
      "Epoch 98/100\n",
      "242/242 [==============================] - 0s 705us/step - loss: 0.3474 - val_loss: 0.3560\n",
      "Epoch 99/100\n",
      "242/242 [==============================] - 0s 701us/step - loss: 0.3440 - val_loss: 0.3618\n",
      "Epoch 100/100\n",
      "242/242 [==============================] - 0s 693us/step - loss: 0.3492 - val_loss: 0.3552\n",
      "121/121 [==============================] - 0s 383us/step - loss: 0.3645\n",
      "[CV] END learning_rate=0.005153286333701512, n_hidden=1, n_neurons=22; total time=  17.6s\n",
      "Epoch 1/100\n",
      "242/242 [==============================] - 0s 1ms/step - loss: 2.2710 - val_loss: 0.6451\n",
      "Epoch 2/100\n",
      "242/242 [==============================] - 0s 714us/step - loss: 0.6091 - val_loss: 0.8942\n",
      "Epoch 3/100\n",
      "242/242 [==============================] - 0s 697us/step - loss: 0.5103 - val_loss: 1.2421\n",
      "Epoch 4/100\n",
      "242/242 [==============================] - 0s 705us/step - loss: 0.4883 - val_loss: 1.2691\n",
      "Epoch 5/100\n",
      "242/242 [==============================] - 0s 689us/step - loss: 0.4682 - val_loss: 0.9915\n",
      "Epoch 6/100\n",
      "242/242 [==============================] - 0s 693us/step - loss: 0.4420 - val_loss: 0.6535\n",
      "Epoch 7/100\n",
      "242/242 [==============================] - 0s 722us/step - loss: 0.4253 - val_loss: 0.5216\n",
      "Epoch 8/100\n",
      "242/242 [==============================] - 0s 697us/step - loss: 0.4264 - val_loss: 0.4130\n",
      "Epoch 9/100\n",
      "242/242 [==============================] - 0s 718us/step - loss: 0.4122 - val_loss: 0.3818\n",
      "Epoch 10/100\n",
      "242/242 [==============================] - 0s 718us/step - loss: 0.4108 - val_loss: 0.4044\n",
      "Epoch 11/100\n",
      "242/242 [==============================] - 0s 705us/step - loss: 0.4073 - val_loss: 0.4355\n",
      "Epoch 12/100\n",
      "242/242 [==============================] - 0s 710us/step - loss: 0.3881 - val_loss: 0.4276\n",
      "Epoch 13/100\n",
      "242/242 [==============================] - 0s 709us/step - loss: 0.3901 - val_loss: 0.4761\n",
      "Epoch 14/100\n",
      "242/242 [==============================] - 0s 718us/step - loss: 0.3783 - val_loss: 0.5445\n",
      "Epoch 15/100\n",
      "242/242 [==============================] - 0s 697us/step - loss: 0.4093 - val_loss: 0.5613\n",
      "Epoch 16/100\n",
      "242/242 [==============================] - 0s 697us/step - loss: 0.3892 - val_loss: 0.6763\n",
      "Epoch 17/100\n",
      "242/242 [==============================] - 0s 701us/step - loss: 0.3903 - val_loss: 0.6692\n",
      "Epoch 18/100\n",
      "242/242 [==============================] - 0s 697us/step - loss: 0.3994 - val_loss: 0.7573\n",
      "Epoch 19/100\n",
      "242/242 [==============================] - 0s 714us/step - loss: 0.3808 - val_loss: 0.6834\n",
      "121/121 [==============================] - 0s 392us/step - loss: 0.3963\n",
      "[CV] END learning_rate=0.005153286333701512, n_hidden=1, n_neurons=22; total time=   3.5s\n",
      "Epoch 1/100\n",
      "242/242 [==============================] - 0s 1ms/step - loss: 2.0896 - val_loss: 71.0120\n",
      "Epoch 2/100\n",
      "242/242 [==============================] - 0s 722us/step - loss: 0.8697 - val_loss: 42.2913\n",
      "Epoch 3/100\n",
      "242/242 [==============================] - 0s 710us/step - loss: 0.7858 - val_loss: 1.3112\n",
      "Epoch 4/100\n",
      "242/242 [==============================] - 0s 722us/step - loss: 0.5407 - val_loss: 0.5968\n",
      "Epoch 5/100\n",
      "242/242 [==============================] - 0s 701us/step - loss: 0.4735 - val_loss: 0.4855\n",
      "Epoch 6/100\n",
      "242/242 [==============================] - 0s 685us/step - loss: 0.4410 - val_loss: 0.4448\n",
      "Epoch 7/100\n",
      "242/242 [==============================] - 0s 689us/step - loss: 0.4404 - val_loss: 0.4217\n",
      "Epoch 8/100\n",
      "242/242 [==============================] - 0s 685us/step - loss: 0.4545 - val_loss: 0.4094\n",
      "Epoch 9/100\n",
      "242/242 [==============================] - 0s 701us/step - loss: 0.4325 - val_loss: 0.4025\n",
      "Epoch 10/100\n",
      "242/242 [==============================] - 0s 685us/step - loss: 0.4273 - val_loss: 0.3958\n",
      "Epoch 11/100\n",
      "242/242 [==============================] - 0s 710us/step - loss: 0.4366 - val_loss: 0.3918\n",
      "Epoch 12/100\n",
      "242/242 [==============================] - 0s 701us/step - loss: 0.4123 - val_loss: 0.3892\n",
      "Epoch 13/100\n",
      "242/242 [==============================] - 0s 676us/step - loss: 0.3925 - val_loss: 0.3915\n",
      "Epoch 14/100\n",
      "242/242 [==============================] - 0s 701us/step - loss: 0.3992 - val_loss: 0.3996\n",
      "Epoch 15/100\n",
      "242/242 [==============================] - 0s 701us/step - loss: 0.4301 - val_loss: 0.4076\n",
      "Epoch 16/100\n",
      "242/242 [==============================] - 0s 714us/step - loss: 0.4131 - val_loss: 0.4218\n"
     ]
    },
    {
     "name": "stdout",
     "output_type": "stream",
     "text": [
      "Epoch 17/100\n",
      "242/242 [==============================] - 0s 697us/step - loss: 0.3954 - val_loss: 0.4317\n",
      "Epoch 18/100\n",
      "242/242 [==============================] - 0s 693us/step - loss: 0.4112 - val_loss: 0.4354\n",
      "Epoch 19/100\n",
      "242/242 [==============================] - 0s 714us/step - loss: 0.4170 - val_loss: 0.4429\n",
      "Epoch 20/100\n",
      "242/242 [==============================] - 0s 722us/step - loss: 0.4070 - val_loss: 0.4453\n",
      "Epoch 21/100\n",
      "242/242 [==============================] - 0s 734us/step - loss: 0.3989 - val_loss: 0.4460\n",
      "Epoch 22/100\n",
      "242/242 [==============================] - 0s 693us/step - loss: 0.4140 - val_loss: 0.4415\n",
      "121/121 [==============================] - 0s 383us/step - loss: 0.3947\n",
      "[CV] END learning_rate=0.005153286333701512, n_hidden=1, n_neurons=22; total time=   4.1s\n",
      "Epoch 1/100\n",
      "242/242 [==============================] - 0s 963us/step - loss: 8.2504 - val_loss: 43.0907\n",
      "Epoch 2/100\n",
      "242/242 [==============================] - 0s 656us/step - loss: 5.4519 - val_loss: 27.4372\n",
      "Epoch 3/100\n",
      "242/242 [==============================] - 0s 676us/step - loss: 4.2168 - val_loss: 17.4473\n",
      "Epoch 4/100\n",
      "242/242 [==============================] - 0s 722us/step - loss: 3.2806 - val_loss: 11.0914\n",
      "Epoch 5/100\n",
      "242/242 [==============================] - 0s 668us/step - loss: 2.3482 - val_loss: 7.0664\n",
      "Epoch 6/100\n",
      "242/242 [==============================] - 0s 656us/step - loss: 1.9986 - val_loss: 4.5088\n",
      "Epoch 7/100\n",
      "242/242 [==============================] - 0s 689us/step - loss: 1.6719 - val_loss: 2.9277\n",
      "Epoch 8/100\n",
      "242/242 [==============================] - 0s 680us/step - loss: 1.3693 - val_loss: 1.9631\n",
      "Epoch 9/100\n",
      "242/242 [==============================] - 0s 664us/step - loss: 1.1748 - val_loss: 1.3974\n",
      "Epoch 10/100\n",
      "242/242 [==============================] - 0s 664us/step - loss: 1.0381 - val_loss: 1.0599\n",
      "Epoch 11/100\n",
      "242/242 [==============================] - 0s 672us/step - loss: 0.9239 - val_loss: 0.8770\n",
      "Epoch 12/100\n",
      "242/242 [==============================] - 0s 660us/step - loss: 0.8351 - val_loss: 0.7898\n",
      "Epoch 13/100\n",
      "242/242 [==============================] - 0s 680us/step - loss: 0.8418 - val_loss: 0.7557\n",
      "Epoch 14/100\n",
      "242/242 [==============================] - 0s 656us/step - loss: 0.7796 - val_loss: 0.7567\n",
      "Epoch 15/100\n",
      "242/242 [==============================] - 0s 660us/step - loss: 0.7733 - val_loss: 0.7696\n",
      "Epoch 16/100\n",
      "242/242 [==============================] - 0s 689us/step - loss: 0.7238 - val_loss: 0.7947\n",
      "Epoch 17/100\n",
      "242/242 [==============================] - 0s 664us/step - loss: 0.7449 - val_loss: 0.8231\n",
      "Epoch 18/100\n",
      "242/242 [==============================] - 0s 668us/step - loss: 0.7233 - val_loss: 0.8540\n",
      "Epoch 19/100\n",
      "242/242 [==============================] - 0s 651us/step - loss: 0.6904 - val_loss: 0.8834\n",
      "Epoch 20/100\n",
      "242/242 [==============================] - 0s 660us/step - loss: 0.6946 - val_loss: 0.9089\n",
      "Epoch 21/100\n",
      "242/242 [==============================] - 0s 660us/step - loss: 0.6678 - val_loss: 0.9189\n",
      "Epoch 22/100\n",
      "242/242 [==============================] - 0s 689us/step - loss: 0.6622 - val_loss: 0.9382\n",
      "Epoch 23/100\n",
      "242/242 [==============================] - 0s 689us/step - loss: 0.6785 - val_loss: 0.9536\n",
      "121/121 [==============================] - 0s 383us/step - loss: 0.6673\n",
      "[CV] END learning_rate=0.0003099230412972121, n_hidden=0, n_neurons=49; total time=   4.0s\n",
      "Epoch 1/100\n",
      "242/242 [==============================] - 0s 1ms/step - loss: 8.2416 - val_loss: 25.5463\n",
      "Epoch 2/100\n",
      "242/242 [==============================] - 0s 660us/step - loss: 6.2565 - val_loss: 23.8232\n",
      "Epoch 3/100\n",
      "242/242 [==============================] - 0s 697us/step - loss: 4.5922 - val_loss: 22.6165\n",
      "Epoch 4/100\n",
      "242/242 [==============================] - 0s 672us/step - loss: 3.4697 - val_loss: 21.7670\n",
      "Epoch 5/100\n",
      "242/242 [==============================] - 0s 664us/step - loss: 2.7249 - val_loss: 21.1673\n",
      "Epoch 6/100\n",
      "242/242 [==============================] - 0s 664us/step - loss: 2.1906 - val_loss: 20.7451\n",
      "Epoch 7/100\n",
      "242/242 [==============================] - 0s 660us/step - loss: 1.8076 - val_loss: 20.4552\n",
      "Epoch 8/100\n",
      "242/242 [==============================] - 0s 656us/step - loss: 1.5361 - val_loss: 20.2628\n",
      "Epoch 9/100\n",
      "242/242 [==============================] - 0s 689us/step - loss: 1.3128 - val_loss: 20.1364\n",
      "Epoch 10/100\n",
      "242/242 [==============================] - 0s 693us/step - loss: 1.1191 - val_loss: 20.0567\n",
      "Epoch 11/100\n",
      "242/242 [==============================] - 0s 668us/step - loss: 0.9981 - val_loss: 20.0180\n",
      "Epoch 12/100\n",
      "242/242 [==============================] - 0s 668us/step - loss: 0.9184 - val_loss: 20.0099\n",
      "Epoch 13/100\n",
      "242/242 [==============================] - 0s 676us/step - loss: 0.8320 - val_loss: 20.0241\n",
      "Epoch 14/100\n",
      "242/242 [==============================] - 0s 660us/step - loss: 0.7501 - val_loss: 20.0459\n",
      "Epoch 15/100\n",
      "242/242 [==============================] - 0s 706us/step - loss: 0.7671 - val_loss: 20.0826\n",
      "Epoch 16/100\n",
      "242/242 [==============================] - 0s 685us/step - loss: 0.6917 - val_loss: 20.1289\n",
      "Epoch 17/100\n",
      "242/242 [==============================] - 0s 676us/step - loss: 0.6745 - val_loss: 20.1804\n",
      "Epoch 18/100\n",
      "242/242 [==============================] - 0s 668us/step - loss: 0.6572 - val_loss: 20.2376\n",
      "Epoch 19/100\n",
      "242/242 [==============================] - 0s 656us/step - loss: 0.6467 - val_loss: 20.3030\n",
      "Epoch 20/100\n",
      "242/242 [==============================] - 0s 664us/step - loss: 0.6150 - val_loss: 20.3653\n",
      "Epoch 21/100\n",
      "242/242 [==============================] - 0s 664us/step - loss: 0.6367 - val_loss: 20.4378\n",
      "Epoch 22/100\n",
      "242/242 [==============================] - 0s 697us/step - loss: 0.6039 - val_loss: 20.5061\n",
      "121/121 [==============================] - 0s 375us/step - loss: 1.0973\n",
      "[CV] END learning_rate=0.0003099230412972121, n_hidden=0, n_neurons=49; total time=   3.9s\n",
      "Epoch 1/100\n",
      "242/242 [==============================] - 1s 2ms/step - loss: 6.7231 - val_loss: 7.6683\n",
      "Epoch 2/100\n",
      "242/242 [==============================] - 0s 693us/step - loss: 4.8260 - val_loss: 4.9412\n",
      "Epoch 3/100\n",
      "242/242 [==============================] - 0s 685us/step - loss: 3.4818 - val_loss: 3.3299\n",
      "Epoch 4/100\n",
      "242/242 [==============================] - 0s 656us/step - loss: 2.7802 - val_loss: 2.3535\n",
      "Epoch 5/100\n",
      "242/242 [==============================] - 0s 660us/step - loss: 2.1777 - val_loss: 1.7864\n",
      "Epoch 6/100\n",
      "242/242 [==============================] - 0s 676us/step - loss: 1.7499 - val_loss: 1.4390\n",
      "Epoch 7/100\n",
      "242/242 [==============================] - 0s 660us/step - loss: 1.4061 - val_loss: 1.2303\n",
      "Epoch 8/100\n",
      "242/242 [==============================] - 0s 668us/step - loss: 1.2991 - val_loss: 1.1115\n",
      "Epoch 9/100\n",
      "242/242 [==============================] - 0s 705us/step - loss: 1.1093 - val_loss: 1.0396\n",
      "Epoch 10/100\n",
      "242/242 [==============================] - 0s 705us/step - loss: 0.9825 - val_loss: 0.9896\n",
      "Epoch 11/100\n",
      "242/242 [==============================] - 0s 656us/step - loss: 0.9155 - val_loss: 0.9739\n",
      "Epoch 12/100\n",
      "242/242 [==============================] - 0s 651us/step - loss: 0.8496 - val_loss: 0.9570\n",
      "Epoch 13/100\n",
      "242/242 [==============================] - 0s 656us/step - loss: 0.7428 - val_loss: 0.9426\n",
      "Epoch 14/100\n",
      "242/242 [==============================] - 0s 656us/step - loss: 0.7397 - val_loss: 0.9414\n",
      "Epoch 15/100\n",
      "242/242 [==============================] - 0s 710us/step - loss: 0.7434 - val_loss: 0.9351\n",
      "Epoch 16/100\n",
      "242/242 [==============================] - 0s 705us/step - loss: 0.7074 - val_loss: 0.9457\n",
      "Epoch 17/100\n",
      "242/242 [==============================] - 0s 656us/step - loss: 0.6917 - val_loss: 0.9437\n",
      "Epoch 18/100\n",
      "242/242 [==============================] - 0s 680us/step - loss: 0.6979 - val_loss: 0.9404\n",
      "Epoch 19/100\n",
      "242/242 [==============================] - 0s 660us/step - loss: 0.6856 - val_loss: 0.9554\n",
      "Epoch 20/100\n",
      "242/242 [==============================] - 0s 651us/step - loss: 0.6577 - val_loss: 0.9559\n",
      "Epoch 21/100\n",
      "242/242 [==============================] - 0s 681us/step - loss: 0.6467 - val_loss: 0.9558\n",
      "Epoch 22/100\n",
      "242/242 [==============================] - 0s 676us/step - loss: 0.6808 - val_loss: 0.9576\n",
      "Epoch 23/100\n",
      "242/242 [==============================] - 0s 655us/step - loss: 0.6454 - val_loss: 0.9476\n",
      "Epoch 24/100\n"
     ]
    },
    {
     "name": "stdout",
     "output_type": "stream",
     "text": [
      "242/242 [==============================] - 0s 672us/step - loss: 0.6332 - val_loss: 0.9447\n",
      "Epoch 25/100\n",
      "242/242 [==============================] - 0s 656us/step - loss: 0.6360 - val_loss: 0.9405\n",
      "121/121 [==============================] - 0s 367us/step - loss: 0.6455\n",
      "[CV] END learning_rate=0.0003099230412972121, n_hidden=0, n_neurons=49; total time=   4.5s\n",
      "Epoch 1/100\n",
      "242/242 [==============================] - 0s 1ms/step - loss: 2.3082 - val_loss: 19.2760\n",
      "Epoch 2/100\n",
      "242/242 [==============================] - 0s 718us/step - loss: 0.7060 - val_loss: 4.6055\n",
      "Epoch 3/100\n",
      "242/242 [==============================] - 0s 739us/step - loss: 0.5848 - val_loss: 0.7004\n",
      "Epoch 4/100\n",
      "242/242 [==============================] - 0s 718us/step - loss: 0.5041 - val_loss: 0.5034\n",
      "Epoch 5/100\n",
      "242/242 [==============================] - 0s 726us/step - loss: 0.4466 - val_loss: 0.4495\n",
      "Epoch 6/100\n",
      "242/242 [==============================] - 0s 780us/step - loss: 0.4172 - val_loss: 0.4262\n",
      "Epoch 7/100\n",
      "242/242 [==============================] - 0s 734us/step - loss: 0.4067 - val_loss: 0.4112\n",
      "Epoch 8/100\n",
      "242/242 [==============================] - 0s 730us/step - loss: 0.3991 - val_loss: 0.4155\n",
      "Epoch 9/100\n",
      "242/242 [==============================] - 0s 747us/step - loss: 0.3828 - val_loss: 0.4120\n",
      "Epoch 10/100\n",
      "242/242 [==============================] - 0s 722us/step - loss: 0.3832 - val_loss: 0.4010\n",
      "Epoch 11/100\n",
      "242/242 [==============================] - 0s 734us/step - loss: 0.3696 - val_loss: 0.4074\n",
      "Epoch 12/100\n",
      "242/242 [==============================] - 0s 739us/step - loss: 0.3527 - val_loss: 0.3889\n",
      "Epoch 13/100\n",
      "242/242 [==============================] - 0s 743us/step - loss: 0.3835 - val_loss: 0.3859\n",
      "Epoch 14/100\n",
      "242/242 [==============================] - 0s 718us/step - loss: 0.3673 - val_loss: 0.4045\n",
      "Epoch 15/100\n",
      "242/242 [==============================] - 0s 722us/step - loss: 0.3625 - val_loss: 0.3846\n",
      "Epoch 16/100\n",
      "242/242 [==============================] - 0s 743us/step - loss: 0.3631 - val_loss: 0.3960\n",
      "Epoch 17/100\n",
      "242/242 [==============================] - 0s 763us/step - loss: 0.3670 - val_loss: 0.4089\n",
      "Epoch 18/100\n",
      "242/242 [==============================] - 0s 747us/step - loss: 0.3748 - val_loss: 0.3869\n",
      "Epoch 19/100\n",
      "242/242 [==============================] - 0s 726us/step - loss: 0.3501 - val_loss: 0.3831\n",
      "Epoch 20/100\n",
      "242/242 [==============================] - 0s 734us/step - loss: 0.3587 - val_loss: 0.3809\n",
      "Epoch 21/100\n",
      "242/242 [==============================] - 0s 730us/step - loss: 0.3540 - val_loss: 0.3896\n",
      "Epoch 22/100\n",
      "242/242 [==============================] - 0s 759us/step - loss: 0.3430 - val_loss: 0.3832\n",
      "Epoch 23/100\n",
      "242/242 [==============================] - 0s 755us/step - loss: 0.3521 - val_loss: 0.4091 ETA: 0s - loss: 0.352\n",
      "Epoch 24/100\n",
      "242/242 [==============================] - 0s 714us/step - loss: 0.3503 - val_loss: 0.3679\n",
      "Epoch 25/100\n",
      "242/242 [==============================] - 0s 726us/step - loss: 0.3486 - val_loss: 0.3796\n",
      "Epoch 26/100\n",
      "242/242 [==============================] - 0s 842us/step - loss: 0.3392 - val_loss: 0.3614\n",
      "Epoch 27/100\n",
      "242/242 [==============================] - 0s 747us/step - loss: 0.3567 - val_loss: 0.3639\n",
      "Epoch 28/100\n",
      "242/242 [==============================] - 0s 759us/step - loss: 0.3458 - val_loss: 0.3727\n",
      "Epoch 29/100\n",
      "242/242 [==============================] - 0s 743us/step - loss: 0.3460 - val_loss: 0.3736\n",
      "Epoch 30/100\n",
      "242/242 [==============================] - 0s 718us/step - loss: 0.3413 - val_loss: 0.3584\n",
      "Epoch 31/100\n",
      "242/242 [==============================] - 0s 817us/step - loss: 0.3418 - val_loss: 0.3479\n",
      "Epoch 32/100\n",
      "242/242 [==============================] - 0s 747us/step - loss: 0.3313 - val_loss: 0.3440\n",
      "Epoch 33/100\n",
      "242/242 [==============================] - 0s 743us/step - loss: 0.3343 - val_loss: 0.3357\n",
      "Epoch 34/100\n",
      "242/242 [==============================] - 0s 730us/step - loss: 0.3327 - val_loss: 0.3444\n",
      "Epoch 35/100\n",
      "242/242 [==============================] - 0s 734us/step - loss: 0.3300 - val_loss: 0.3285\n",
      "Epoch 36/100\n",
      "242/242 [==============================] - 0s 734us/step - loss: 0.3276 - val_loss: 0.3482\n",
      "Epoch 37/100\n",
      "242/242 [==============================] - 0s 888us/step - loss: 0.3270 - val_loss: 0.3243\n",
      "Epoch 38/100\n",
      "242/242 [==============================] - 0s 730us/step - loss: 0.3358 - val_loss: 0.3493\n",
      "Epoch 39/100\n",
      "242/242 [==============================] - 0s 751us/step - loss: 0.3274 - val_loss: 0.3234\n",
      "Epoch 40/100\n",
      "242/242 [==============================] - 0s 776us/step - loss: 0.3133 - val_loss: 0.3429\n",
      "Epoch 41/100\n",
      "242/242 [==============================] - 0s 784us/step - loss: 0.3237 - val_loss: 0.3282\n",
      "Epoch 42/100\n",
      "242/242 [==============================] - 0s 896us/step - loss: 0.3262 - val_loss: 0.3236\n",
      "Epoch 43/100\n",
      "242/242 [==============================] - 0s 743us/step - loss: 0.3277 - val_loss: 0.3246\n",
      "Epoch 44/100\n",
      "242/242 [==============================] - 0s 1ms/step - loss: 0.3226 - val_loss: 0.3410\n",
      "Epoch 45/100\n",
      "242/242 [==============================] - 0s 900us/step - loss: 0.3315 - val_loss: 0.3236\n",
      "Epoch 46/100\n",
      "242/242 [==============================] - 0s 863us/step - loss: 0.3098 - val_loss: 0.3294\n",
      "Epoch 47/100\n",
      "242/242 [==============================] - 0s 734us/step - loss: 0.3200 - val_loss: 0.3368\n",
      "Epoch 48/100\n",
      "242/242 [==============================] - 0s 739us/step - loss: 0.3096 - val_loss: 0.3343\n",
      "Epoch 49/100\n",
      "242/242 [==============================] - 0s 759us/step - loss: 0.3297 - val_loss: 0.3173\n",
      "Epoch 50/100\n",
      "242/242 [==============================] - 0s 739us/step - loss: 0.3165 - val_loss: 0.3414\n",
      "Epoch 51/100\n",
      "242/242 [==============================] - 0s 759us/step - loss: 0.3042 - val_loss: 0.3386\n",
      "Epoch 52/100\n",
      "242/242 [==============================] - 0s 722us/step - loss: 0.3283 - val_loss: 0.3331\n",
      "Epoch 53/100\n",
      "242/242 [==============================] - 0s 718us/step - loss: 0.3120 - val_loss: 0.3262\n",
      "Epoch 54/100\n",
      "242/242 [==============================] - 0s 734us/step - loss: 0.3132 - val_loss: 0.3184\n",
      "Epoch 55/100\n",
      "242/242 [==============================] - 0s 730us/step - loss: 0.3083 - val_loss: 0.3237\n",
      "Epoch 56/100\n",
      "242/242 [==============================] - 0s 730us/step - loss: 0.3328 - val_loss: 0.3197\n",
      "Epoch 57/100\n",
      "242/242 [==============================] - 0s 730us/step - loss: 0.3165 - val_loss: 0.3317\n",
      "Epoch 58/100\n",
      "242/242 [==============================] - 0s 726us/step - loss: 0.3163 - val_loss: 0.3240\n",
      "Epoch 59/100\n",
      "242/242 [==============================] - 0s 743us/step - loss: 0.3182 - val_loss: 0.3102\n",
      "Epoch 60/100\n",
      "242/242 [==============================] - 0s 751us/step - loss: 0.3117 - val_loss: 0.3207\n",
      "Epoch 61/100\n",
      "242/242 [==============================] - 0s 755us/step - loss: 0.3022 - val_loss: 0.3261\n",
      "Epoch 62/100\n",
      "242/242 [==============================] - 0s 747us/step - loss: 0.3078 - val_loss: 0.3356\n",
      "Epoch 63/100\n",
      "242/242 [==============================] - 0s 726us/step - loss: 0.3146 - val_loss: 0.3113\n",
      "Epoch 64/100\n",
      "242/242 [==============================] - 0s 730us/step - loss: 0.3029 - val_loss: 0.3329\n",
      "Epoch 65/100\n",
      "242/242 [==============================] - 0s 734us/step - loss: 0.2935 - val_loss: 0.3244\n",
      "Epoch 66/100\n",
      "242/242 [==============================] - 0s 751us/step - loss: 0.3246 - val_loss: 0.3059\n",
      "Epoch 67/100\n",
      "242/242 [==============================] - 0s 755us/step - loss: 0.3108 - val_loss: 0.3231\n",
      "Epoch 68/100\n",
      "242/242 [==============================] - 0s 739us/step - loss: 0.3065 - val_loss: 0.3250\n",
      "Epoch 69/100\n",
      "242/242 [==============================] - 0s 718us/step - loss: 0.3052 - val_loss: 0.3158\n",
      "Epoch 70/100\n",
      "242/242 [==============================] - 0s 743us/step - loss: 0.3246 - val_loss: 0.3114\n",
      "Epoch 71/100\n",
      "242/242 [==============================] - 0s 722us/step - loss: 0.3097 - val_loss: 0.3195\n",
      "Epoch 72/100\n",
      "242/242 [==============================] - 0s 739us/step - loss: 0.3252 - val_loss: 0.3120\n",
      "Epoch 73/100\n",
      "242/242 [==============================] - 0s 743us/step - loss: 0.3121 - val_loss: 0.3047\n",
      "Epoch 74/100\n",
      "242/242 [==============================] - 0s 730us/step - loss: 0.3119 - val_loss: 0.3233\n",
      "Epoch 75/100\n",
      "242/242 [==============================] - 0s 726us/step - loss: 0.3035 - val_loss: 0.3107\n",
      "Epoch 76/100\n"
     ]
    },
    {
     "name": "stdout",
     "output_type": "stream",
     "text": [
      "242/242 [==============================] - 0s 734us/step - loss: 0.3037 - val_loss: 0.3151\n",
      "Epoch 77/100\n",
      "242/242 [==============================] - 0s 730us/step - loss: 0.2963 - val_loss: 0.3017\n",
      "Epoch 78/100\n",
      "242/242 [==============================] - 0s 734us/step - loss: 0.2949 - val_loss: 0.3221\n",
      "Epoch 79/100\n",
      "242/242 [==============================] - 0s 730us/step - loss: 0.3004 - val_loss: 0.3046\n",
      "Epoch 80/100\n",
      "242/242 [==============================] - 0s 722us/step - loss: 0.3011 - val_loss: 0.3125\n",
      "Epoch 81/100\n",
      "242/242 [==============================] - 0s 705us/step - loss: 0.2849 - val_loss: 0.3010\n",
      "Epoch 82/100\n",
      "242/242 [==============================] - 0s 730us/step - loss: 0.2887 - val_loss: 0.3379\n",
      "Epoch 83/100\n",
      "242/242 [==============================] - 0s 755us/step - loss: 0.2802 - val_loss: 0.2980\n",
      "Epoch 84/100\n",
      "242/242 [==============================] - 0s 734us/step - loss: 0.3056 - val_loss: 0.3537\n",
      "Epoch 85/100\n",
      "242/242 [==============================] - 0s 734us/step - loss: 0.3041 - val_loss: 0.2976\n",
      "Epoch 86/100\n",
      "242/242 [==============================] - 0s 726us/step - loss: 0.2857 - val_loss: 0.3239\n",
      "Epoch 87/100\n",
      "242/242 [==============================] - 0s 722us/step - loss: 0.2851 - val_loss: 0.3021\n",
      "Epoch 88/100\n",
      "242/242 [==============================] - 0s 739us/step - loss: 0.2985 - val_loss: 0.3215\n",
      "Epoch 89/100\n",
      "242/242 [==============================] - 0s 722us/step - loss: 0.2915 - val_loss: 0.2974\n",
      "Epoch 90/100\n",
      "242/242 [==============================] - 0s 743us/step - loss: 0.2834 - val_loss: 0.3185\n",
      "Epoch 91/100\n",
      "242/242 [==============================] - 0s 739us/step - loss: 0.3039 - val_loss: 0.2950\n",
      "Epoch 92/100\n",
      "242/242 [==============================] - 0s 734us/step - loss: 0.3094 - val_loss: 0.3171\n",
      "Epoch 93/100\n",
      "242/242 [==============================] - 0s 722us/step - loss: 0.3132 - val_loss: 0.2982\n",
      "Epoch 94/100\n",
      "242/242 [==============================] - 0s 755us/step - loss: 0.2999 - val_loss: 0.2946\n",
      "Epoch 95/100\n",
      "242/242 [==============================] - 0s 710us/step - loss: 0.2782 - val_loss: 0.3052\n",
      "Epoch 96/100\n",
      "242/242 [==============================] - 0s 730us/step - loss: 0.2868 - val_loss: 0.2966\n",
      "Epoch 97/100\n",
      "242/242 [==============================] - 0s 751us/step - loss: 0.2938 - val_loss: 0.3231\n",
      "Epoch 98/100\n",
      "242/242 [==============================] - 0s 788us/step - loss: 0.2913 - val_loss: 0.2903\n",
      "Epoch 99/100\n",
      "242/242 [==============================] - 0s 759us/step - loss: 0.2873 - val_loss: 0.3540\n",
      "Epoch 100/100\n",
      "242/242 [==============================] - 0s 759us/step - loss: 0.2918 - val_loss: 0.2961\n",
      "121/121 [==============================] - 0s 383us/step - loss: 0.3199\n",
      "[CV] END learning_rate=0.0033625641252688094, n_hidden=2, n_neurons=42; total time=  18.5s\n",
      "Epoch 1/100\n",
      "242/242 [==============================] - 0s 1ms/step - loss: 2.1569 - val_loss: 0.8642\n",
      "Epoch 2/100\n",
      "242/242 [==============================] - 0s 726us/step - loss: 0.6291 - val_loss: 0.7994\n",
      "Epoch 3/100\n",
      "242/242 [==============================] - 0s 726us/step - loss: 0.5353 - val_loss: 1.0803\n",
      "Epoch 4/100\n",
      "242/242 [==============================] - 0s 730us/step - loss: 0.5002 - val_loss: 1.1494\n",
      "Epoch 5/100\n",
      "242/242 [==============================] - 0s 722us/step - loss: 0.4735 - val_loss: 0.9498\n",
      "Epoch 6/100\n",
      "242/242 [==============================] - ETA: 0s - loss: 0.444 - 0s 743us/step - loss: 0.4442 - val_loss: 0.6208\n",
      "Epoch 7/100\n",
      "242/242 [==============================] - 0s 730us/step - loss: 0.4210 - val_loss: 0.4657\n",
      "Epoch 8/100\n",
      "242/242 [==============================] - 0s 730us/step - loss: 0.4193 - val_loss: 0.3888\n",
      "Epoch 9/100\n",
      "242/242 [==============================] - 0s 739us/step - loss: 0.4020 - val_loss: 0.4084\n",
      "Epoch 10/100\n",
      "242/242 [==============================] - 0s 726us/step - loss: 0.3975 - val_loss: 0.4312\n",
      "Epoch 11/100\n",
      "242/242 [==============================] - 0s 739us/step - loss: 0.3939 - val_loss: 0.5341\n",
      "Epoch 12/100\n",
      "242/242 [==============================] - 0s 726us/step - loss: 0.3730 - val_loss: 0.6081\n",
      "Epoch 13/100\n",
      "242/242 [==============================] - 0s 730us/step - loss: 0.3728 - val_loss: 0.7209\n",
      "Epoch 14/100\n",
      "242/242 [==============================] - 0s 751us/step - loss: 0.3594 - val_loss: 0.8821\n",
      "Epoch 15/100\n",
      "242/242 [==============================] - 0s 739us/step - loss: 0.3869 - val_loss: 0.9049\n",
      "Epoch 16/100\n",
      "242/242 [==============================] - 0s 730us/step - loss: 0.3657 - val_loss: 0.9792\n",
      "Epoch 17/100\n",
      "242/242 [==============================] - 0s 743us/step - loss: 0.3699 - val_loss: 0.9532\n",
      "Epoch 18/100\n",
      "242/242 [==============================] - 0s 730us/step - loss: 0.3774 - val_loss: 1.0397\n",
      "121/121 [==============================] - 0s 400us/step - loss: 0.3909\n",
      "[CV] END learning_rate=0.0033625641252688094, n_hidden=2, n_neurons=42; total time=   3.5s\n",
      "Epoch 1/100\n",
      "242/242 [==============================] - 0s 1ms/step - loss: 1.6995 - val_loss: 2.2824\n",
      "Epoch 2/100\n",
      "242/242 [==============================] - 0s 726us/step - loss: 0.7088 - val_loss: 2.5063\n",
      "Epoch 3/100\n",
      "242/242 [==============================] - 0s 743us/step - loss: 0.5980 - val_loss: 1.3345\n",
      "Epoch 4/100\n",
      "242/242 [==============================] - 0s 743us/step - loss: 0.5484 - val_loss: 1.8303\n",
      "Epoch 5/100\n",
      "242/242 [==============================] - 0s 751us/step - loss: 0.4788 - val_loss: 1.1690\n",
      "Epoch 6/100\n",
      "242/242 [==============================] - 0s 714us/step - loss: 0.4416 - val_loss: 1.0937\n",
      "Epoch 7/100\n",
      "242/242 [==============================] - 0s 739us/step - loss: 0.4296 - val_loss: 0.5393\n",
      "Epoch 8/100\n",
      "242/242 [==============================] - 0s 739us/step - loss: 0.4395 - val_loss: 0.5528\n",
      "Epoch 9/100\n",
      "242/242 [==============================] - 0s 726us/step - loss: 0.4101 - val_loss: 0.4217\n",
      "Epoch 10/100\n",
      "242/242 [==============================] - 0s 780us/step - loss: 0.4069 - val_loss: 0.3978\n",
      "Epoch 11/100\n",
      "242/242 [==============================] - 0s 817us/step - loss: 0.4052 - val_loss: 0.7642\n",
      "Epoch 12/100\n",
      "242/242 [==============================] - 0s 759us/step - loss: 0.3847 - val_loss: 0.3953\n",
      "Epoch 13/100\n",
      "242/242 [==============================] - 0s 768us/step - loss: 0.3598 - val_loss: 0.3690\n",
      "Epoch 14/100\n",
      "242/242 [==============================] - 0s 763us/step - loss: 0.3651 - val_loss: 0.6782\n",
      "Epoch 15/100\n",
      "242/242 [==============================] - 0s 759us/step - loss: 0.3875 - val_loss: 0.5137\n",
      "Epoch 16/100\n",
      "242/242 [==============================] - 0s 751us/step - loss: 0.3783 - val_loss: 1.5716\n",
      "Epoch 17/100\n",
      "242/242 [==============================] - 0s 747us/step - loss: 0.3612 - val_loss: 1.5438\n",
      "Epoch 18/100\n",
      "242/242 [==============================] - 0s 784us/step - loss: 0.3768 - val_loss: 2.5256\n",
      "Epoch 19/100\n",
      "242/242 [==============================] - 0s 780us/step - loss: 0.4469 - val_loss: 1.2077\n",
      "Epoch 20/100\n",
      "242/242 [==============================] - 0s 768us/step - loss: 0.3835 - val_loss: 0.8839\n",
      "Epoch 21/100\n",
      "242/242 [==============================] - 0s 817us/step - loss: 0.3575 - val_loss: 0.3408\n",
      "Epoch 22/100\n",
      "242/242 [==============================] - 0s 768us/step - loss: 0.3744 - val_loss: 0.3928\n",
      "Epoch 23/100\n",
      "242/242 [==============================] - 0s 738us/step - loss: 0.3562 - val_loss: 0.3411\n",
      "Epoch 24/100\n",
      "242/242 [==============================] - 0s 747us/step - loss: 0.3505 - val_loss: 0.4823\n",
      "Epoch 25/100\n",
      "242/242 [==============================] - 0s 755us/step - loss: 0.3463 - val_loss: 0.3589\n",
      "Epoch 26/100\n",
      "242/242 [==============================] - 0s 730us/step - loss: 0.3505 - val_loss: 0.3810\n",
      "Epoch 27/100\n",
      "242/242 [==============================] - 0s 747us/step - loss: 0.3626 - val_loss: 0.4593\n",
      "Epoch 28/100\n",
      "242/242 [==============================] - 0s 743us/step - loss: 0.3593 - val_loss: 0.3360\n",
      "Epoch 29/100\n",
      "242/242 [==============================] - 0s 718us/step - loss: 0.3502 - val_loss: 0.4983\n",
      "Epoch 30/100\n",
      "242/242 [==============================] - 0s 730us/step - loss: 0.3481 - val_loss: 0.3747\n",
      "Epoch 31/100\n",
      "242/242 [==============================] - 0s 747us/step - loss: 0.3388 - val_loss: 0.4128\n",
      "Epoch 32/100\n",
      "242/242 [==============================] - 0s 826us/step - loss: 0.3576 - val_loss: 0.5465\n",
      "Epoch 33/100\n"
     ]
    },
    {
     "name": "stdout",
     "output_type": "stream",
     "text": [
      "242/242 [==============================] - 0s 710us/step - loss: 0.3469 - val_loss: 0.3826\n",
      "Epoch 34/100\n",
      "242/242 [==============================] - 0s 730us/step - loss: 0.3338 - val_loss: 0.5040\n",
      "Epoch 35/100\n",
      "242/242 [==============================] - 0s 735us/step - loss: 0.3414 - val_loss: 0.3439\n",
      "Epoch 36/100\n",
      "242/242 [==============================] - 0s 743us/step - loss: 0.3287 - val_loss: 0.4821\n",
      "Epoch 37/100\n",
      "242/242 [==============================] - 0s 759us/step - loss: 0.3391 - val_loss: 0.3595\n",
      "Epoch 38/100\n",
      "242/242 [==============================] - 0s 730us/step - loss: 0.3428 - val_loss: 0.6279\n",
      "121/121 [==============================] - 0s 400us/step - loss: 0.3388\n",
      "[CV] END learning_rate=0.0033625641252688094, n_hidden=2, n_neurons=42; total time=   7.3s\n"
     ]
    },
    {
     "ename": "RuntimeError",
     "evalue": "Cannot clone object <tensorflow.python.keras.wrappers.scikit_learn.KerasRegressor object at 0x00000245099F2520>, as the constructor either does not set or modifies parameter learning_rate",
     "output_type": "error",
     "traceback": [
      "\u001b[1;31m---------------------------------------------------------------------------\u001b[0m",
      "\u001b[1;31mRuntimeError\u001b[0m                              Traceback (most recent call last)",
      "\u001b[1;32m<ipython-input-100-5ae18773bdf6>\u001b[0m in \u001b[0;36m<module>\u001b[1;34m\u001b[0m\n\u001b[0;32m      9\u001b[0m \u001b[1;33m\u001b[0m\u001b[0m\n\u001b[0;32m     10\u001b[0m \u001b[0mrnd_search_cv\u001b[0m \u001b[1;33m=\u001b[0m \u001b[0mRandomizedSearchCV\u001b[0m\u001b[1;33m(\u001b[0m\u001b[0mkeras_reg\u001b[0m\u001b[1;33m,\u001b[0m \u001b[0mparam_distribs\u001b[0m\u001b[1;33m,\u001b[0m \u001b[0mn_iter\u001b[0m\u001b[1;33m=\u001b[0m\u001b[1;36m10\u001b[0m\u001b[1;33m,\u001b[0m \u001b[0mcv\u001b[0m\u001b[1;33m=\u001b[0m\u001b[1;36m3\u001b[0m\u001b[1;33m,\u001b[0m \u001b[0mverbose\u001b[0m\u001b[1;33m=\u001b[0m\u001b[1;36m2\u001b[0m\u001b[1;33m)\u001b[0m\u001b[1;33m\u001b[0m\u001b[1;33m\u001b[0m\u001b[0m\n\u001b[1;32m---> 11\u001b[1;33m rnd_search_cv.fit(X_train, y_train, epochs=100,\n\u001b[0m\u001b[0;32m     12\u001b[0m                   \u001b[0mvalidation_data\u001b[0m\u001b[1;33m=\u001b[0m\u001b[1;33m(\u001b[0m\u001b[0mX_valid\u001b[0m\u001b[1;33m,\u001b[0m \u001b[0my_valid\u001b[0m\u001b[1;33m)\u001b[0m\u001b[1;33m,\u001b[0m\u001b[1;33m\u001b[0m\u001b[1;33m\u001b[0m\u001b[0m\n\u001b[0;32m     13\u001b[0m                   callbacks=[keras.callbacks.EarlyStopping(patience=10)])\n",
      "\u001b[1;32mf:\\python38\\lib\\site-packages\\sklearn\\utils\\validation.py\u001b[0m in \u001b[0;36minner_f\u001b[1;34m(*args, **kwargs)\u001b[0m\n\u001b[0;32m     61\u001b[0m             \u001b[0mextra_args\u001b[0m \u001b[1;33m=\u001b[0m \u001b[0mlen\u001b[0m\u001b[1;33m(\u001b[0m\u001b[0margs\u001b[0m\u001b[1;33m)\u001b[0m \u001b[1;33m-\u001b[0m \u001b[0mlen\u001b[0m\u001b[1;33m(\u001b[0m\u001b[0mall_args\u001b[0m\u001b[1;33m)\u001b[0m\u001b[1;33m\u001b[0m\u001b[1;33m\u001b[0m\u001b[0m\n\u001b[0;32m     62\u001b[0m             \u001b[1;32mif\u001b[0m \u001b[0mextra_args\u001b[0m \u001b[1;33m<=\u001b[0m \u001b[1;36m0\u001b[0m\u001b[1;33m:\u001b[0m\u001b[1;33m\u001b[0m\u001b[1;33m\u001b[0m\u001b[0m\n\u001b[1;32m---> 63\u001b[1;33m                 \u001b[1;32mreturn\u001b[0m \u001b[0mf\u001b[0m\u001b[1;33m(\u001b[0m\u001b[1;33m*\u001b[0m\u001b[0margs\u001b[0m\u001b[1;33m,\u001b[0m \u001b[1;33m**\u001b[0m\u001b[0mkwargs\u001b[0m\u001b[1;33m)\u001b[0m\u001b[1;33m\u001b[0m\u001b[1;33m\u001b[0m\u001b[0m\n\u001b[0m\u001b[0;32m     64\u001b[0m \u001b[1;33m\u001b[0m\u001b[0m\n\u001b[0;32m     65\u001b[0m             \u001b[1;31m# extra_args > 0\u001b[0m\u001b[1;33m\u001b[0m\u001b[1;33m\u001b[0m\u001b[1;33m\u001b[0m\u001b[0m\n",
      "\u001b[1;32mf:\\python38\\lib\\site-packages\\sklearn\\model_selection\\_search.py\u001b[0m in \u001b[0;36mfit\u001b[1;34m(self, X, y, groups, **fit_params)\u001b[0m\n\u001b[0;32m    874\u001b[0m             \u001b[1;31m# we clone again after setting params in case some\u001b[0m\u001b[1;33m\u001b[0m\u001b[1;33m\u001b[0m\u001b[1;33m\u001b[0m\u001b[0m\n\u001b[0;32m    875\u001b[0m             \u001b[1;31m# of the params are estimators as well.\u001b[0m\u001b[1;33m\u001b[0m\u001b[1;33m\u001b[0m\u001b[1;33m\u001b[0m\u001b[0m\n\u001b[1;32m--> 876\u001b[1;33m             self.best_estimator_ = clone(clone(base_estimator).set_params(\n\u001b[0m\u001b[0;32m    877\u001b[0m                 **self.best_params_))\n\u001b[0;32m    878\u001b[0m             \u001b[0mrefit_start_time\u001b[0m \u001b[1;33m=\u001b[0m \u001b[0mtime\u001b[0m\u001b[1;33m.\u001b[0m\u001b[0mtime\u001b[0m\u001b[1;33m(\u001b[0m\u001b[1;33m)\u001b[0m\u001b[1;33m\u001b[0m\u001b[1;33m\u001b[0m\u001b[0m\n",
      "\u001b[1;32mf:\\python38\\lib\\site-packages\\sklearn\\utils\\validation.py\u001b[0m in \u001b[0;36minner_f\u001b[1;34m(*args, **kwargs)\u001b[0m\n\u001b[0;32m     61\u001b[0m             \u001b[0mextra_args\u001b[0m \u001b[1;33m=\u001b[0m \u001b[0mlen\u001b[0m\u001b[1;33m(\u001b[0m\u001b[0margs\u001b[0m\u001b[1;33m)\u001b[0m \u001b[1;33m-\u001b[0m \u001b[0mlen\u001b[0m\u001b[1;33m(\u001b[0m\u001b[0mall_args\u001b[0m\u001b[1;33m)\u001b[0m\u001b[1;33m\u001b[0m\u001b[1;33m\u001b[0m\u001b[0m\n\u001b[0;32m     62\u001b[0m             \u001b[1;32mif\u001b[0m \u001b[0mextra_args\u001b[0m \u001b[1;33m<=\u001b[0m \u001b[1;36m0\u001b[0m\u001b[1;33m:\u001b[0m\u001b[1;33m\u001b[0m\u001b[1;33m\u001b[0m\u001b[0m\n\u001b[1;32m---> 63\u001b[1;33m                 \u001b[1;32mreturn\u001b[0m \u001b[0mf\u001b[0m\u001b[1;33m(\u001b[0m\u001b[1;33m*\u001b[0m\u001b[0margs\u001b[0m\u001b[1;33m,\u001b[0m \u001b[1;33m**\u001b[0m\u001b[0mkwargs\u001b[0m\u001b[1;33m)\u001b[0m\u001b[1;33m\u001b[0m\u001b[1;33m\u001b[0m\u001b[0m\n\u001b[0m\u001b[0;32m     64\u001b[0m \u001b[1;33m\u001b[0m\u001b[0m\n\u001b[0;32m     65\u001b[0m             \u001b[1;31m# extra_args > 0\u001b[0m\u001b[1;33m\u001b[0m\u001b[1;33m\u001b[0m\u001b[1;33m\u001b[0m\u001b[0m\n",
      "\u001b[1;32mf:\\python38\\lib\\site-packages\\sklearn\\base.py\u001b[0m in \u001b[0;36mclone\u001b[1;34m(estimator, safe)\u001b[0m\n\u001b[0;32m     83\u001b[0m         \u001b[0mparam2\u001b[0m \u001b[1;33m=\u001b[0m \u001b[0mparams_set\u001b[0m\u001b[1;33m[\u001b[0m\u001b[0mname\u001b[0m\u001b[1;33m]\u001b[0m\u001b[1;33m\u001b[0m\u001b[1;33m\u001b[0m\u001b[0m\n\u001b[0;32m     84\u001b[0m         \u001b[1;32mif\u001b[0m \u001b[0mparam1\u001b[0m \u001b[1;32mis\u001b[0m \u001b[1;32mnot\u001b[0m \u001b[0mparam2\u001b[0m\u001b[1;33m:\u001b[0m\u001b[1;33m\u001b[0m\u001b[1;33m\u001b[0m\u001b[0m\n\u001b[1;32m---> 85\u001b[1;33m             raise RuntimeError('Cannot clone object %s, as the constructor '\n\u001b[0m\u001b[0;32m     86\u001b[0m                                \u001b[1;34m'either does not set or modifies parameter %s'\u001b[0m \u001b[1;33m%\u001b[0m\u001b[1;33m\u001b[0m\u001b[1;33m\u001b[0m\u001b[0m\n\u001b[0;32m     87\u001b[0m                                (estimator, name))\n",
      "\u001b[1;31mRuntimeError\u001b[0m: Cannot clone object <tensorflow.python.keras.wrappers.scikit_learn.KerasRegressor object at 0x00000245099F2520>, as the constructor either does not set or modifies parameter learning_rate"
     ]
    }
   ],
   "source": [
    "from scipy.stats import reciprocal\n",
    "from sklearn.model_selection import RandomizedSearchCV\n",
    "\n",
    "param_distribs = {\n",
    "    \"n_hidden\": [0, 1, 2, 3],\n",
    "    \"n_neurons\": np.arange(1, 100),\n",
    "    \"learning_rate\": reciprocal(3e-4, 3e-2),\n",
    "}\n",
    "\n",
    "rnd_search_cv = RandomizedSearchCV(keras_reg, param_distribs, n_iter=10, cv=3, verbose=2)\n",
    "rnd_search_cv.fit(X_train, y_train, epochs=100,\n",
    "                  validation_data=(X_valid, y_valid),\n",
    "                  callbacks=[keras.callbacks.EarlyStopping(patience=10)])"
   ]
  },
  {
   "cell_type": "code",
   "execution_count": null,
   "metadata": {},
   "outputs": [],
   "source": [
    "rnd_search_cv.best_params_"
   ]
  },
  {
   "cell_type": "code",
   "execution_count": null,
   "metadata": {},
   "outputs": [],
   "source": [
    "rnd_search_cv.best_score_"
   ]
  },
  {
   "cell_type": "code",
   "execution_count": null,
   "metadata": {},
   "outputs": [],
   "source": [
    "rnd_search_cv.best_estimator_"
   ]
  },
  {
   "cell_type": "code",
   "execution_count": null,
   "metadata": {},
   "outputs": [],
   "source": [
    "rnd_search_cv.score(X_test, y_test)"
   ]
  },
  {
   "cell_type": "code",
   "execution_count": null,
   "metadata": {},
   "outputs": [],
   "source": [
    "model = rnd_search_cv.best_estimator_.model\n",
    "model"
   ]
  },
  {
   "cell_type": "code",
   "execution_count": null,
   "metadata": {
    "scrolled": true
   },
   "outputs": [],
   "source": [
    "model.evaluate(X_test, y_test)"
   ]
  },
  {
   "cell_type": "markdown",
   "metadata": {},
   "source": [
    "# Exercise solutions"
   ]
  },
  {
   "cell_type": "markdown",
   "metadata": {},
   "source": [
    "## 1. to 9."
   ]
  },
  {
   "cell_type": "markdown",
   "metadata": {},
   "source": [
    "See appendix A."
   ]
  },
  {
   "cell_type": "markdown",
   "metadata": {},
   "source": [
    "## 10."
   ]
  },
  {
   "cell_type": "markdown",
   "metadata": {},
   "source": [
    "*Exercise: Train a deep MLP on the MNIST dataset (you can load it using `keras.datasets.mnist.load_data()`. See if you can get over 98% precision. Try searching for the optimal learning rate by using the approach presented in this chapter (i.e., by growing the learning rate exponentially, plotting the loss, and finding the point where the loss shoots up). Try adding all the bells and whistles—save checkpoints, use early stopping, and plot learning curves using TensorBoard.*"
   ]
  },
  {
   "cell_type": "markdown",
   "metadata": {},
   "source": [
    "Let's load the dataset:"
   ]
  },
  {
   "cell_type": "code",
   "execution_count": null,
   "metadata": {},
   "outputs": [],
   "source": [
    "(X_train_full, y_train_full), (X_test, y_test) = keras.datasets.mnist.load_data()"
   ]
  },
  {
   "cell_type": "markdown",
   "metadata": {},
   "source": [
    "Just like for the Fashion MNIST dataset, the MNIST training set contains 60,000 grayscale images, each 28x28 pixels:"
   ]
  },
  {
   "cell_type": "code",
   "execution_count": null,
   "metadata": {},
   "outputs": [],
   "source": [
    "X_train_full.shape"
   ]
  },
  {
   "cell_type": "markdown",
   "metadata": {},
   "source": [
    "Each pixel intensity is also represented as a byte (0 to 255):"
   ]
  },
  {
   "cell_type": "code",
   "execution_count": null,
   "metadata": {},
   "outputs": [],
   "source": [
    "X_train_full.dtype"
   ]
  },
  {
   "cell_type": "markdown",
   "metadata": {},
   "source": [
    "Let's split the full training set into a validation set and a (smaller) training set. We also scale the pixel intensities down to the 0-1 range and convert them to floats, by dividing by 255, just like we did for Fashion MNIST:"
   ]
  },
  {
   "cell_type": "code",
   "execution_count": null,
   "metadata": {},
   "outputs": [],
   "source": [
    "X_valid, X_train = X_train_full[:5000] / 255., X_train_full[5000:] / 255.\n",
    "y_valid, y_train = y_train_full[:5000], y_train_full[5000:]\n",
    "X_test = X_test / 255."
   ]
  },
  {
   "cell_type": "markdown",
   "metadata": {},
   "source": [
    "Let's plot an image using Matplotlib's `imshow()` function, with a `'binary'`\n",
    " color map:"
   ]
  },
  {
   "cell_type": "code",
   "execution_count": null,
   "metadata": {},
   "outputs": [],
   "source": [
    "plt.imshow(X_train[0], cmap=\"binary\")\n",
    "plt.axis('off')\n",
    "plt.show()"
   ]
  },
  {
   "cell_type": "markdown",
   "metadata": {},
   "source": [
    "The labels are the class IDs (represented as uint8), from 0 to 9. Conveniently, the class IDs correspond to the digits represented in the images, so we don't need a `class_names` array:"
   ]
  },
  {
   "cell_type": "code",
   "execution_count": null,
   "metadata": {},
   "outputs": [],
   "source": [
    "y_train"
   ]
  },
  {
   "cell_type": "markdown",
   "metadata": {},
   "source": [
    "The validation set contains 5,000 images, and the test set contains 10,000 images:"
   ]
  },
  {
   "cell_type": "code",
   "execution_count": null,
   "metadata": {},
   "outputs": [],
   "source": [
    "X_valid.shape"
   ]
  },
  {
   "cell_type": "code",
   "execution_count": null,
   "metadata": {},
   "outputs": [],
   "source": [
    "X_test.shape"
   ]
  },
  {
   "cell_type": "markdown",
   "metadata": {},
   "source": [
    "Let's take a look at a sample of the images in the dataset:"
   ]
  },
  {
   "cell_type": "code",
   "execution_count": null,
   "metadata": {},
   "outputs": [],
   "source": [
    "n_rows = 4\n",
    "n_cols = 10\n",
    "plt.figure(figsize=(n_cols * 1.2, n_rows * 1.2))\n",
    "for row in range(n_rows):\n",
    "    for col in range(n_cols):\n",
    "        index = n_cols * row + col\n",
    "        plt.subplot(n_rows, n_cols, index + 1)\n",
    "        plt.imshow(X_train[index], cmap=\"binary\", interpolation=\"nearest\")\n",
    "        plt.axis('off')\n",
    "        plt.title(y_train[index], fontsize=12)\n",
    "plt.subplots_adjust(wspace=0.2, hspace=0.5)\n",
    "plt.show()"
   ]
  },
  {
   "cell_type": "markdown",
   "metadata": {},
   "source": [
    "Let's build a simple dense network and find the optimal learning rate. We will need a callback to grow the learning rate at each iteration. It will also record the learning rate and the loss at each iteration:"
   ]
  },
  {
   "cell_type": "code",
   "execution_count": null,
   "metadata": {},
   "outputs": [],
   "source": [
    "K = keras.backend\n",
    "\n",
    "class ExponentialLearningRate(keras.callbacks.Callback):\n",
    "    def __init__(self, factor):\n",
    "        self.factor = factor\n",
    "        self.rates = []\n",
    "        self.losses = []\n",
    "    def on_batch_end(self, batch, logs):\n",
    "        self.rates.append(K.get_value(self.model.optimizer.lr))\n",
    "        self.losses.append(logs[\"loss\"])\n",
    "        K.set_value(self.model.optimizer.lr, self.model.optimizer.lr * self.factor)"
   ]
  },
  {
   "cell_type": "code",
   "execution_count": null,
   "metadata": {},
   "outputs": [],
   "source": [
    "keras.backend.clear_session()\n",
    "np.random.seed(42)\n",
    "tf.random.set_seed(42)"
   ]
  },
  {
   "cell_type": "code",
   "execution_count": null,
   "metadata": {},
   "outputs": [],
   "source": [
    "model = keras.models.Sequential([\n",
    "    keras.layers.Flatten(input_shape=[28, 28]),\n",
    "    keras.layers.Dense(300, activation=\"relu\"),\n",
    "    keras.layers.Dense(100, activation=\"relu\"),\n",
    "    keras.layers.Dense(10, activation=\"softmax\")\n",
    "])"
   ]
  },
  {
   "cell_type": "markdown",
   "metadata": {},
   "source": [
    "We will start with a small learning rate of 1e-3, and grow it by 0.5% at each iteration:"
   ]
  },
  {
   "cell_type": "code",
   "execution_count": null,
   "metadata": {},
   "outputs": [],
   "source": [
    "model.compile(loss=\"sparse_categorical_crossentropy\",\n",
    "              optimizer=keras.optimizers.SGD(lr=1e-3),\n",
    "              metrics=[\"accuracy\"])\n",
    "expon_lr = ExponentialLearningRate(factor=1.005)"
   ]
  },
  {
   "cell_type": "markdown",
   "metadata": {},
   "source": [
    "Now let's train the model for just 1 epoch:"
   ]
  },
  {
   "cell_type": "code",
   "execution_count": null,
   "metadata": {},
   "outputs": [],
   "source": [
    "history = model.fit(X_train, y_train, epochs=1,\n",
    "                    validation_data=(X_valid, y_valid),\n",
    "                    callbacks=[expon_lr])"
   ]
  },
  {
   "cell_type": "markdown",
   "metadata": {},
   "source": [
    "We can now plot the loss as a functionof the learning rate:"
   ]
  },
  {
   "cell_type": "code",
   "execution_count": null,
   "metadata": {},
   "outputs": [],
   "source": [
    "plt.plot(expon_lr.rates, expon_lr.losses)\n",
    "plt.gca().set_xscale('log')\n",
    "plt.hlines(min(expon_lr.losses), min(expon_lr.rates), max(expon_lr.rates))\n",
    "plt.axis([min(expon_lr.rates), max(expon_lr.rates), 0, expon_lr.losses[0]])\n",
    "plt.xlabel(\"Learning rate\")\n",
    "plt.ylabel(\"Loss\")"
   ]
  },
  {
   "cell_type": "markdown",
   "metadata": {},
   "source": [
    "The loss starts shooting back up violently around 3e-1, so let's try using 2e-1 as our learning rate:"
   ]
  },
  {
   "cell_type": "code",
   "execution_count": null,
   "metadata": {},
   "outputs": [],
   "source": [
    "keras.backend.clear_session()\n",
    "np.random.seed(42)\n",
    "tf.random.set_seed(42)"
   ]
  },
  {
   "cell_type": "code",
   "execution_count": null,
   "metadata": {},
   "outputs": [],
   "source": [
    "model = keras.models.Sequential([\n",
    "    keras.layers.Flatten(input_shape=[28, 28]),\n",
    "    keras.layers.Dense(300, activation=\"relu\"),\n",
    "    keras.layers.Dense(100, activation=\"relu\"),\n",
    "    keras.layers.Dense(10, activation=\"softmax\")\n",
    "])"
   ]
  },
  {
   "cell_type": "code",
   "execution_count": null,
   "metadata": {},
   "outputs": [],
   "source": [
    "model.compile(loss=\"sparse_categorical_crossentropy\",\n",
    "              optimizer=keras.optimizers.SGD(lr=2e-1),\n",
    "              metrics=[\"accuracy\"])"
   ]
  },
  {
   "cell_type": "code",
   "execution_count": null,
   "metadata": {},
   "outputs": [],
   "source": [
    "run_index = 1 # increment this at every run\n",
    "run_logdir = os.path.join(os.curdir, \"my_mnist_logs\", \"run_{:03d}\".format(run_index))\n",
    "run_logdir"
   ]
  },
  {
   "cell_type": "code",
   "execution_count": null,
   "metadata": {},
   "outputs": [],
   "source": [
    "early_stopping_cb = keras.callbacks.EarlyStopping(patience=20)\n",
    "checkpoint_cb = keras.callbacks.ModelCheckpoint(\"my_mnist_model.h5\", save_best_only=True)\n",
    "tensorboard_cb = keras.callbacks.TensorBoard(run_logdir)\n",
    "\n",
    "history = model.fit(X_train, y_train, epochs=100,\n",
    "                    validation_data=(X_valid, y_valid),\n",
    "                    callbacks=[early_stopping_cb, checkpoint_cb, tensorboard_cb])"
   ]
  },
  {
   "cell_type": "code",
   "execution_count": null,
   "metadata": {},
   "outputs": [],
   "source": [
    "model = keras.models.load_model(\"my_mnist_model.h5\") # rollback to best model\n",
    "model.evaluate(X_test, y_test)"
   ]
  },
  {
   "cell_type": "markdown",
   "metadata": {},
   "source": [
    "We got over 98% accuracy. Finally, let's look at the learning curves using TensorBoard:"
   ]
  },
  {
   "cell_type": "code",
   "execution_count": null,
   "metadata": {},
   "outputs": [],
   "source": [
    "%tensorboard --logdir=./my_mnist_logs --port=6006"
   ]
  },
  {
   "cell_type": "code",
   "execution_count": null,
   "metadata": {},
   "outputs": [],
   "source": []
  }
 ],
 "metadata": {
  "kernelspec": {
   "display_name": "Python 3",
   "language": "python",
   "name": "python3"
  },
  "language_info": {
   "codemirror_mode": {
    "name": "ipython",
    "version": 3
   },
   "file_extension": ".py",
   "mimetype": "text/x-python",
   "name": "python",
   "nbconvert_exporter": "python",
   "pygments_lexer": "ipython3",
   "version": "3.8.7"
  },
  "nav_menu": {
   "height": "264px",
   "width": "369px"
  },
  "toc": {
   "navigate_menu": true,
   "number_sections": true,
   "sideBar": true,
   "threshold": 6,
   "toc_cell": false,
   "toc_section_display": "block",
   "toc_window_display": false
  }
 },
 "nbformat": 4,
 "nbformat_minor": 4
}
